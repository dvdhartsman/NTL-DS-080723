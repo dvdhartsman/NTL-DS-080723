{
 "cells": [
  {
   "cell_type": "markdown",
   "metadata": {
    "heading_collapsed": true,
    "slideshow": {
     "slide_type": "slide"
    }
   },
   "source": [
    "# Regularization and Evaluation of Neural Networks"
   ]
  },
  {
   "cell_type": "markdown",
   "metadata": {
    "hidden": true
   },
   "source": [
    "<a href=\"https://colab.research.google.com/github/flatiron-school/NTL01-DTSC-LIVE-040323/blob/main/4phase/63-network_regularization_and_evaluation.ipynb\" \n",
    "target=\"_parent\"><img src=\"https://colab.research.google.com/assets/colab-badge.svg\" alt=\"Open In Colab\"/></a>"
   ]
  },
  {
   "cell_type": "code",
   "execution_count": 8,
   "metadata": {},
   "outputs": [],
   "source": [
    "from tensorflow.keras.models import Sequential"
   ]
  },
  {
   "cell_type": "code",
   "execution_count": 9,
   "metadata": {
    "ExecuteTime": {
     "end_time": "2023-10-16T03:20:10.137492Z",
     "start_time": "2023-10-16T03:20:10.024487Z"
    },
    "hidden": true,
    "scrolled": true
   },
   "outputs": [
    {
     "name": "stdout",
     "output_type": "stream",
     "text": [
      "The autoreload extension is already loaded. To reload it, use:\n",
      "  %reload_ext autoreload\n"
     ]
    }
   ],
   "source": [
    "from sklearn.datasets import load_sample_images\n",
    "from sklearn.datasets import load_digits\n",
    "from sklearn.model_selection import train_test_split, cross_val_score\n",
    "from sklearn.preprocessing import OneHotEncoder\n",
    "from sklearn.metrics import accuracy_score, confusion_matrix\n",
    "import matplotlib.pyplot as plt\n",
    "import matplotlib.image as mpimg\n",
    "import numpy as np\n",
    "import seaborn as sns\n",
    "\n",
    "\n",
    "from tensorflow.keras.models import Sequential\n",
    "from tensorflow.keras.layers import Dense, Dropout\n",
    "from tensorflow.keras.regularizers import l2\n",
    "from tensorflow.keras.optimizers import SGD\n",
    "from tensorflow.keras.wrappers import scikit_learn\n",
    "from tensorflow.keras.callbacks import EarlyStopping\n",
    "from tensorflow.keras.metrics import Precision\n",
    "\n",
    "from scikeras.wrappers import KerasClassifier\n",
    "\n",
    "import os\n",
    "import sys\n",
    "module_path = os.path.abspath(os.path.join(os.pardir, os.pardir))\n",
    "if module_path not in sys.path:\n",
    "    sys.path.append(module_path)\n",
    "    \n",
    "%load_ext autoreload\n",
    "%autoreload 2"
   ]
  },
  {
   "cell_type": "code",
   "execution_count": 10,
   "metadata": {
    "ExecuteTime": {
     "end_time": "2023-10-16T02:54:41.782248Z",
     "start_time": "2023-10-16T02:54:41.673248Z"
    },
    "hidden": true
   },
   "outputs": [],
   "source": [
    "# !pip install scikeras"
   ]
  },
  {
   "cell_type": "code",
   "execution_count": 11,
   "metadata": {
    "ExecuteTime": {
     "end_time": "2023-10-16T03:20:14.203343Z",
     "start_time": "2023-10-16T03:20:14.056343Z"
    },
    "hidden": true
   },
   "outputs": [
    {
     "name": "stdout",
     "output_type": "stream",
     "text": [
      "Num GPUs Available:  0\n"
     ]
    }
   ],
   "source": [
    "import tensorflow as tf\n",
    "print(\"Num GPUs Available: \", len(tf.config.list_physical_devices('GPU')))"
   ]
  },
  {
   "cell_type": "markdown",
   "metadata": {
    "heading_collapsed": true,
    "hidden": true
   },
   "source": [
    "## Learning Objectives\n",
    "\n",
    "- use `keras` to code up a neural network model;\n",
    "- explain dropout and early stopping as distinctive forms of regularization in neural networks;\n",
    "- use wrappers inside `keras` to make models that can jibe with `sklearn`."
   ]
  },
  {
   "cell_type": "markdown",
   "metadata": {
    "heading_collapsed": true,
    "hidden": true
   },
   "source": [
    "### From last time"
   ]
  },
  {
   "cell_type": "code",
   "execution_count": 73,
   "metadata": {},
   "outputs": [],
   "source": [
    "### we load the data .astype('float32') to save memory and gain computational speed"
   ]
  },
  {
   "cell_type": "code",
   "execution_count": 74,
   "metadata": {
    "ExecuteTime": {
     "end_time": "2023-10-16T02:54:43.259941Z",
     "start_time": "2023-10-16T02:54:43.088110Z"
    },
    "hidden": true
   },
   "outputs": [],
   "source": [
    "# same low-res grayscale images of digits 0-9\n",
    "digits = load_digits()\n",
    "X = digits.data.astype('float32')\n",
    "y = digits.target.astype('float32')\n",
    "\n",
    "y_binary = y % 2"
   ]
  },
  {
   "cell_type": "code",
   "execution_count": 75,
   "metadata": {},
   "outputs": [
    {
     "data": {
      "text/plain": [
       "array([ 0.,  0.,  5., 13.,  9.,  1.,  0.,  0.,  0.,  0., 13., 15., 10.,\n",
       "       15.,  5.,  0.,  0.,  3., 15.,  2.,  0., 11.,  8.,  0.,  0.,  4.,\n",
       "       12.,  0.,  0.,  8.,  8.,  0.,  0.,  5.,  8.,  0.,  0.,  9.,  8.,\n",
       "        0.,  0.,  4., 11.,  0.,  1., 12.,  7.,  0.,  0.,  2., 14.,  5.,\n",
       "       10., 12.,  0.,  0.,  0.,  0.,  6., 13., 10.,  0.,  0.,  0.],\n",
       "      dtype=float32)"
      ]
     },
     "execution_count": 75,
     "metadata": {},
     "output_type": "execute_result"
    }
   ],
   "source": [
    "X[0]  # this is the \"float32\" output"
   ]
  },
  {
   "cell_type": "code",
   "execution_count": 70,
   "metadata": {},
   "outputs": [
    {
     "data": {
      "text/plain": [
       "array([ 0.,  0.,  5., 13.,  9.,  1.,  0.,  0.,  0.,  0., 13., 15., 10.,\n",
       "       15.,  5.,  0.,  0.,  3., 15.,  2.,  0., 11.,  8.,  0.,  0.,  4.,\n",
       "       12.,  0.,  0.,  8.,  8.,  0.,  0.,  5.,  8.,  0.,  0.,  9.,  8.,\n",
       "        0.,  0.,  4., 11.,  0.,  1., 12.,  7.,  0.,  0.,  2., 14.,  5.,\n",
       "       10., 12.,  0.,  0.,  0.,  0.,  6., 13., 10.,  0.,  0.,  0.])"
      ]
     },
     "execution_count": 70,
     "metadata": {},
     "output_type": "execute_result"
    }
   ],
   "source": [
    "# (64,) vector of bits for a grayscale image\n",
    "X[0]  # this is the \"float64\" output"
   ]
  },
  {
   "cell_type": "code",
   "execution_count": 15,
   "metadata": {
    "ExecuteTime": {
     "end_time": "2023-10-16T02:55:19.645649Z",
     "start_time": "2023-10-16T02:54:43.260913Z"
    },
    "hidden": true,
    "scrolled": false
   },
   "outputs": [
    {
     "name": "stdout",
     "output_type": "stream",
     "text": [
      "Epoch 1/50\n",
      "180/180 [==============================] - 1s 2ms/step - loss: 0.6592 - accuracy: 0.6344\n",
      "Epoch 2/50\n",
      "180/180 [==============================] - 0s 2ms/step - loss: 0.4957 - accuracy: 0.8258\n",
      "Epoch 3/50\n",
      "180/180 [==============================] - 0s 2ms/step - loss: 0.3343 - accuracy: 0.8859\n",
      "Epoch 4/50\n",
      "180/180 [==============================] - 0s 2ms/step - loss: 0.2498 - accuracy: 0.9043\n",
      "Epoch 5/50\n",
      "180/180 [==============================] - 0s 2ms/step - loss: 0.1991 - accuracy: 0.9265\n",
      "Epoch 6/50\n",
      "180/180 [==============================] - 0s 2ms/step - loss: 0.1705 - accuracy: 0.9338\n",
      "Epoch 7/50\n",
      "180/180 [==============================] - 0s 2ms/step - loss: 0.1481 - accuracy: 0.9438\n",
      "Epoch 8/50\n",
      "180/180 [==============================] - 0s 2ms/step - loss: 0.1327 - accuracy: 0.9488\n",
      "Epoch 9/50\n",
      "180/180 [==============================] - 0s 2ms/step - loss: 0.1200 - accuracy: 0.9555\n",
      "Epoch 10/50\n",
      "180/180 [==============================] - 0s 2ms/step - loss: 0.1109 - accuracy: 0.9577\n",
      "Epoch 11/50\n",
      "180/180 [==============================] - 0s 2ms/step - loss: 0.1003 - accuracy: 0.9583\n",
      "Epoch 12/50\n",
      "180/180 [==============================] - 0s 1ms/step - loss: 0.0936 - accuracy: 0.9644\n",
      "Epoch 13/50\n",
      "180/180 [==============================] - 0s 2ms/step - loss: 0.0860 - accuracy: 0.9649\n",
      "Epoch 14/50\n",
      "180/180 [==============================] - 0s 2ms/step - loss: 0.0815 - accuracy: 0.9688\n",
      "Epoch 15/50\n",
      "180/180 [==============================] - 0s 2ms/step - loss: 0.0732 - accuracy: 0.9716\n",
      "Epoch 16/50\n",
      "180/180 [==============================] - 0s 2ms/step - loss: 0.0698 - accuracy: 0.9688\n",
      "Epoch 17/50\n",
      "180/180 [==============================] - 0s 2ms/step - loss: 0.0670 - accuracy: 0.9711\n",
      "Epoch 18/50\n",
      "180/180 [==============================] - 0s 2ms/step - loss: 0.0624 - accuracy: 0.9738\n",
      "Epoch 19/50\n",
      "180/180 [==============================] - 0s 2ms/step - loss: 0.0590 - accuracy: 0.9750\n",
      "Epoch 20/50\n",
      "180/180 [==============================] - 0s 1ms/step - loss: 0.0551 - accuracy: 0.9783\n",
      "Epoch 21/50\n",
      "180/180 [==============================] - 0s 2ms/step - loss: 0.0524 - accuracy: 0.9800\n",
      "Epoch 22/50\n",
      "180/180 [==============================] - 0s 2ms/step - loss: 0.0517 - accuracy: 0.9789\n",
      "Epoch 23/50\n",
      "180/180 [==============================] - 0s 2ms/step - loss: 0.0458 - accuracy: 0.9827\n",
      "Epoch 24/50\n",
      "180/180 [==============================] - 0s 2ms/step - loss: 0.0443 - accuracy: 0.9839\n",
      "Epoch 25/50\n",
      "180/180 [==============================] - 0s 2ms/step - loss: 0.0432 - accuracy: 0.9850\n",
      "Epoch 26/50\n",
      "180/180 [==============================] - 0s 2ms/step - loss: 0.0405 - accuracy: 0.9833\n",
      "Epoch 27/50\n",
      "180/180 [==============================] - 0s 2ms/step - loss: 0.0395 - accuracy: 0.9827\n",
      "Epoch 28/50\n",
      "180/180 [==============================] - 0s 2ms/step - loss: 0.0376 - accuracy: 0.9872\n",
      "Epoch 29/50\n",
      "180/180 [==============================] - 0s 2ms/step - loss: 0.0347 - accuracy: 0.9872\n",
      "Epoch 30/50\n",
      "180/180 [==============================] - 0s 2ms/step - loss: 0.0326 - accuracy: 0.9850\n",
      "Epoch 31/50\n",
      "180/180 [==============================] - 0s 2ms/step - loss: 0.0308 - accuracy: 0.9889\n",
      "Epoch 32/50\n",
      "180/180 [==============================] - 0s 2ms/step - loss: 0.0312 - accuracy: 0.9889\n",
      "Epoch 33/50\n",
      "180/180 [==============================] - 0s 2ms/step - loss: 0.0288 - accuracy: 0.9889\n",
      "Epoch 34/50\n",
      "180/180 [==============================] - 0s 2ms/step - loss: 0.0270 - accuracy: 0.9900\n",
      "Epoch 35/50\n",
      "180/180 [==============================] - 0s 3ms/step - loss: 0.0267 - accuracy: 0.9900\n",
      "Epoch 36/50\n",
      "180/180 [==============================] - 0s 3ms/step - loss: 0.0258 - accuracy: 0.9922\n",
      "Epoch 37/50\n",
      "180/180 [==============================] - 0s 2ms/step - loss: 0.0249 - accuracy: 0.9917\n",
      "Epoch 38/50\n",
      "180/180 [==============================] - 0s 2ms/step - loss: 0.0229 - accuracy: 0.9928\n",
      "Epoch 39/50\n",
      "180/180 [==============================] - 0s 2ms/step - loss: 0.0214 - accuracy: 0.9917\n",
      "Epoch 40/50\n",
      "180/180 [==============================] - 0s 2ms/step - loss: 0.0216 - accuracy: 0.9939\n",
      "Epoch 41/50\n",
      "180/180 [==============================] - 0s 2ms/step - loss: 0.0216 - accuracy: 0.9917\n",
      "Epoch 42/50\n",
      "180/180 [==============================] - 0s 2ms/step - loss: 0.0203 - accuracy: 0.9939\n",
      "Epoch 43/50\n",
      "180/180 [==============================] - 0s 2ms/step - loss: 0.0188 - accuracy: 0.9917\n",
      "Epoch 44/50\n",
      "180/180 [==============================] - 0s 2ms/step - loss: 0.0191 - accuracy: 0.9939\n",
      "Epoch 45/50\n",
      "180/180 [==============================] - 0s 2ms/step - loss: 0.0178 - accuracy: 0.9944\n",
      "Epoch 46/50\n",
      "180/180 [==============================] - 0s 2ms/step - loss: 0.0172 - accuracy: 0.9950\n",
      "Epoch 47/50\n",
      "180/180 [==============================] - 0s 2ms/step - loss: 0.0163 - accuracy: 0.9939\n",
      "Epoch 48/50\n",
      "180/180 [==============================] - 0s 2ms/step - loss: 0.0166 - accuracy: 0.9950\n",
      "Epoch 49/50\n",
      "180/180 [==============================] - 0s 2ms/step - loss: 0.0155 - accuracy: 0.9955\n",
      "Epoch 50/50\n",
      "180/180 [==============================] - 0s 2ms/step - loss: 0.0155 - accuracy: 0.9950\n"
     ]
    },
    {
     "data": {
      "text/plain": [
       "<keras.callbacks.History at 0x7f8990734430>"
      ]
     },
     "execution_count": 15,
     "metadata": {},
     "output_type": "execute_result"
    }
   ],
   "source": [
    "# from tensorflow.keras.models import Sequential\n",
    "\n",
    "# instantiate the model\n",
    "model = Sequential()\n",
    "\n",
    "# add our first hidden layer with 12 nodes, 'relu' (on/off) activaction function, dimensions must be (64,)\n",
    "model.add(Dense(12, activation='relu', input_dim=64))\n",
    "\n",
    "# add a second hidden layer with 8 nodes, same activation\n",
    "model.add(Dense(8, activation='relu'))\n",
    "\n",
    "# output layer, one node, activation is sigmoid because we are performing binary classification\n",
    "model.add(Dense(1, activation='sigmoid'))\n",
    "\n",
    "\n",
    "# The next step is new: After building the model we'll now **compile** it, which is a matter of yoking together \n",
    "# the architecture with:\n",
    "# - the optimizer we want to use, the loss function we want to use, and the metrics (can be multiple) we want to use.\n",
    "\n",
    "model.compile(optimizer='rmsprop',\n",
    "              loss='binary_crossentropy',\n",
    "              metrics=['accuracy'])\n",
    "\n",
    "# the data in fit need to be np.arrays, NOT PANDAS DF's\n",
    "model.fit(X, y_binary, epochs=50, batch_size=10)"
   ]
  },
  {
   "cell_type": "markdown",
   "metadata": {},
   "source": [
    "# IMPORTANT"
   ]
  },
  {
   "cell_type": "markdown",
   "metadata": {
    "heading_collapsed": true,
    "hidden": true
   },
   "source": [
    "### Things to know:"
   ]
  },
  {
   "cell_type": "markdown",
   "metadata": {
    "hidden": true
   },
   "source": [
    "- The data and labels in `fit()` need to be numpy arrays, not `pandas` dfs.\n",
    "- Scaling your data will have a large impact on your model.\n",
    "   > For our traditional input features, we would use a scaler object. For images, as long as the minimum value is 0, we can simply divide through by the maximum pixel intensity."
   ]
  },
  {
   "cell_type": "markdown",
   "metadata": {
    "heading_collapsed": true,
    "hidden": true
   },
   "source": [
    "#### Getting data ready for modeling"
   ]
  },
  {
   "cell_type": "markdown",
   "metadata": {
    "hidden": true
   },
   "source": [
    "**Preprocessing**:\n",
    "\n",
    "- use train_test_split to create X_train, y_train, X_test, and y_test\n",
    "- Split training data into pure_train and validation sets.\n",
    "- Scale the pixel intensity to a value between 0 and 1."
   ]
  },
  {
   "cell_type": "markdown",
   "metadata": {},
   "source": [
    "# SAME IDEA, IMPORTANT"
   ]
  },
  {
   "cell_type": "markdown",
   "metadata": {
    "hidden": true
   },
   "source": [
    "## SCALING FOR SPEED\n",
    "Scaling our input variables will help speed up our neural network.\n",
    "\n",
    "Since our minimum intensity is 0, we can normalize the inputs by dividing each value by the max value (16)."
   ]
  },
  {
   "cell_type": "code",
   "execution_count": 77,
   "metadata": {
    "ExecuteTime": {
     "end_time": "2023-10-16T02:55:19.772650Z",
     "start_time": "2023-10-16T02:55:19.646650Z"
    },
    "hidden": true
   },
   "outputs": [],
   "source": [
    "# SPLIT ON THE WHOLE DATA SET\n",
    "X_train, X_test, y_train, y_test =\\\n",
    "    train_test_split(X, y_binary, random_state=42, test_size=0.2)\n",
    "\n",
    "# SECONDARY SPLIT ON THE TRAIN DATA!!!! provides additional layer to validate against\n",
    "X_pure_train, X_val, y_pure_train, y_val =\\\n",
    "    train_test_split(X_train, y_train, random_state=42, test_size=0.2)\n",
    "\n",
    "\n",
    "# scaling the data in min/max fashion. BECAUSE min value is zero the operation is just x/max_val, ergo... /16\n",
    "# so all data will be scaled between 0 and 1 for this secondary validation set\n",
    "X_pure_train, X_val, X_test = X_pure_train/16, X_val/16, X_test/16"
   ]
  },
  {
   "cell_type": "markdown",
   "metadata": {
    "hidden": true
   },
   "source": [
    "For activation, let's start with the familiar sigmoid function, and see how it performs."
   ]
  },
  {
   "cell_type": "code",
   "execution_count": 78,
   "metadata": {
    "ExecuteTime": {
     "end_time": "2023-10-16T02:55:20.719649Z",
     "start_time": "2023-10-16T02:55:19.773650Z"
    },
    "hidden": true
   },
   "outputs": [
    {
     "name": "stdout",
     "output_type": "stream",
     "text": [
      "Epoch 1/10\n",
      "12/12 [==============================] - 1s 2ms/step - loss: 0.7294 - accuracy: 0.5039\n",
      "Epoch 2/10\n",
      "12/12 [==============================] - 0s 2ms/step - loss: 0.7222 - accuracy: 0.5039\n",
      "Epoch 3/10\n",
      "12/12 [==============================] - 0s 1ms/step - loss: 0.7165 - accuracy: 0.5039\n",
      "Epoch 4/10\n",
      "12/12 [==============================] - 0s 2ms/step - loss: 0.7116 - accuracy: 0.5039\n",
      "Epoch 5/10\n",
      "12/12 [==============================] - 0s 2ms/step - loss: 0.7082 - accuracy: 0.5039\n",
      "Epoch 6/10\n",
      "12/12 [==============================] - 0s 1ms/step - loss: 0.7055 - accuracy: 0.5039\n",
      "Epoch 7/10\n",
      "12/12 [==============================] - 0s 1ms/step - loss: 0.7032 - accuracy: 0.5039\n",
      "Epoch 8/10\n",
      "12/12 [==============================] - 0s 2ms/step - loss: 0.7015 - accuracy: 0.5039\n",
      "Epoch 9/10\n",
      "12/12 [==============================] - 0s 2ms/step - loss: 0.7002 - accuracy: 0.5039\n",
      "Epoch 10/10\n",
      "12/12 [==============================] - 0s 1ms/step - loss: 0.6992 - accuracy: 0.5039\n"
     ]
    }
   ],
   "source": [
    "# some lack of clarity on the exact import statement required\n",
    "# from tensorflow.keras.models import Sequential\n",
    "\n",
    "model = Sequential()\n",
    "\n",
    "# We will start with our trusty sigmoid function.\n",
    "# What does input dimension correspond to?\n",
    "model.add(Dense(12, activation='sigmoid', input_dim=64))\n",
    "model.add(Dense(8, activation='sigmoid'))\n",
    "model.add(Dense(1, activation='sigmoid'))\n",
    "\n",
    "model.compile(optimizer='SGD' ,\n",
    "              # We use binary_crossentropy for a binary loss function\n",
    "              loss='binary_crossentropy',\n",
    "              metrics=['accuracy'])\n",
    "\n",
    "# Assign the variable history to store the results,\n",
    "# and set verbose=1 so we can see the output. To see\n",
    "# only the metrics at the end of each epoch, set verbose=2.\n",
    "results = model.fit(X_pure_train, y_pure_train, epochs=10, batch_size=100, verbose=1)"
   ]
  },
  {
   "cell_type": "markdown",
   "metadata": {
    "hidden": true
   },
   "source": [
    "We can access the history of our model via `results.history`.\n",
    "Use __dict__ to take a tour."
   ]
  },
  {
   "cell_type": "code",
   "execution_count": 81,
   "metadata": {},
   "outputs": [],
   "source": [
    "# this is a huge list of hyperparameters and data types, not very useful atm\n",
    "# model.__dict__"
   ]
  },
  {
   "cell_type": "code",
   "execution_count": 82,
   "metadata": {
    "ExecuteTime": {
     "end_time": "2023-10-16T02:55:20.844649Z",
     "start_time": "2023-10-16T02:55:20.720649Z"
    },
    "hidden": true
   },
   "outputs": [
    {
     "data": {
      "text/plain": [
       "{'validation_data': None,\n",
       " 'model': <keras.engine.sequential.Sequential at 0x7f8994566fa0>,\n",
       " '_chief_worker_only': None,\n",
       " '_supports_tf_logs': False,\n",
       " 'history': {'loss': [0.729411780834198,\n",
       "   0.7222234010696411,\n",
       "   0.7165136933326721,\n",
       "   0.7116323709487915,\n",
       "   0.7082113027572632,\n",
       "   0.7055414915084839,\n",
       "   0.7032096982002258,\n",
       "   0.701483964920044,\n",
       "   0.7002209424972534,\n",
       "   0.6991596221923828],\n",
       "  'accuracy': [0.5039164423942566,\n",
       "   0.5039164423942566,\n",
       "   0.5039164423942566,\n",
       "   0.5039164423942566,\n",
       "   0.5039164423942566,\n",
       "   0.5039164423942566,\n",
       "   0.5039164423942566,\n",
       "   0.5039164423942566,\n",
       "   0.5039164423942566,\n",
       "   0.5039164423942566]},\n",
       " 'params': {'verbose': 1, 'epochs': 10, 'steps': 12},\n",
       " 'epoch': [0, 1, 2, 3, 4, 5, 6, 7, 8, 9]}"
      ]
     },
     "execution_count": 82,
     "metadata": {},
     "output_type": "execute_result"
    }
   ],
   "source": [
    "# results is the actual fitting of the model, and returns the dictionary of the loss and all metrics\n",
    "results.__dict__"
   ]
  },
  {
   "cell_type": "code",
   "execution_count": 84,
   "metadata": {},
   "outputs": [
    {
     "data": {
      "text/plain": [
       "[0, 1, 2, 3, 4, 5, 6, 7, 8, 9]"
      ]
     },
     "execution_count": 84,
     "metadata": {},
     "output_type": "execute_result"
    }
   ],
   "source": [
    "# will be used for the x values of plotting in the next cell, final key of the results.__dict__ above\n",
    "results.epoch"
   ]
  },
  {
   "cell_type": "code",
   "execution_count": 19,
   "metadata": {
    "ExecuteTime": {
     "end_time": "2023-10-16T02:55:21.221650Z",
     "start_time": "2023-10-16T02:55:20.847652Z"
    },
    "hidden": true
   },
   "outputs": [
    {
     "data": {
      "image/png": "[encoded data removed]",
      "text/plain": [
       "<Figure size 1000x500 with 2 Axes>"
      ]
     },
     "metadata": {},
     "output_type": "display_data"
    }
   ],
   "source": [
    "# Dictionary indexing into data, the key is 'loss' and the value is the list of 10 loss scores for each epoch\n",
    "sigmoid_loss = results.history['loss']\n",
    "\n",
    "# Dictionary entry containing 10 epoch's accuracy scores\n",
    "sigmoid_accuracy = results.history['accuracy']\n",
    "\n",
    "# plot with 1 row, 2 columns, \n",
    "fig, (ax1, ax2) = plt.subplots(1, 2, figsize=(10, 5))\n",
    "sns.lineplot(x=results.epoch, y=sigmoid_loss, ax=ax1, label='loss')\n",
    "sns.lineplot(x=results.epoch, y=sigmoid_accuracy, ax=ax2, label='accuracy');"
   ]
  },
  {
   "cell_type": "markdown",
   "metadata": {
    "hidden": true
   },
   "source": [
    "We have two plots above both relating to the quality of our model.  The left-hand plot is our loss. It uses the probabilities associated with our predictions to judge how well our prediction fits reality. We want it to decrease as far as possible.\n",
    "\n",
    "The accuracy judges how well the predictions are after applying the threshold at the output layer.  We want accuracy to increase."
   ]
  },
  {
   "cell_type": "markdown",
   "metadata": {
    "hidden": true
   },
   "source": [
    "If we look at our loss, it is still decreasing. That is a signal that our model is **still learning**. If our model is still learning, we can allow it to get better by turning a few dials.\n",
    "\n",
    "Let's:\n",
    "- increase the number of epochs;\n",
    "- change sigmoid activation in the hidden layers to ReLU; and\n",
    "- decrease the batch size."
   ]
  },
  {
   "cell_type": "code",
   "execution_count": 20,
   "metadata": {
    "ExecuteTime": {
     "end_time": "2023-10-16T02:55:21.332682Z",
     "start_time": "2023-10-16T02:55:21.222650Z"
    },
    "hidden": true
   },
   "outputs": [
    {
     "data": {
      "text/plain": [
       "1149"
      ]
     },
     "execution_count": 20,
     "metadata": {},
     "output_type": "execute_result"
    }
   ],
   "source": [
    "X_pure_train.shape[0]"
   ]
  },
  {
   "cell_type": "code",
   "execution_count": 88,
   "metadata": {
    "ExecuteTime": {
     "end_time": "2023-10-16T02:55:32.157654Z",
     "start_time": "2023-10-16T02:55:21.333650Z"
    },
    "hidden": true
   },
   "outputs": [
    {
     "name": "stdout",
     "output_type": "stream",
     "text": [
      "Epoch 1/100\n",
      "36/36 [==============================] - 0s 1ms/step - loss: 0.6844 - accuracy: 0.5909\n",
      "Epoch 2/100\n",
      "36/36 [==============================] - 0s 1ms/step - loss: 0.6816 - accuracy: 0.6197\n",
      "Epoch 3/100\n",
      "36/36 [==============================] - 0s 1ms/step - loss: 0.6783 - accuracy: 0.6519\n",
      "Epoch 4/100\n",
      "36/36 [==============================] - 0s 1ms/step - loss: 0.6745 - accuracy: 0.6754\n",
      "Epoch 5/100\n",
      "36/36 [==============================] - 0s 1ms/step - loss: 0.6701 - accuracy: 0.6876\n",
      "Epoch 6/100\n",
      "36/36 [==============================] - 0s 1ms/step - loss: 0.6651 - accuracy: 0.6989\n",
      "Epoch 7/100\n",
      "36/36 [==============================] - 0s 1ms/step - loss: 0.6594 - accuracy: 0.7145\n",
      "Epoch 8/100\n",
      "36/36 [==============================] - 0s 1ms/step - loss: 0.6528 - accuracy: 0.7276\n",
      "Epoch 9/100\n",
      "36/36 [==============================] - 0s 1ms/step - loss: 0.6452 - accuracy: 0.7346\n",
      "Epoch 10/100\n",
      "36/36 [==============================] - 0s 1ms/step - loss: 0.6367 - accuracy: 0.7450\n",
      "Epoch 11/100\n",
      "36/36 [==============================] - 0s 1ms/step - loss: 0.6271 - accuracy: 0.7563\n",
      "Epoch 12/100\n",
      "36/36 [==============================] - 0s 1ms/step - loss: 0.6162 - accuracy: 0.7650\n",
      "Epoch 13/100\n",
      "36/36 [==============================] - 0s 1ms/step - loss: 0.6037 - accuracy: 0.7755\n",
      "Epoch 14/100\n",
      "36/36 [==============================] - 0s 1ms/step - loss: 0.5899 - accuracy: 0.8033\n",
      "Epoch 15/100\n",
      "36/36 [==============================] - 0s 1ms/step - loss: 0.5744 - accuracy: 0.8120\n",
      "Epoch 16/100\n",
      "36/36 [==============================] - 0s 1ms/step - loss: 0.5575 - accuracy: 0.8155\n",
      "Epoch 17/100\n",
      "36/36 [==============================] - 0s 1ms/step - loss: 0.5391 - accuracy: 0.8338\n",
      "Epoch 18/100\n",
      "36/36 [==============================] - 0s 1ms/step - loss: 0.5193 - accuracy: 0.8407\n",
      "Epoch 19/100\n",
      "36/36 [==============================] - 0s 1ms/step - loss: 0.4990 - accuracy: 0.8425\n",
      "Epoch 20/100\n",
      "36/36 [==============================] - 0s 2ms/step - loss: 0.4778 - accuracy: 0.8451\n",
      "Epoch 21/100\n",
      "36/36 [==============================] - 0s 1ms/step - loss: 0.4568 - accuracy: 0.8486\n",
      "Epoch 22/100\n",
      "36/36 [==============================] - 0s 1ms/step - loss: 0.4359 - accuracy: 0.8512\n",
      "Epoch 23/100\n",
      "36/36 [==============================] - 0s 1ms/step - loss: 0.4164 - accuracy: 0.8529\n",
      "Epoch 24/100\n",
      "36/36 [==============================] - 0s 1ms/step - loss: 0.3984 - accuracy: 0.8547\n",
      "Epoch 25/100\n",
      "36/36 [==============================] - 0s 1ms/step - loss: 0.3812 - accuracy: 0.8547\n",
      "Epoch 26/100\n",
      "36/36 [==============================] - 0s 1ms/step - loss: 0.3659 - accuracy: 0.8634\n",
      "Epoch 27/100\n",
      "36/36 [==============================] - 0s 1ms/step - loss: 0.3526 - accuracy: 0.8634\n",
      "Epoch 28/100\n",
      "36/36 [==============================] - 0s 2ms/step - loss: 0.3399 - accuracy: 0.8677\n",
      "Epoch 29/100\n",
      "36/36 [==============================] - 0s 1ms/step - loss: 0.3287 - accuracy: 0.8695\n",
      "Epoch 30/100\n",
      "36/36 [==============================] - 0s 1ms/step - loss: 0.3194 - accuracy: 0.8703\n",
      "Epoch 31/100\n",
      "36/36 [==============================] - 0s 1ms/step - loss: 0.3105 - accuracy: 0.8773\n",
      "Epoch 32/100\n",
      "36/36 [==============================] - 0s 1ms/step - loss: 0.3027 - accuracy: 0.8755\n",
      "Epoch 33/100\n",
      "36/36 [==============================] - 0s 1ms/step - loss: 0.2956 - accuracy: 0.8764\n",
      "Epoch 34/100\n",
      "36/36 [==============================] - 0s 1ms/step - loss: 0.2886 - accuracy: 0.8860\n",
      "Epoch 35/100\n",
      "36/36 [==============================] - 0s 1ms/step - loss: 0.2812 - accuracy: 0.8886\n",
      "Epoch 36/100\n",
      "36/36 [==============================] - 0s 1ms/step - loss: 0.2771 - accuracy: 0.8903\n",
      "Epoch 37/100\n",
      "36/36 [==============================] - 0s 1ms/step - loss: 0.2717 - accuracy: 0.8921\n",
      "Epoch 38/100\n",
      "36/36 [==============================] - 0s 1ms/step - loss: 0.2682 - accuracy: 0.8930\n",
      "Epoch 39/100\n",
      "36/36 [==============================] - 0s 1ms/step - loss: 0.2628 - accuracy: 0.8921\n",
      "Epoch 40/100\n",
      "36/36 [==============================] - 0s 1ms/step - loss: 0.2595 - accuracy: 0.8982\n",
      "Epoch 41/100\n",
      "36/36 [==============================] - 0s 1ms/step - loss: 0.2555 - accuracy: 0.8990\n",
      "Epoch 42/100\n",
      "36/36 [==============================] - 0s 1ms/step - loss: 0.2516 - accuracy: 0.8964\n",
      "Epoch 43/100\n",
      "36/36 [==============================] - 0s 1ms/step - loss: 0.2496 - accuracy: 0.8990\n",
      "Epoch 44/100\n",
      "36/36 [==============================] - 0s 1ms/step - loss: 0.2459 - accuracy: 0.9017\n",
      "Epoch 45/100\n",
      "36/36 [==============================] - 0s 1ms/step - loss: 0.2440 - accuracy: 0.9017\n",
      "Epoch 46/100\n",
      "36/36 [==============================] - 0s 1ms/step - loss: 0.2409 - accuracy: 0.9034\n",
      "Epoch 47/100\n",
      "36/36 [==============================] - 0s 1ms/step - loss: 0.2385 - accuracy: 0.9043\n",
      "Epoch 48/100\n",
      "36/36 [==============================] - 0s 1ms/step - loss: 0.2361 - accuracy: 0.9025\n",
      "Epoch 49/100\n",
      "36/36 [==============================] - 0s 1ms/step - loss: 0.2335 - accuracy: 0.9051\n",
      "Epoch 50/100\n",
      "36/36 [==============================] - 0s 2ms/step - loss: 0.2316 - accuracy: 0.9025\n",
      "Epoch 51/100\n",
      "36/36 [==============================] - 0s 1ms/step - loss: 0.2294 - accuracy: 0.9025\n",
      "Epoch 52/100\n",
      "36/36 [==============================] - 0s 1ms/step - loss: 0.2280 - accuracy: 0.9051\n",
      "Epoch 53/100\n",
      "36/36 [==============================] - 0s 1ms/step - loss: 0.2263 - accuracy: 0.9077\n",
      "Epoch 54/100\n",
      "36/36 [==============================] - 0s 1ms/step - loss: 0.2241 - accuracy: 0.9051\n",
      "Epoch 55/100\n",
      "36/36 [==============================] - 0s 1ms/step - loss: 0.2241 - accuracy: 0.9069\n",
      "Epoch 56/100\n",
      "36/36 [==============================] - 0s 1ms/step - loss: 0.2219 - accuracy: 0.9034\n",
      "Epoch 57/100\n",
      "36/36 [==============================] - 0s 1ms/step - loss: 0.2199 - accuracy: 0.9060\n",
      "Epoch 58/100\n",
      "36/36 [==============================] - 0s 1ms/step - loss: 0.2198 - accuracy: 0.9077\n",
      "Epoch 59/100\n",
      "36/36 [==============================] - 0s 1ms/step - loss: 0.2171 - accuracy: 0.9077\n",
      "Epoch 60/100\n",
      "36/36 [==============================] - 0s 1ms/step - loss: 0.2162 - accuracy: 0.9069\n",
      "Epoch 61/100\n",
      "36/36 [==============================] - 0s 1ms/step - loss: 0.2144 - accuracy: 0.9095\n",
      "Epoch 62/100\n",
      "36/36 [==============================] - 0s 1ms/step - loss: 0.2130 - accuracy: 0.9086\n",
      "Epoch 63/100\n",
      "36/36 [==============================] - 0s 1ms/step - loss: 0.2112 - accuracy: 0.9095\n",
      "Epoch 64/100\n",
      "36/36 [==============================] - 0s 1ms/step - loss: 0.2133 - accuracy: 0.9086\n",
      "Epoch 65/100\n",
      "36/36 [==============================] - 0s 1ms/step - loss: 0.2116 - accuracy: 0.9086\n",
      "Epoch 66/100\n",
      "36/36 [==============================] - 0s 1ms/step - loss: 0.2091 - accuracy: 0.9086\n",
      "Epoch 67/100\n",
      "36/36 [==============================] - 0s 1ms/step - loss: 0.2093 - accuracy: 0.9095\n",
      "Epoch 68/100\n",
      "36/36 [==============================] - 0s 1ms/step - loss: 0.2074 - accuracy: 0.9095\n",
      "Epoch 69/100\n",
      "36/36 [==============================] - 0s 1ms/step - loss: 0.2051 - accuracy: 0.9104\n",
      "Epoch 70/100\n",
      "36/36 [==============================] - 0s 1ms/step - loss: 0.2058 - accuracy: 0.9112\n",
      "Epoch 71/100\n",
      "36/36 [==============================] - 0s 1ms/step - loss: 0.2032 - accuracy: 0.9112\n",
      "Epoch 72/100\n",
      "36/36 [==============================] - 0s 1ms/step - loss: 0.2035 - accuracy: 0.9138\n",
      "Epoch 73/100\n",
      "36/36 [==============================] - 0s 1ms/step - loss: 0.2032 - accuracy: 0.9121\n",
      "Epoch 74/100\n",
      "36/36 [==============================] - 0s 1ms/step - loss: 0.2018 - accuracy: 0.9121\n",
      "Epoch 75/100\n",
      "36/36 [==============================] - 0s 1ms/step - loss: 0.2004 - accuracy: 0.9121\n",
      "Epoch 76/100\n",
      "36/36 [==============================] - 0s 1ms/step - loss: 0.2006 - accuracy: 0.9138\n",
      "Epoch 77/100\n",
      "36/36 [==============================] - 0s 1ms/step - loss: 0.1980 - accuracy: 0.9147\n",
      "Epoch 78/100\n",
      "36/36 [==============================] - 0s 1ms/step - loss: 0.1976 - accuracy: 0.9164\n",
      "Epoch 79/100\n",
      "36/36 [==============================] - 0s 1ms/step - loss: 0.1974 - accuracy: 0.9121\n",
      "Epoch 80/100\n",
      "36/36 [==============================] - 0s 1ms/step - loss: 0.1964 - accuracy: 0.9164\n",
      "Epoch 81/100\n",
      "36/36 [==============================] - 0s 1ms/step - loss: 0.1948 - accuracy: 0.9138\n",
      "Epoch 82/100\n",
      "36/36 [==============================] - 0s 1ms/step - loss: 0.1937 - accuracy: 0.9138\n",
      "Epoch 83/100\n"
     ]
    },
    {
     "name": "stdout",
     "output_type": "stream",
     "text": [
      "36/36 [==============================] - 0s 1ms/step - loss: 0.1927 - accuracy: 0.9156\n",
      "Epoch 84/100\n",
      "36/36 [==============================] - 0s 1ms/step - loss: 0.1925 - accuracy: 0.9173\n",
      "Epoch 85/100\n",
      "36/36 [==============================] - 0s 1ms/step - loss: 0.1921 - accuracy: 0.9156\n",
      "Epoch 86/100\n",
      "36/36 [==============================] - 0s 1ms/step - loss: 0.1897 - accuracy: 0.9164\n",
      "Epoch 87/100\n",
      "36/36 [==============================] - 0s 1ms/step - loss: 0.1904 - accuracy: 0.9191\n",
      "Epoch 88/100\n",
      "36/36 [==============================] - 0s 1ms/step - loss: 0.1885 - accuracy: 0.9208\n",
      "Epoch 89/100\n",
      "36/36 [==============================] - 0s 1ms/step - loss: 0.1882 - accuracy: 0.9199\n",
      "Epoch 90/100\n",
      "36/36 [==============================] - 0s 1ms/step - loss: 0.1869 - accuracy: 0.9208\n",
      "Epoch 91/100\n",
      "36/36 [==============================] - 0s 1ms/step - loss: 0.1866 - accuracy: 0.9182\n",
      "Epoch 92/100\n",
      "36/36 [==============================] - 0s 1ms/step - loss: 0.1868 - accuracy: 0.9199\n",
      "Epoch 93/100\n",
      "36/36 [==============================] - 0s 1ms/step - loss: 0.1843 - accuracy: 0.9182\n",
      "Epoch 94/100\n",
      "36/36 [==============================] - 0s 1ms/step - loss: 0.1852 - accuracy: 0.9199\n",
      "Epoch 95/100\n",
      "36/36 [==============================] - 0s 1ms/step - loss: 0.1833 - accuracy: 0.9208\n",
      "Epoch 96/100\n",
      "36/36 [==============================] - 0s 1ms/step - loss: 0.1810 - accuracy: 0.9217\n",
      "Epoch 97/100\n",
      "36/36 [==============================] - 0s 1ms/step - loss: 0.1822 - accuracy: 0.9217\n",
      "Epoch 98/100\n",
      "36/36 [==============================] - 0s 2ms/step - loss: 0.1817 - accuracy: 0.9208\n",
      "Epoch 99/100\n",
      "36/36 [==============================] - 0s 1ms/step - loss: 0.1804 - accuracy: 0.9225\n",
      "Epoch 100/100\n",
      "36/36 [==============================] - 0s 1ms/step - loss: 0.1792 - accuracy: 0.9208\n"
     ]
    }
   ],
   "source": [
    "model = Sequential()\n",
    "model.add(Dense(12, activation='relu', input_dim=64))\n",
    "model.add(Dense(8, activation='relu'))\n",
    "model.add(Dense(1, activation='sigmoid'))\n",
    "\n",
    "model.compile(optimizer=\"SGD\",\n",
    "              loss='binary_crossentropy',\n",
    "              metrics=['accuracy'])\n",
    "\n",
    "# Assign the variable history to store the results,\n",
    "# and set verbose=1 so we can see the output.\n",
    "results = model.fit(X_pure_train, y_pure_train, epochs=100, batch_size=None, verbose=1)\n",
    "\n",
    "# batch_size= None defaults to 32, so even though we didnt specify a value, the batch size is actually smaller"
   ]
  },
  {
   "cell_type": "code",
   "execution_count": 22,
   "metadata": {
    "ExecuteTime": {
     "end_time": "2023-10-16T02:55:32.488681Z",
     "start_time": "2023-10-16T02:55:32.158650Z"
    },
    "hidden": true
   },
   "outputs": [
    {
     "data": {
      "image/png": "[encoded data removed]",
      "text/plain": [
       "<Figure size 1000x500 with 2 Axes>"
      ]
     },
     "metadata": {},
     "output_type": "display_data"
    }
   ],
   "source": [
    "sigmoid_loss = results.history['loss']\n",
    "sigmoid_accuracy = results.history['accuracy']\n",
    "\n",
    "fig, (ax1, ax2) = plt.subplots(1, 2, figsize=(10, 5))\n",
    "sns.lineplot(x=results.epoch, y=sigmoid_loss, ax=ax1, label='loss')\n",
    "sns.lineplot(x=results.epoch, y=sigmoid_accuracy, ax=ax2, label='accuracy');"
   ]
  },
  {
   "cell_type": "markdown",
   "metadata": {
    "hidden": true
   },
   "source": [
    "If we increase the learning rate to a very high number, we see that our model overshoots the minimum, and starts bouncing all around."
   ]
  },
  {
   "cell_type": "code",
   "execution_count": 92,
   "metadata": {
    "ExecuteTime": {
     "end_time": "2023-10-16T02:55:43.538650Z",
     "start_time": "2023-10-16T02:55:32.489650Z"
    },
    "hidden": true
   },
   "outputs": [
    {
     "name": "stdout",
     "output_type": "stream",
     "text": [
      "Epoch 1/30\n",
      "115/115 [==============================] - 0s 1ms/step - loss: 0.9160 - accuracy: 0.5257\n",
      "Epoch 2/30\n",
      "115/115 [==============================] - 0s 1ms/step - loss: 1.0309 - accuracy: 0.4935\n",
      "Epoch 3/30\n",
      "115/115 [==============================] - 0s 1ms/step - loss: 0.9532 - accuracy: 0.5117\n",
      "Epoch 4/30\n",
      "115/115 [==============================] - 0s 1ms/step - loss: 0.9356 - accuracy: 0.5117\n",
      "Epoch 5/30\n",
      "115/115 [==============================] - 0s 1ms/step - loss: 1.0310 - accuracy: 0.5048\n",
      "Epoch 6/30\n",
      "115/115 [==============================] - 0s 1ms/step - loss: 0.9893 - accuracy: 0.4970\n",
      "Epoch 7/30\n",
      "115/115 [==============================] - 0s 1ms/step - loss: 1.0744 - accuracy: 0.4708\n",
      "Epoch 8/30\n",
      "115/115 [==============================] - 0s 1ms/step - loss: 1.0847 - accuracy: 0.4665\n",
      "Epoch 9/30\n",
      "115/115 [==============================] - 0s 1ms/step - loss: 1.0392 - accuracy: 0.4970\n",
      "Epoch 10/30\n",
      "115/115 [==============================] - 0s 1ms/step - loss: 0.9893 - accuracy: 0.4970\n",
      "Epoch 11/30\n",
      "115/115 [==============================] - 0s 1ms/step - loss: 0.9246 - accuracy: 0.5083\n",
      "Epoch 12/30\n",
      "115/115 [==============================] - 0s 1ms/step - loss: 0.9595 - accuracy: 0.5039\n",
      "Epoch 13/30\n",
      "115/115 [==============================] - 0s 1ms/step - loss: 1.0033 - accuracy: 0.4978\n",
      "Epoch 14/30\n",
      "115/115 [==============================] - 0s 1ms/step - loss: 1.0390 - accuracy: 0.4874\n",
      "Epoch 15/30\n",
      "115/115 [==============================] - 0s 1ms/step - loss: 0.9675 - accuracy: 0.5065\n",
      "Epoch 16/30\n",
      "115/115 [==============================] - 0s 1ms/step - loss: 0.9891 - accuracy: 0.5013\n",
      "Epoch 17/30\n",
      "115/115 [==============================] - 0s 1ms/step - loss: 1.0210 - accuracy: 0.5126\n",
      "Epoch 18/30\n",
      "115/115 [==============================] - 0s 1ms/step - loss: 1.0115 - accuracy: 0.4952\n",
      "Epoch 19/30\n",
      "115/115 [==============================] - 0s 1ms/step - loss: 1.0340 - accuracy: 0.4769\n",
      "Epoch 20/30\n",
      "115/115 [==============================] - 0s 1ms/step - loss: 1.0316 - accuracy: 0.4865\n",
      "Epoch 21/30\n",
      "115/115 [==============================] - 0s 1ms/step - loss: 1.0221 - accuracy: 0.5039\n",
      "Epoch 22/30\n",
      "115/115 [==============================] - 0s 1ms/step - loss: 0.9241 - accuracy: 0.5178\n",
      "Epoch 23/30\n",
      "115/115 [==============================] - 0s 1ms/step - loss: 0.9608 - accuracy: 0.5283\n",
      "Epoch 24/30\n",
      "115/115 [==============================] - 0s 1ms/step - loss: 0.9899 - accuracy: 0.5100\n",
      "Epoch 25/30\n",
      "115/115 [==============================] - 0s 1ms/step - loss: 1.0069 - accuracy: 0.5161\n",
      "Epoch 26/30\n",
      "115/115 [==============================] - 0s 1ms/step - loss: 0.9942 - accuracy: 0.5039\n",
      "Epoch 27/30\n",
      "115/115 [==============================] - 0s 1ms/step - loss: 0.9606 - accuracy: 0.5178\n",
      "Epoch 28/30\n",
      "115/115 [==============================] - 0s 1ms/step - loss: 1.1263 - accuracy: 0.4682\n",
      "Epoch 29/30\n",
      "115/115 [==============================] - 0s 1ms/step - loss: 0.9732 - accuracy: 0.4996\n",
      "Epoch 30/30\n",
      "115/115 [==============================] - 0s 1ms/step - loss: 1.0351 - accuracy: 0.5065\n"
     ]
    },
    {
     "data": {
      "image/png": "[encoded data removed]",
      "text/plain": [
       "<Figure size 1000x500 with 2 Axes>"
      ]
     },
     "metadata": {},
     "output_type": "display_data"
    }
   ],
   "source": [
    "model = Sequential()\n",
    "\n",
    "# sgd = SGD(learning_rate=9)\n",
    "model.add(Dense(12, activation='relu', input_dim=64))\n",
    "model.add(Dense(8, activation='relu'))\n",
    "model.add(Dense(1, activation='sigmoid'))\n",
    "\n",
    "# this time, SGD is not in \" \" like a string... IN ORDER TO SET A MANUAL LEARNING RATE\n",
    "# Otherwise, default value of learning rate is .01, so this is a TOO-LARGE learning rate, causing us to overshoot local\n",
    "# minimum of loss function gradient, bouncing around the minimum values, \n",
    "# even with some randomness, the plots still look very herky jerky\n",
    "model.compile(optimizer=SGD(learning_rate=9),\n",
    "              loss='binary_crossentropy',\n",
    "              metrics=['accuracy'])\n",
    "\n",
    "results = model.fit(X_pure_train, y_pure_train,\n",
    "                    epochs=30, batch_size=10, verbose=1)\n",
    "\n",
    "relu_loss = results.history['loss']\n",
    "relu_accuracy = results.history['accuracy']\n",
    "\n",
    "fig, (ax1, ax2) = plt.subplots(1, 2, figsize=(10, 5))\n",
    "sns.lineplot(x=results.epoch, y=relu_loss, ax=ax1, label='loss')\n",
    "sns.lineplot(x=results.epoch, y=relu_accuracy, ax=ax2, label='accuracy');"
   ]
  },
  {
   "cell_type": "markdown",
   "metadata": {
    "heading_collapsed": true,
    "hidden": true
   },
   "source": [
    "### Exercise"
   ]
  },
  {
   "cell_type": "markdown",
   "metadata": {
    "hidden": true
   },
   "source": [
    "We have been looking only at our training set. Let's add in our validation set to the picture. Check the docstring for the `.fit()` method and add in our validation data."
   ]
  },
  {
   "cell_type": "markdown",
   "metadata": {},
   "source": [
    "# SAME MODEL SETUP AS BEFORE, DIFFERENT OPTIMIZER"
   ]
  },
  {
   "cell_type": "code",
   "execution_count": 93,
   "metadata": {
    "ExecuteTime": {
     "end_time": "2023-10-16T02:55:43.678684Z",
     "start_time": "2023-10-16T02:55:43.539650Z"
    },
    "hidden": true
   },
   "outputs": [],
   "source": [
    "model = Sequential()\n",
    "model.add(Dense(12, activation='relu', input_dim=64))\n",
    "model.add(Dense(8, activation='relu'))\n",
    "model.add(Dense(4, activation='relu'))\n",
    "model.add(Dense(1, activation='sigmoid'))\n",
    "\n",
    "# \"adam\" optimizer for no particular reason\n",
    "model.compile(optimizer='adam',\n",
    "              loss='binary_crossentropy',\n",
    "              metrics=['accuracy'])"
   ]
  },
  {
   "cell_type": "markdown",
   "metadata": {},
   "source": [
    "# SAME ASSIGNMENT OF THE FITTING FOR LATER DICTIONARY ACCESS\n",
    "### NEW ARGUMENTS PASSED IN THE FITTING THOUGH!!!!!\n",
    "### validation_data = (X_val, y_val) from the second train/test split"
   ]
  },
  {
   "cell_type": "code",
   "execution_count": 94,
   "metadata": {
    "ExecuteTime": {
     "end_time": "2023-10-16T02:55:56.912649Z",
     "start_time": "2023-10-16T02:55:43.679649Z"
    },
    "hidden": true,
    "scrolled": false
   },
   "outputs": [
    {
     "name": "stdout",
     "output_type": "stream",
     "text": [
      "Epoch 1/30\n",
      "115/115 [==============================] - 1s 3ms/step - loss: 0.6439 - accuracy: 0.7084 - val_loss: 0.5749 - val_accuracy: 0.8229\n",
      "Epoch 2/30\n",
      "115/115 [==============================] - 0s 2ms/step - loss: 0.4519 - accuracy: 0.8520 - val_loss: 0.3730 - val_accuracy: 0.8611\n",
      "Epoch 3/30\n",
      "115/115 [==============================] - 0s 2ms/step - loss: 0.3141 - accuracy: 0.8816 - val_loss: 0.2982 - val_accuracy: 0.8819\n",
      "Epoch 4/30\n",
      "115/115 [==============================] - 0s 2ms/step - loss: 0.2603 - accuracy: 0.8956 - val_loss: 0.2796 - val_accuracy: 0.8993\n",
      "Epoch 5/30\n",
      "115/115 [==============================] - 0s 2ms/step - loss: 0.2274 - accuracy: 0.9086 - val_loss: 0.2422 - val_accuracy: 0.9097\n",
      "Epoch 6/30\n",
      "115/115 [==============================] - 0s 2ms/step - loss: 0.2034 - accuracy: 0.9164 - val_loss: 0.2170 - val_accuracy: 0.9167\n",
      "Epoch 7/30\n",
      "115/115 [==============================] - 0s 2ms/step - loss: 0.1895 - accuracy: 0.9225 - val_loss: 0.2042 - val_accuracy: 0.9271\n",
      "Epoch 8/30\n",
      "115/115 [==============================] - 0s 2ms/step - loss: 0.1676 - accuracy: 0.9312 - val_loss: 0.1843 - val_accuracy: 0.9306\n",
      "Epoch 9/30\n",
      "115/115 [==============================] - 0s 2ms/step - loss: 0.1565 - accuracy: 0.9347 - val_loss: 0.2197 - val_accuracy: 0.9062\n",
      "Epoch 10/30\n",
      "115/115 [==============================] - 0s 2ms/step - loss: 0.1358 - accuracy: 0.9513 - val_loss: 0.1549 - val_accuracy: 0.9410\n",
      "Epoch 11/30\n",
      "115/115 [==============================] - 0s 2ms/step - loss: 0.1198 - accuracy: 0.9513 - val_loss: 0.1387 - val_accuracy: 0.9549\n",
      "Epoch 12/30\n",
      "115/115 [==============================] - 0s 2ms/step - loss: 0.1067 - accuracy: 0.9652 - val_loss: 0.1251 - val_accuracy: 0.9583\n",
      "Epoch 13/30\n",
      "115/115 [==============================] - 0s 2ms/step - loss: 0.0901 - accuracy: 0.9721 - val_loss: 0.1237 - val_accuracy: 0.9618\n",
      "Epoch 14/30\n",
      "115/115 [==============================] - 0s 2ms/step - loss: 0.0863 - accuracy: 0.9704 - val_loss: 0.1378 - val_accuracy: 0.9444\n",
      "Epoch 15/30\n",
      "115/115 [==============================] - 0s 2ms/step - loss: 0.0756 - accuracy: 0.9730 - val_loss: 0.1111 - val_accuracy: 0.9618\n",
      "Epoch 16/30\n",
      "115/115 [==============================] - 0s 2ms/step - loss: 0.0679 - accuracy: 0.9765 - val_loss: 0.1224 - val_accuracy: 0.9583\n",
      "Epoch 17/30\n",
      "115/115 [==============================] - 0s 2ms/step - loss: 0.0657 - accuracy: 0.9730 - val_loss: 0.0895 - val_accuracy: 0.9688\n",
      "Epoch 18/30\n",
      "115/115 [==============================] - 0s 2ms/step - loss: 0.0573 - accuracy: 0.9791 - val_loss: 0.1091 - val_accuracy: 0.9618\n",
      "Epoch 19/30\n",
      "115/115 [==============================] - 0s 2ms/step - loss: 0.0522 - accuracy: 0.9852 - val_loss: 0.0873 - val_accuracy: 0.9583\n",
      "Epoch 20/30\n",
      "115/115 [==============================] - 0s 2ms/step - loss: 0.0514 - accuracy: 0.9817 - val_loss: 0.0835 - val_accuracy: 0.9757\n",
      "Epoch 21/30\n",
      "115/115 [==============================] - 0s 2ms/step - loss: 0.0464 - accuracy: 0.9835 - val_loss: 0.0849 - val_accuracy: 0.9722\n",
      "Epoch 22/30\n",
      "115/115 [==============================] - 0s 2ms/step - loss: 0.0407 - accuracy: 0.9878 - val_loss: 0.0908 - val_accuracy: 0.9757\n",
      "Epoch 23/30\n",
      "115/115 [==============================] - 0s 2ms/step - loss: 0.0359 - accuracy: 0.9887 - val_loss: 0.0851 - val_accuracy: 0.9722\n",
      "Epoch 24/30\n",
      "115/115 [==============================] - 0s 2ms/step - loss: 0.0363 - accuracy: 0.9878 - val_loss: 0.0794 - val_accuracy: 0.9722\n",
      "Epoch 25/30\n",
      "115/115 [==============================] - 0s 2ms/step - loss: 0.0314 - accuracy: 0.9896 - val_loss: 0.0858 - val_accuracy: 0.9792\n",
      "Epoch 26/30\n",
      "115/115 [==============================] - 0s 2ms/step - loss: 0.0317 - accuracy: 0.9896 - val_loss: 0.1074 - val_accuracy: 0.9757\n",
      "Epoch 27/30\n",
      "115/115 [==============================] - 0s 2ms/step - loss: 0.0263 - accuracy: 0.9896 - val_loss: 0.0929 - val_accuracy: 0.9792\n",
      "Epoch 28/30\n",
      "115/115 [==============================] - 0s 2ms/step - loss: 0.0274 - accuracy: 0.9904 - val_loss: 0.0829 - val_accuracy: 0.9722\n",
      "Epoch 29/30\n",
      "115/115 [==============================] - 0s 2ms/step - loss: 0.0241 - accuracy: 0.9922 - val_loss: 0.0946 - val_accuracy: 0.9722\n",
      "Epoch 30/30\n",
      "115/115 [==============================] - 0s 2ms/step - loss: 0.0204 - accuracy: 0.9948 - val_loss: 0.0947 - val_accuracy: 0.9792\n"
     ]
    }
   ],
   "source": [
    "results = model.fit(X_pure_train, y_pure_train,\n",
    "                   validation_data=(X_val, y_val),\n",
    "                   epochs=30, batch_size=10)"
   ]
  },
  {
   "cell_type": "code",
   "execution_count": 95,
   "metadata": {
    "ExecuteTime": {
     "end_time": "2023-10-16T02:55:57.273680Z",
     "start_time": "2023-10-16T02:55:56.913651Z"
    },
    "hidden": true
   },
   "outputs": [
    {
     "data": {
      "image/png": "[encoded data removed]",
      "text/plain": [
       "<Figure size 1000x500 with 2 Axes>"
      ]
     },
     "metadata": {},
     "output_type": "display_data"
    }
   ],
   "source": [
    "train_loss = results.history['loss']\n",
    "train_acc = results.history['accuracy']\n",
    "val_loss = results.history['val_loss']\n",
    "val_acc = results.history['val_accuracy']\n",
    "\n",
    "fig, (ax1, ax2) = plt.subplots(1, 2, figsize=(10, 5))\n",
    "sns.lineplot(x=results.epoch, y=train_loss, ax=ax1, label='train_loss')\n",
    "sns.lineplot(x=results.epoch, y=train_acc, ax=ax2, label='train_accuracy')\n",
    "\n",
    "sns.lineplot(x=results.epoch, y=val_loss, ax=ax1, label='val_loss')\n",
    "sns.lineplot(x=results.epoch, y=val_acc, ax=ax2, label='val_accuracy');"
   ]
  },
  {
   "cell_type": "markdown",
   "metadata": {
    "hidden": true
   },
   "source": [
    "<details>\n",
    "    <summary>One answer here</summary>\n",
    "<code>model = Sequential()\n",
    "model.add(Dense(12, activation='relu', input_dim=64))\n",
    "model.add(Dense(8, activation='relu'))\n",
    "model.add(Dense(4, activation='relu'))\n",
    "model.add(Dense(1, activation='sigmoid'))\n",
    "model.compile(optimizer='adam',\n",
    "              loss='binary_crossentropy',\n",
    "              metrics=['accuracy'])\n",
    "results = model.fit(X_pure_train, y_pure_train,\n",
    "                   validation_data=(X_val, y_val),\n",
    "                   epochs=30, batch_size=10)\n",
    "train_loss = results.history['loss']\n",
    "train_acc = results.history['accuracy']\n",
    "val_loss = results.history['val_loss']\n",
    "val_acc = results.history['val_accuracy']\n",
    "fig, (ax1, ax2) = plt.subplots(1, 2, figsize=(10, 5))\n",
    "sns.lineplot(x=results.epoch, y=train_loss, ax=ax1, label='train_loss')\n",
    "sns.lineplot(x=results.epoch, y=train_acc, ax=ax2, label='train_accuracy')\n",
    "sns.lineplot(x=results.epoch, y=val_loss, ax=ax1, label='val_loss')\n",
    "sns.lineplot(x=results.epoch, y=val_acc, ax=ax2, label='val_accuracy');</code>\n",
    "</details>"
   ]
  },
  {
   "cell_type": "code",
   "execution_count": 103,
   "metadata": {},
   "outputs": [
    {
     "data": {
      "text/plain": [
       "([0.9895561337471008,\n",
       "  0.9895561337471008,\n",
       "  0.9904264807701111,\n",
       "  0.9921671152114868,\n",
       "  0.9947780966758728],\n",
       " '____________',\n",
       " [0.9756944179534912,\n",
       "  0.9791666865348816,\n",
       "  0.9722222089767456,\n",
       "  0.9722222089767456,\n",
       "  0.9791666865348816])"
      ]
     },
     "execution_count": 103,
     "metadata": {},
     "output_type": "execute_result"
    }
   ],
   "source": [
    "results.history['accuracy'][-5:], \"____________\", results.history['val_accuracy'][-5:]"
   ]
  },
  {
   "cell_type": "markdown",
   "metadata": {},
   "source": [
    "# THESE ARE TEST/TRAIN ACCURACY SCORES FOR FINAL EPOCH"
   ]
  },
  {
   "cell_type": "code",
   "execution_count": 97,
   "metadata": {
    "ExecuteTime": {
     "end_time": "2023-10-16T02:55:57.384679Z",
     "start_time": "2023-10-16T02:55:57.274652Z"
    },
    "hidden": true
   },
   "outputs": [
    {
     "data": {
      "text/plain": [
       "0.9791666865348816"
      ]
     },
     "execution_count": 97,
     "metadata": {},
     "output_type": "execute_result"
    }
   ],
   "source": [
    "results.history['val_accuracy'][-1]"
   ]
  },
  {
   "cell_type": "code",
   "execution_count": 98,
   "metadata": {
    "ExecuteTime": {
     "end_time": "2023-10-16T02:55:57.495651Z",
     "start_time": "2023-10-16T02:55:57.385652Z"
    },
    "hidden": true
   },
   "outputs": [
    {
     "data": {
      "text/plain": [
       "0.9947780966758728"
      ]
     },
     "execution_count": 98,
     "metadata": {},
     "output_type": "execute_result"
    }
   ],
   "source": [
    "results.history['accuracy'][-1]"
   ]
  },
  {
   "cell_type": "markdown",
   "metadata": {
    "heading_collapsed": true,
    "hidden": true
   },
   "source": [
    "## Connecting with `sklearn`"
   ]
  },
  {
   "cell_type": "markdown",
   "metadata": {
    "hidden": true
   },
   "source": [
    "The `keras.wrappers` submodule means that we can turn `keras` models into estimators that `sklearn` tools will recognize."
   ]
  },
  {
   "cell_type": "code",
   "execution_count": 29,
   "metadata": {
    "ExecuteTime": {
     "end_time": "2023-10-16T02:55:58.239472Z",
     "start_time": "2023-10-16T02:55:57.496651Z"
    },
    "hidden": true
   },
   "outputs": [
    {
     "ename": "TypeError",
     "evalue": "If no scoring is specified, the estimator passed should have a 'score' method. The estimator <keras.engine.sequential.Sequential object at 0x7f899360ee20> does not.",
     "output_type": "error",
     "traceback": [
      "\u001b[0;31m---------------------------------------------------------------------------\u001b[0m",
      "\u001b[0;31mTypeError\u001b[0m                                 Traceback (most recent call last)",
      "Cell \u001b[0;32mIn[29], line 3\u001b[0m\n\u001b[1;32m      1\u001b[0m \u001b[38;5;66;03m# This will throw an error.\u001b[39;00m\n\u001b[0;32m----> 3\u001b[0m \u001b[43mcross_val_score\u001b[49m\u001b[43m(\u001b[49m\u001b[43mmodel\u001b[49m\u001b[43m,\u001b[49m\u001b[43m \u001b[49m\u001b[43mX_pure_train\u001b[49m\u001b[43m,\u001b[49m\u001b[43m \u001b[49m\u001b[43my_pure_train\u001b[49m\u001b[43m)\u001b[49m\n",
      "File \u001b[0;32m~/anaconda3/envs/tf_env/lib/python3.8/site-packages/sklearn/model_selection/_validation.py:560\u001b[0m, in \u001b[0;36mcross_val_score\u001b[0;34m(estimator, X, y, groups, scoring, cv, n_jobs, verbose, fit_params, pre_dispatch, error_score)\u001b[0m\n\u001b[1;32m    442\u001b[0m \u001b[38;5;250m\u001b[39m\u001b[38;5;124;03m\"\"\"Evaluate a score by cross-validation.\u001b[39;00m\n\u001b[1;32m    443\u001b[0m \n\u001b[1;32m    444\u001b[0m \u001b[38;5;124;03mRead more in the :ref:`User Guide <cross_validation>`.\u001b[39;00m\n\u001b[0;32m   (...)\u001b[0m\n\u001b[1;32m    557\u001b[0m \u001b[38;5;124;03m[0.3315057  0.08022103 0.03531816]\u001b[39;00m\n\u001b[1;32m    558\u001b[0m \u001b[38;5;124;03m\"\"\"\u001b[39;00m\n\u001b[1;32m    559\u001b[0m \u001b[38;5;66;03m# To ensure multimetric format is not supported\u001b[39;00m\n\u001b[0;32m--> 560\u001b[0m scorer \u001b[38;5;241m=\u001b[39m \u001b[43mcheck_scoring\u001b[49m\u001b[43m(\u001b[49m\u001b[43mestimator\u001b[49m\u001b[43m,\u001b[49m\u001b[43m \u001b[49m\u001b[43mscoring\u001b[49m\u001b[38;5;241;43m=\u001b[39;49m\u001b[43mscoring\u001b[49m\u001b[43m)\u001b[49m\n\u001b[1;32m    562\u001b[0m cv_results \u001b[38;5;241m=\u001b[39m cross_validate(\n\u001b[1;32m    563\u001b[0m     estimator\u001b[38;5;241m=\u001b[39mestimator,\n\u001b[1;32m    564\u001b[0m     X\u001b[38;5;241m=\u001b[39mX,\n\u001b[0;32m   (...)\u001b[0m\n\u001b[1;32m    573\u001b[0m     error_score\u001b[38;5;241m=\u001b[39merror_score,\n\u001b[1;32m    574\u001b[0m )\n\u001b[1;32m    575\u001b[0m \u001b[38;5;28;01mreturn\u001b[39;00m cv_results[\u001b[38;5;124m\"\u001b[39m\u001b[38;5;124mtest_score\u001b[39m\u001b[38;5;124m\"\u001b[39m]\n",
      "File \u001b[0;32m~/anaconda3/envs/tf_env/lib/python3.8/site-packages/sklearn/utils/_param_validation.py:211\u001b[0m, in \u001b[0;36mvalidate_params.<locals>.decorator.<locals>.wrapper\u001b[0;34m(*args, **kwargs)\u001b[0m\n\u001b[1;32m    205\u001b[0m \u001b[38;5;28;01mtry\u001b[39;00m:\n\u001b[1;32m    206\u001b[0m     \u001b[38;5;28;01mwith\u001b[39;00m config_context(\n\u001b[1;32m    207\u001b[0m         skip_parameter_validation\u001b[38;5;241m=\u001b[39m(\n\u001b[1;32m    208\u001b[0m             prefer_skip_nested_validation \u001b[38;5;129;01mor\u001b[39;00m global_skip_validation\n\u001b[1;32m    209\u001b[0m         )\n\u001b[1;32m    210\u001b[0m     ):\n\u001b[0;32m--> 211\u001b[0m         \u001b[38;5;28;01mreturn\u001b[39;00m \u001b[43mfunc\u001b[49m\u001b[43m(\u001b[49m\u001b[38;5;241;43m*\u001b[39;49m\u001b[43margs\u001b[49m\u001b[43m,\u001b[49m\u001b[43m \u001b[49m\u001b[38;5;241;43m*\u001b[39;49m\u001b[38;5;241;43m*\u001b[39;49m\u001b[43mkwargs\u001b[49m\u001b[43m)\u001b[49m\n\u001b[1;32m    212\u001b[0m \u001b[38;5;28;01mexcept\u001b[39;00m InvalidParameterError \u001b[38;5;28;01mas\u001b[39;00m e:\n\u001b[1;32m    213\u001b[0m     \u001b[38;5;66;03m# When the function is just a wrapper around an estimator, we allow\u001b[39;00m\n\u001b[1;32m    214\u001b[0m     \u001b[38;5;66;03m# the function to delegate validation to the estimator, but we replace\u001b[39;00m\n\u001b[1;32m    215\u001b[0m     \u001b[38;5;66;03m# the name of the estimator by the name of the function in the error\u001b[39;00m\n\u001b[1;32m    216\u001b[0m     \u001b[38;5;66;03m# message to avoid confusion.\u001b[39;00m\n\u001b[1;32m    217\u001b[0m     msg \u001b[38;5;241m=\u001b[39m re\u001b[38;5;241m.\u001b[39msub(\n\u001b[1;32m    218\u001b[0m         \u001b[38;5;124mr\u001b[39m\u001b[38;5;124m\"\u001b[39m\u001b[38;5;124mparameter of \u001b[39m\u001b[38;5;124m\\\u001b[39m\u001b[38;5;124mw+ must be\u001b[39m\u001b[38;5;124m\"\u001b[39m,\n\u001b[1;32m    219\u001b[0m         \u001b[38;5;124mf\u001b[39m\u001b[38;5;124m\"\u001b[39m\u001b[38;5;124mparameter of \u001b[39m\u001b[38;5;132;01m{\u001b[39;00mfunc\u001b[38;5;241m.\u001b[39m\u001b[38;5;18m__qualname__\u001b[39m\u001b[38;5;132;01m}\u001b[39;00m\u001b[38;5;124m must be\u001b[39m\u001b[38;5;124m\"\u001b[39m,\n\u001b[1;32m    220\u001b[0m         \u001b[38;5;28mstr\u001b[39m(e),\n\u001b[1;32m    221\u001b[0m     )\n",
      "File \u001b[0;32m~/anaconda3/envs/tf_env/lib/python3.8/site-packages/sklearn/metrics/_scorer.py:953\u001b[0m, in \u001b[0;36mcheck_scoring\u001b[0;34m(estimator, scoring, allow_none)\u001b[0m\n\u001b[1;32m    951\u001b[0m     \u001b[38;5;28;01mreturn\u001b[39;00m \u001b[38;5;28;01mNone\u001b[39;00m\n\u001b[1;32m    952\u001b[0m \u001b[38;5;28;01melse\u001b[39;00m:\n\u001b[0;32m--> 953\u001b[0m     \u001b[38;5;28;01mraise\u001b[39;00m \u001b[38;5;167;01mTypeError\u001b[39;00m(\n\u001b[1;32m    954\u001b[0m         \u001b[38;5;124m\"\u001b[39m\u001b[38;5;124mIf no scoring is specified, the estimator passed should \u001b[39m\u001b[38;5;124m\"\u001b[39m\n\u001b[1;32m    955\u001b[0m         \u001b[38;5;124m\"\u001b[39m\u001b[38;5;124mhave a \u001b[39m\u001b[38;5;124m'\u001b[39m\u001b[38;5;124mscore\u001b[39m\u001b[38;5;124m'\u001b[39m\u001b[38;5;124m method. The estimator \u001b[39m\u001b[38;5;132;01m%r\u001b[39;00m\u001b[38;5;124m does not.\u001b[39m\u001b[38;5;124m\"\u001b[39m \u001b[38;5;241m%\u001b[39m estimator\n\u001b[1;32m    956\u001b[0m     )\n",
      "\u001b[0;31mTypeError\u001b[0m: If no scoring is specified, the estimator passed should have a 'score' method. The estimator <keras.engine.sequential.Sequential object at 0x7f899360ee20> does not."
     ]
    }
   ],
   "source": [
    "# This will throw an error.\n",
    "\n",
    "cross_val_score(model, X_pure_train, y_pure_train)"
   ]
  },
  {
   "cell_type": "markdown",
   "metadata": {},
   "source": [
    "# IMPORTANT"
   ]
  },
  {
   "cell_type": "markdown",
   "metadata": {},
   "source": [
    "### function to be used as part of wrapper to add sckit functionality"
   ]
  },
  {
   "cell_type": "code",
   "execution_count": 30,
   "metadata": {
    "ExecuteTime": {
     "end_time": "2023-10-16T02:56:54.788815Z",
     "start_time": "2023-10-16T02:56:54.687865Z"
    },
    "hidden": true
   },
   "outputs": [],
   "source": [
    "def build_model():\n",
    "    model = Sequential()\n",
    "    model.add(Dense(12, activation='relu', input_dim=64))\n",
    "    model.add(Dense(8, activation='relu'))\n",
    "    model.add(Dense(4, activation='relu'))\n",
    "    model.add(Dense(1, activation = 'sigmoid'))\n",
    "\n",
    "    model.compile(optimizer='adam',\n",
    "                  loss='binary_crossentropy',\n",
    "                  metrics=['accuracy'])\n",
    "    return model"
   ]
  },
  {
   "cell_type": "code",
   "execution_count": 31,
   "metadata": {
    "ExecuteTime": {
     "end_time": "2023-10-16T02:56:55.462886Z",
     "start_time": "2023-10-16T02:56:55.367733Z"
    },
    "hidden": true
   },
   "outputs": [],
   "source": [
    "# from scikeras.wrappers import KerasClassifier\n",
    "\n",
    "keras_model = KerasClassifier(build_model,\n",
    "                                          epochs=50,\n",
    "                                          batch_size=32,\n",
    "                                          verbose=2)"
   ]
  },
  {
   "cell_type": "markdown",
   "metadata": {},
   "source": [
    "### can add \"validation_split=.2,  in the cell above here...\n",
    "check completed notebook"
   ]
  },
  {
   "cell_type": "code",
   "execution_count": 106,
   "metadata": {},
   "outputs": [
    {
     "data": {
      "text/plain": [
       "function"
      ]
     },
     "execution_count": 106,
     "metadata": {},
     "output_type": "execute_result"
    }
   ],
   "source": [
    "type(build_model)"
   ]
  },
  {
   "cell_type": "code",
   "execution_count": 104,
   "metadata": {},
   "outputs": [
    {
     "data": {
      "text/plain": [
       "keras.engine.sequential.Sequential"
      ]
     },
     "execution_count": 104,
     "metadata": {},
     "output_type": "execute_result"
    }
   ],
   "source": [
    "type(model)"
   ]
  },
  {
   "cell_type": "code",
   "execution_count": 105,
   "metadata": {
    "ExecuteTime": {
     "end_time": "2023-10-16T02:56:56.141720Z",
     "start_time": "2023-10-16T02:56:56.043694Z"
    },
    "hidden": true
   },
   "outputs": [
    {
     "data": {
      "text/plain": [
       "scikeras.wrappers.KerasClassifier"
      ]
     },
     "execution_count": 105,
     "metadata": {},
     "output_type": "execute_result"
    }
   ],
   "source": [
    "type(keras_model)"
   ]
  },
  {
   "cell_type": "markdown",
   "metadata": {},
   "source": [
    "# Here we can do the cross_val_score after using a wrapper"
   ]
  },
  {
   "cell_type": "code",
   "execution_count": 33,
   "metadata": {
    "ExecuteTime": {
     "end_time": "2023-10-16T02:57:22.734290Z",
     "start_time": "2023-10-16T02:56:58.535700Z"
    },
    "hidden": true
   },
   "outputs": [
    {
     "name": "stdout",
     "output_type": "stream",
     "text": [
      "Epoch 1/50\n",
      "29/29 - 1s - loss: 0.6933 - accuracy: 0.4908 - 613ms/epoch - 21ms/step\n",
      "Epoch 2/50\n",
      "29/29 - 0s - loss: 0.6897 - accuracy: 0.6061 - 59ms/epoch - 2ms/step\n",
      "Epoch 3/50\n",
      "29/29 - 0s - loss: 0.6810 - accuracy: 0.5386 - 75ms/epoch - 3ms/step\n",
      "Epoch 4/50\n",
      "29/29 - 0s - loss: 0.6602 - accuracy: 0.6779 - 73ms/epoch - 3ms/step\n",
      "Epoch 5/50\n",
      "29/29 - 0s - loss: 0.6228 - accuracy: 0.7943 - 71ms/epoch - 2ms/step\n",
      "Epoch 6/50\n",
      "29/29 - 0s - loss: 0.5744 - accuracy: 0.8259 - 49ms/epoch - 2ms/step\n",
      "Epoch 7/50\n",
      "29/29 - 0s - loss: 0.5225 - accuracy: 0.8411 - 45ms/epoch - 2ms/step\n",
      "Epoch 8/50\n",
      "29/29 - 0s - loss: 0.4712 - accuracy: 0.8520 - 74ms/epoch - 3ms/step\n",
      "Epoch 9/50\n",
      "29/29 - 0s - loss: 0.4216 - accuracy: 0.8694 - 83ms/epoch - 3ms/step\n",
      "Epoch 10/50\n",
      "29/29 - 0s - loss: 0.3795 - accuracy: 0.8716 - 77ms/epoch - 3ms/step\n",
      "Epoch 11/50\n",
      "29/29 - 0s - loss: 0.3425 - accuracy: 0.8825 - 69ms/epoch - 2ms/step\n",
      "Epoch 12/50\n",
      "29/29 - 0s - loss: 0.3160 - accuracy: 0.8868 - 74ms/epoch - 3ms/step\n",
      "Epoch 13/50\n",
      "29/29 - 0s - loss: 0.2937 - accuracy: 0.8966 - 72ms/epoch - 2ms/step\n",
      "Epoch 14/50\n",
      "29/29 - 0s - loss: 0.2776 - accuracy: 0.8999 - 69ms/epoch - 2ms/step\n",
      "Epoch 15/50\n",
      "29/29 - 0s - loss: 0.2642 - accuracy: 0.9064 - 89ms/epoch - 3ms/step\n",
      "Epoch 16/50\n",
      "29/29 - 0s - loss: 0.2551 - accuracy: 0.9053 - 78ms/epoch - 3ms/step\n",
      "Epoch 17/50\n",
      "29/29 - 0s - loss: 0.2463 - accuracy: 0.9108 - 79ms/epoch - 3ms/step\n",
      "Epoch 18/50\n",
      "29/29 - 0s - loss: 0.2394 - accuracy: 0.9108 - 101ms/epoch - 3ms/step\n",
      "Epoch 19/50\n",
      "29/29 - 0s - loss: 0.2321 - accuracy: 0.9129 - 85ms/epoch - 3ms/step\n",
      "Epoch 20/50\n",
      "29/29 - 0s - loss: 0.2294 - accuracy: 0.9075 - 80ms/epoch - 3ms/step\n",
      "Epoch 21/50\n",
      "29/29 - 0s - loss: 0.2238 - accuracy: 0.9129 - 69ms/epoch - 2ms/step\n",
      "Epoch 22/50\n",
      "29/29 - 0s - loss: 0.2176 - accuracy: 0.9140 - 103ms/epoch - 4ms/step\n",
      "Epoch 23/50\n",
      "29/29 - 0s - loss: 0.2127 - accuracy: 0.9140 - 71ms/epoch - 2ms/step\n",
      "Epoch 24/50\n",
      "29/29 - 0s - loss: 0.2060 - accuracy: 0.9173 - 87ms/epoch - 3ms/step\n",
      "Epoch 25/50\n",
      "29/29 - 0s - loss: 0.2066 - accuracy: 0.9140 - 80ms/epoch - 3ms/step\n",
      "Epoch 26/50\n",
      "29/29 - 0s - loss: 0.2044 - accuracy: 0.9162 - 94ms/epoch - 3ms/step\n",
      "Epoch 27/50\n",
      "29/29 - 0s - loss: 0.1986 - accuracy: 0.9173 - 59ms/epoch - 2ms/step\n",
      "Epoch 28/50\n",
      "29/29 - 0s - loss: 0.1920 - accuracy: 0.9195 - 78ms/epoch - 3ms/step\n",
      "Epoch 29/50\n",
      "29/29 - 0s - loss: 0.1885 - accuracy: 0.9249 - 71ms/epoch - 2ms/step\n",
      "Epoch 30/50\n",
      "29/29 - 0s - loss: 0.1854 - accuracy: 0.9217 - 108ms/epoch - 4ms/step\n",
      "Epoch 31/50\n",
      "29/29 - 0s - loss: 0.1810 - accuracy: 0.9184 - 73ms/epoch - 3ms/step\n",
      "Epoch 32/50\n",
      "29/29 - 0s - loss: 0.1800 - accuracy: 0.9217 - 80ms/epoch - 3ms/step\n",
      "Epoch 33/50\n",
      "29/29 - 0s - loss: 0.1765 - accuracy: 0.9271 - 58ms/epoch - 2ms/step\n",
      "Epoch 34/50\n",
      "29/29 - 0s - loss: 0.1742 - accuracy: 0.9217 - 97ms/epoch - 3ms/step\n",
      "Epoch 35/50\n",
      "29/29 - 0s - loss: 0.1668 - accuracy: 0.9260 - 61ms/epoch - 2ms/step\n",
      "Epoch 36/50\n",
      "29/29 - 0s - loss: 0.1646 - accuracy: 0.9260 - 69ms/epoch - 2ms/step\n",
      "Epoch 37/50\n",
      "29/29 - 0s - loss: 0.1608 - accuracy: 0.9271 - 62ms/epoch - 2ms/step\n",
      "Epoch 38/50\n",
      "29/29 - 0s - loss: 0.1580 - accuracy: 0.9314 - 80ms/epoch - 3ms/step\n",
      "Epoch 39/50\n",
      "29/29 - 0s - loss: 0.1574 - accuracy: 0.9304 - 89ms/epoch - 3ms/step\n",
      "Epoch 40/50\n",
      "29/29 - 0s - loss: 0.1546 - accuracy: 0.9304 - 60ms/epoch - 2ms/step\n",
      "Epoch 41/50\n",
      "29/29 - 0s - loss: 0.1488 - accuracy: 0.9402 - 68ms/epoch - 2ms/step\n",
      "Epoch 42/50\n",
      "29/29 - 0s - loss: 0.1455 - accuracy: 0.9314 - 70ms/epoch - 2ms/step\n",
      "Epoch 43/50\n",
      "29/29 - 0s - loss: 0.1476 - accuracy: 0.9358 - 58ms/epoch - 2ms/step\n",
      "Epoch 44/50\n",
      "29/29 - 0s - loss: 0.1411 - accuracy: 0.9391 - 73ms/epoch - 3ms/step\n",
      "Epoch 45/50\n",
      "29/29 - 0s - loss: 0.1363 - accuracy: 0.9423 - 84ms/epoch - 3ms/step\n",
      "Epoch 46/50\n",
      "29/29 - 0s - loss: 0.1379 - accuracy: 0.9456 - 61ms/epoch - 2ms/step\n",
      "Epoch 47/50\n",
      "29/29 - 0s - loss: 0.1347 - accuracy: 0.9423 - 56ms/epoch - 2ms/step\n",
      "Epoch 48/50\n",
      "29/29 - 0s - loss: 0.1291 - accuracy: 0.9456 - 65ms/epoch - 2ms/step\n",
      "Epoch 49/50\n",
      "29/29 - 0s - loss: 0.1290 - accuracy: 0.9434 - 64ms/epoch - 2ms/step\n",
      "Epoch 50/50\n",
      "29/29 - 0s - loss: 0.1264 - accuracy: 0.9434 - 61ms/epoch - 2ms/step\n",
      "8/8 - 0s - 142ms/epoch - 18ms/step\n",
      "Epoch 1/50\n",
      "29/29 - 1s - loss: 0.6909 - accuracy: 0.5038 - 601ms/epoch - 21ms/step\n",
      "Epoch 2/50\n",
      "29/29 - 0s - loss: 0.6867 - accuracy: 0.5038 - 43ms/epoch - 1ms/step\n",
      "Epoch 3/50\n",
      "29/29 - 0s - loss: 0.6802 - accuracy: 0.5375 - 45ms/epoch - 2ms/step\n",
      "Epoch 4/50\n",
      "29/29 - 0s - loss: 0.6687 - accuracy: 0.6398 - 49ms/epoch - 2ms/step\n",
      "Epoch 5/50\n",
      "29/29 - 0s - loss: 0.6507 - accuracy: 0.6855 - 49ms/epoch - 2ms/step\n",
      "Epoch 6/50\n",
      "29/29 - 0s - loss: 0.6234 - accuracy: 0.7291 - 47ms/epoch - 2ms/step\n",
      "Epoch 7/50\n",
      "29/29 - 0s - loss: 0.5869 - accuracy: 0.7845 - 59ms/epoch - 2ms/step\n",
      "Epoch 8/50\n",
      "29/29 - 0s - loss: 0.5449 - accuracy: 0.8161 - 71ms/epoch - 2ms/step\n",
      "Epoch 9/50\n",
      "29/29 - 0s - loss: 0.5034 - accuracy: 0.8357 - 57ms/epoch - 2ms/step\n",
      "Epoch 10/50\n",
      "29/29 - 0s - loss: 0.4620 - accuracy: 0.8564 - 68ms/epoch - 2ms/step\n",
      "Epoch 11/50\n",
      "29/29 - 0s - loss: 0.4246 - accuracy: 0.8683 - 59ms/epoch - 2ms/step\n",
      "Epoch 12/50\n",
      "29/29 - 0s - loss: 0.3906 - accuracy: 0.8662 - 58ms/epoch - 2ms/step\n",
      "Epoch 13/50\n",
      "29/29 - 0s - loss: 0.3625 - accuracy: 0.8738 - 52ms/epoch - 2ms/step\n",
      "Epoch 14/50\n",
      "29/29 - 0s - loss: 0.3383 - accuracy: 0.8738 - 64ms/epoch - 2ms/step\n",
      "Epoch 15/50\n",
      "29/29 - 0s - loss: 0.3155 - accuracy: 0.8847 - 60ms/epoch - 2ms/step\n",
      "Epoch 16/50\n",
      "29/29 - 0s - loss: 0.3008 - accuracy: 0.8879 - 59ms/epoch - 2ms/step\n",
      "Epoch 17/50\n",
      "29/29 - 0s - loss: 0.2858 - accuracy: 0.8923 - 63ms/epoch - 2ms/step\n",
      "Epoch 18/50\n",
      "29/29 - 0s - loss: 0.2742 - accuracy: 0.8934 - 67ms/epoch - 2ms/step\n",
      "Epoch 19/50\n",
      "29/29 - 0s - loss: 0.2646 - accuracy: 0.8923 - 74ms/epoch - 3ms/step\n",
      "Epoch 20/50\n",
      "29/29 - 0s - loss: 0.2558 - accuracy: 0.9010 - 56ms/epoch - 2ms/step\n",
      "Epoch 21/50\n",
      "29/29 - 0s - loss: 0.2471 - accuracy: 0.9032 - 54ms/epoch - 2ms/step\n",
      "Epoch 22/50\n",
      "29/29 - 0s - loss: 0.2416 - accuracy: 0.8999 - 106ms/epoch - 4ms/step\n",
      "Epoch 23/50\n",
      "29/29 - 0s - loss: 0.2332 - accuracy: 0.9021 - 62ms/epoch - 2ms/step\n",
      "Epoch 24/50\n",
      "29/29 - 0s - loss: 0.2289 - accuracy: 0.9097 - 84ms/epoch - 3ms/step\n",
      "Epoch 25/50\n",
      "29/29 - 0s - loss: 0.2247 - accuracy: 0.9086 - 67ms/epoch - 2ms/step\n",
      "Epoch 26/50\n",
      "29/29 - 0s - loss: 0.2212 - accuracy: 0.9086 - 88ms/epoch - 3ms/step\n",
      "Epoch 27/50\n",
      "29/29 - 0s - loss: 0.2140 - accuracy: 0.9064 - 65ms/epoch - 2ms/step\n",
      "Epoch 28/50\n",
      "29/29 - 0s - loss: 0.2107 - accuracy: 0.9086 - 63ms/epoch - 2ms/step\n",
      "Epoch 29/50\n",
      "29/29 - 0s - loss: 0.2102 - accuracy: 0.9097 - 58ms/epoch - 2ms/step\n",
      "Epoch 30/50\n",
      "29/29 - 0s - loss: 0.2073 - accuracy: 0.9086 - 76ms/epoch - 3ms/step\n",
      "Epoch 31/50\n",
      "29/29 - 0s - loss: 0.2014 - accuracy: 0.9086 - 61ms/epoch - 2ms/step\n",
      "Epoch 32/50\n",
      "29/29 - 0s - loss: 0.1961 - accuracy: 0.9129 - 59ms/epoch - 2ms/step\n",
      "Epoch 33/50\n",
      "29/29 - 0s - loss: 0.1957 - accuracy: 0.9129 - 65ms/epoch - 2ms/step\n",
      "Epoch 34/50\n",
      "29/29 - 0s - loss: 0.1903 - accuracy: 0.9140 - 59ms/epoch - 2ms/step\n",
      "Epoch 35/50\n",
      "29/29 - 0s - loss: 0.1883 - accuracy: 0.9108 - 56ms/epoch - 2ms/step\n",
      "Epoch 36/50\n",
      "29/29 - 0s - loss: 0.1858 - accuracy: 0.9097 - 67ms/epoch - 2ms/step\n",
      "Epoch 37/50\n",
      "29/29 - 0s - loss: 0.1859 - accuracy: 0.9119 - 53ms/epoch - 2ms/step\n",
      "Epoch 38/50\n",
      "29/29 - 0s - loss: 0.1800 - accuracy: 0.9097 - 51ms/epoch - 2ms/step\n",
      "Epoch 39/50\n",
      "29/29 - 0s - loss: 0.1785 - accuracy: 0.9108 - 52ms/epoch - 2ms/step\n",
      "Epoch 40/50\n",
      "29/29 - 0s - loss: 0.1761 - accuracy: 0.9162 - 76ms/epoch - 3ms/step\n",
      "Epoch 41/50\n",
      "29/29 - 0s - loss: 0.1779 - accuracy: 0.9217 - 62ms/epoch - 2ms/step\n",
      "Epoch 42/50\n",
      "29/29 - 0s - loss: 0.1712 - accuracy: 0.9140 - 60ms/epoch - 2ms/step\n",
      "Epoch 43/50\n",
      "29/29 - 0s - loss: 0.1690 - accuracy: 0.9184 - 54ms/epoch - 2ms/step\n",
      "Epoch 44/50\n",
      "29/29 - 0s - loss: 0.1661 - accuracy: 0.9151 - 51ms/epoch - 2ms/step\n",
      "Epoch 45/50\n",
      "29/29 - 0s - loss: 0.1645 - accuracy: 0.9195 - 49ms/epoch - 2ms/step\n",
      "Epoch 46/50\n",
      "29/29 - 0s - loss: 0.1650 - accuracy: 0.9206 - 62ms/epoch - 2ms/step\n",
      "Epoch 47/50\n",
      "29/29 - 0s - loss: 0.1606 - accuracy: 0.9173 - 56ms/epoch - 2ms/step\n",
      "Epoch 48/50\n",
      "29/29 - 0s - loss: 0.1584 - accuracy: 0.9195 - 64ms/epoch - 2ms/step\n",
      "Epoch 49/50\n",
      "29/29 - 0s - loss: 0.1573 - accuracy: 0.9195 - 51ms/epoch - 2ms/step\n",
      "Epoch 50/50\n",
      "29/29 - 0s - loss: 0.1546 - accuracy: 0.9238 - 53ms/epoch - 2ms/step\n",
      "8/8 - 0s - 89ms/epoch - 11ms/step\n",
      "Epoch 1/50\n",
      "29/29 - 1s - loss: 0.6930 - accuracy: 0.4908 - 644ms/epoch - 22ms/step\n"
     ]
    },
    {
     "name": "stdout",
     "output_type": "stream",
     "text": [
      "Epoch 2/50\n",
      "29/29 - 0s - loss: 0.6922 - accuracy: 0.4962 - 44ms/epoch - 2ms/step\n",
      "Epoch 3/50\n",
      "29/29 - 0s - loss: 0.6902 - accuracy: 0.5593 - 58ms/epoch - 2ms/step\n",
      "Epoch 4/50\n",
      "29/29 - 0s - loss: 0.6858 - accuracy: 0.5941 - 53ms/epoch - 2ms/step\n",
      "Epoch 5/50\n",
      "29/29 - 0s - loss: 0.6774 - accuracy: 0.6083 - 56ms/epoch - 2ms/step\n",
      "Epoch 6/50\n",
      "29/29 - 0s - loss: 0.6634 - accuracy: 0.6583 - 46ms/epoch - 2ms/step\n",
      "Epoch 7/50\n",
      "29/29 - 0s - loss: 0.6441 - accuracy: 0.6605 - 48ms/epoch - 2ms/step\n",
      "Epoch 8/50\n",
      "29/29 - 0s - loss: 0.6205 - accuracy: 0.6921 - 47ms/epoch - 2ms/step\n",
      "Epoch 9/50\n",
      "29/29 - 0s - loss: 0.5944 - accuracy: 0.7628 - 51ms/epoch - 2ms/step\n",
      "Epoch 10/50\n",
      "29/29 - 0s - loss: 0.5675 - accuracy: 0.7748 - 52ms/epoch - 2ms/step\n",
      "Epoch 11/50\n",
      "29/29 - 0s - loss: 0.5415 - accuracy: 0.8096 - 57ms/epoch - 2ms/step\n",
      "Epoch 12/50\n",
      "29/29 - 0s - loss: 0.5190 - accuracy: 0.7954 - 41ms/epoch - 1ms/step\n",
      "Epoch 13/50\n",
      "29/29 - 0s - loss: 0.4884 - accuracy: 0.8433 - 43ms/epoch - 1ms/step\n",
      "Epoch 14/50\n",
      "29/29 - 0s - loss: 0.4554 - accuracy: 0.8575 - 49ms/epoch - 2ms/step\n",
      "Epoch 15/50\n",
      "29/29 - 0s - loss: 0.4218 - accuracy: 0.8760 - 44ms/epoch - 2ms/step\n",
      "Epoch 16/50\n",
      "29/29 - 0s - loss: 0.3888 - accuracy: 0.8825 - 41ms/epoch - 1ms/step\n",
      "Epoch 17/50\n",
      "29/29 - 0s - loss: 0.3565 - accuracy: 0.8803 - 41ms/epoch - 1ms/step\n",
      "Epoch 18/50\n",
      "29/29 - 0s - loss: 0.3327 - accuracy: 0.8836 - 43ms/epoch - 1ms/step\n",
      "Epoch 19/50\n",
      "29/29 - 0s - loss: 0.3090 - accuracy: 0.8912 - 53ms/epoch - 2ms/step\n",
      "Epoch 20/50\n",
      "29/29 - 0s - loss: 0.2863 - accuracy: 0.8999 - 53ms/epoch - 2ms/step\n",
      "Epoch 21/50\n",
      "29/29 - 0s - loss: 0.2717 - accuracy: 0.8999 - 59ms/epoch - 2ms/step\n",
      "Epoch 22/50\n",
      "29/29 - 0s - loss: 0.2584 - accuracy: 0.9053 - 52ms/epoch - 2ms/step\n",
      "Epoch 23/50\n",
      "29/29 - 0s - loss: 0.2506 - accuracy: 0.9064 - 66ms/epoch - 2ms/step\n",
      "Epoch 24/50\n",
      "29/29 - 0s - loss: 0.2432 - accuracy: 0.9075 - 54ms/epoch - 2ms/step\n",
      "Epoch 25/50\n",
      "29/29 - 0s - loss: 0.2353 - accuracy: 0.9119 - 62ms/epoch - 2ms/step\n",
      "Epoch 26/50\n",
      "29/29 - 0s - loss: 0.2302 - accuracy: 0.9097 - 64ms/epoch - 2ms/step\n",
      "Epoch 27/50\n",
      "29/29 - 0s - loss: 0.2272 - accuracy: 0.9108 - 93ms/epoch - 3ms/step\n",
      "Epoch 28/50\n",
      "29/29 - 0s - loss: 0.2192 - accuracy: 0.9075 - 75ms/epoch - 3ms/step\n",
      "Epoch 29/50\n",
      "29/29 - 0s - loss: 0.2143 - accuracy: 0.9108 - 68ms/epoch - 2ms/step\n",
      "Epoch 30/50\n",
      "29/29 - 0s - loss: 0.2082 - accuracy: 0.9119 - 65ms/epoch - 2ms/step\n",
      "Epoch 31/50\n",
      "29/29 - 0s - loss: 0.2051 - accuracy: 0.9129 - 66ms/epoch - 2ms/step\n",
      "Epoch 32/50\n",
      "29/29 - 0s - loss: 0.2009 - accuracy: 0.9140 - 55ms/epoch - 2ms/step\n",
      "Epoch 33/50\n",
      "29/29 - 0s - loss: 0.1979 - accuracy: 0.9140 - 71ms/epoch - 2ms/step\n",
      "Epoch 34/50\n",
      "29/29 - 0s - loss: 0.1932 - accuracy: 0.9151 - 51ms/epoch - 2ms/step\n",
      "Epoch 35/50\n",
      "29/29 - 0s - loss: 0.1916 - accuracy: 0.9129 - 65ms/epoch - 2ms/step\n",
      "Epoch 36/50\n",
      "29/29 - 0s - loss: 0.1880 - accuracy: 0.9173 - 58ms/epoch - 2ms/step\n",
      "Epoch 37/50\n",
      "29/29 - 0s - loss: 0.1832 - accuracy: 0.9140 - 67ms/epoch - 2ms/step\n",
      "Epoch 38/50\n",
      "29/29 - 0s - loss: 0.1802 - accuracy: 0.9195 - 55ms/epoch - 2ms/step\n",
      "Epoch 39/50\n",
      "29/29 - 0s - loss: 0.1779 - accuracy: 0.9195 - 69ms/epoch - 2ms/step\n",
      "Epoch 40/50\n",
      "29/29 - 0s - loss: 0.1753 - accuracy: 0.9238 - 62ms/epoch - 2ms/step\n",
      "Epoch 41/50\n",
      "29/29 - 0s - loss: 0.1718 - accuracy: 0.9249 - 61ms/epoch - 2ms/step\n",
      "Epoch 42/50\n",
      "29/29 - 0s - loss: 0.1707 - accuracy: 0.9217 - 65ms/epoch - 2ms/step\n",
      "Epoch 43/50\n",
      "29/29 - 0s - loss: 0.1674 - accuracy: 0.9217 - 59ms/epoch - 2ms/step\n",
      "Epoch 44/50\n",
      "29/29 - 0s - loss: 0.1654 - accuracy: 0.9217 - 53ms/epoch - 2ms/step\n",
      "Epoch 45/50\n",
      "29/29 - 0s - loss: 0.1633 - accuracy: 0.9271 - 70ms/epoch - 2ms/step\n",
      "Epoch 46/50\n",
      "29/29 - 0s - loss: 0.1598 - accuracy: 0.9293 - 59ms/epoch - 2ms/step\n",
      "Epoch 47/50\n",
      "29/29 - 0s - loss: 0.1639 - accuracy: 0.9249 - 50ms/epoch - 2ms/step\n",
      "Epoch 48/50\n",
      "29/29 - 0s - loss: 0.1552 - accuracy: 0.9271 - 55ms/epoch - 2ms/step\n",
      "Epoch 49/50\n",
      "29/29 - 0s - loss: 0.1552 - accuracy: 0.9293 - 53ms/epoch - 2ms/step\n",
      "Epoch 50/50\n",
      "29/29 - 0s - loss: 0.1535 - accuracy: 0.9314 - 50ms/epoch - 2ms/step\n",
      "8/8 - 0s - 82ms/epoch - 10ms/step\n",
      "Epoch 1/50\n",
      "29/29 - 1s - loss: 0.6927 - accuracy: 0.4951 - 712ms/epoch - 25ms/step\n",
      "Epoch 2/50\n",
      "29/29 - 0s - loss: 0.6901 - accuracy: 0.5680 - 59ms/epoch - 2ms/step\n",
      "Epoch 3/50\n",
      "29/29 - 0s - loss: 0.6827 - accuracy: 0.7911 - 59ms/epoch - 2ms/step\n",
      "Epoch 4/50\n",
      "29/29 - 0s - loss: 0.6710 - accuracy: 0.8172 - 57ms/epoch - 2ms/step\n",
      "Epoch 5/50\n",
      "29/29 - 0s - loss: 0.6515 - accuracy: 0.8259 - 52ms/epoch - 2ms/step\n",
      "Epoch 6/50\n",
      "29/29 - 0s - loss: 0.6225 - accuracy: 0.8411 - 64ms/epoch - 2ms/step\n",
      "Epoch 7/50\n",
      "29/29 - 0s - loss: 0.5828 - accuracy: 0.8455 - 48ms/epoch - 2ms/step\n",
      "Epoch 8/50\n",
      "29/29 - 0s - loss: 0.5344 - accuracy: 0.8455 - 71ms/epoch - 2ms/step\n",
      "Epoch 9/50\n",
      "29/29 - 0s - loss: 0.4842 - accuracy: 0.8498 - 63ms/epoch - 2ms/step\n",
      "Epoch 10/50\n",
      "29/29 - 0s - loss: 0.4380 - accuracy: 0.8553 - 50ms/epoch - 2ms/step\n",
      "Epoch 11/50\n",
      "29/29 - 0s - loss: 0.3995 - accuracy: 0.8618 - 74ms/epoch - 3ms/step\n",
      "Epoch 12/50\n",
      "29/29 - 0s - loss: 0.3672 - accuracy: 0.8629 - 53ms/epoch - 2ms/step\n",
      "Epoch 13/50\n",
      "29/29 - 0s - loss: 0.3449 - accuracy: 0.8694 - 54ms/epoch - 2ms/step\n",
      "Epoch 14/50\n",
      "29/29 - 0s - loss: 0.3251 - accuracy: 0.8814 - 61ms/epoch - 2ms/step\n",
      "Epoch 15/50\n",
      "29/29 - 0s - loss: 0.3131 - accuracy: 0.8738 - 62ms/epoch - 2ms/step\n",
      "Epoch 16/50\n",
      "29/29 - 0s - loss: 0.3015 - accuracy: 0.8792 - 62ms/epoch - 2ms/step\n",
      "Epoch 17/50\n",
      "29/29 - 0s - loss: 0.2905 - accuracy: 0.8814 - 50ms/epoch - 2ms/step\n",
      "Epoch 18/50\n",
      "29/29 - 0s - loss: 0.2813 - accuracy: 0.8901 - 61ms/epoch - 2ms/step\n",
      "Epoch 19/50\n",
      "29/29 - 0s - loss: 0.2748 - accuracy: 0.8923 - 45ms/epoch - 2ms/step\n",
      "Epoch 20/50\n",
      "29/29 - 0s - loss: 0.2680 - accuracy: 0.8879 - 68ms/epoch - 2ms/step\n",
      "Epoch 21/50\n",
      "29/29 - 0s - loss: 0.2645 - accuracy: 0.8868 - 54ms/epoch - 2ms/step\n",
      "Epoch 22/50\n",
      "29/29 - 0s - loss: 0.2578 - accuracy: 0.8923 - 58ms/epoch - 2ms/step\n",
      "Epoch 23/50\n",
      "29/29 - 0s - loss: 0.2532 - accuracy: 0.8912 - 50ms/epoch - 2ms/step\n",
      "Epoch 24/50\n",
      "29/29 - 0s - loss: 0.2486 - accuracy: 0.8945 - 76ms/epoch - 3ms/step\n",
      "Epoch 25/50\n",
      "29/29 - 0s - loss: 0.2445 - accuracy: 0.8901 - 63ms/epoch - 2ms/step\n",
      "Epoch 26/50\n",
      "29/29 - 0s - loss: 0.2401 - accuracy: 0.8977 - 64ms/epoch - 2ms/step\n",
      "Epoch 27/50\n",
      "29/29 - 0s - loss: 0.2372 - accuracy: 0.8977 - 47ms/epoch - 2ms/step\n",
      "Epoch 28/50\n",
      "29/29 - 0s - loss: 0.2340 - accuracy: 0.8999 - 47ms/epoch - 2ms/step\n",
      "Epoch 29/50\n",
      "29/29 - 0s - loss: 0.2317 - accuracy: 0.8934 - 46ms/epoch - 2ms/step\n",
      "Epoch 30/50\n",
      "29/29 - 0s - loss: 0.2278 - accuracy: 0.8999 - 38ms/epoch - 1ms/step\n",
      "Epoch 31/50\n",
      "29/29 - 0s - loss: 0.2274 - accuracy: 0.8988 - 42ms/epoch - 1ms/step\n",
      "Epoch 32/50\n",
      "29/29 - 0s - loss: 0.2274 - accuracy: 0.9053 - 65ms/epoch - 2ms/step\n",
      "Epoch 33/50\n",
      "29/29 - 0s - loss: 0.2237 - accuracy: 0.8966 - 53ms/epoch - 2ms/step\n",
      "Epoch 34/50\n",
      "29/29 - 0s - loss: 0.2196 - accuracy: 0.9021 - 58ms/epoch - 2ms/step\n",
      "Epoch 35/50\n",
      "29/29 - 0s - loss: 0.2229 - accuracy: 0.8988 - 88ms/epoch - 3ms/step\n",
      "Epoch 36/50\n",
      "29/29 - 0s - loss: 0.2156 - accuracy: 0.9021 - 55ms/epoch - 2ms/step\n",
      "Epoch 37/50\n",
      "29/29 - 0s - loss: 0.2138 - accuracy: 0.9053 - 54ms/epoch - 2ms/step\n",
      "Epoch 38/50\n",
      "29/29 - 0s - loss: 0.2144 - accuracy: 0.8955 - 45ms/epoch - 2ms/step\n",
      "Epoch 39/50\n",
      "29/29 - 0s - loss: 0.2110 - accuracy: 0.9032 - 64ms/epoch - 2ms/step\n",
      "Epoch 40/50\n",
      "29/29 - 0s - loss: 0.2102 - accuracy: 0.9010 - 65ms/epoch - 2ms/step\n",
      "Epoch 41/50\n",
      "29/29 - 0s - loss: 0.2067 - accuracy: 0.9042 - 57ms/epoch - 2ms/step\n",
      "Epoch 42/50\n",
      "29/29 - 0s - loss: 0.2058 - accuracy: 0.9075 - 59ms/epoch - 2ms/step\n",
      "Epoch 43/50\n",
      "29/29 - 0s - loss: 0.2046 - accuracy: 0.9075 - 58ms/epoch - 2ms/step\n",
      "Epoch 44/50\n",
      "29/29 - 0s - loss: 0.2021 - accuracy: 0.9086 - 43ms/epoch - 1ms/step\n",
      "Epoch 45/50\n",
      "29/29 - 0s - loss: 0.2021 - accuracy: 0.9032 - 45ms/epoch - 2ms/step\n",
      "Epoch 46/50\n",
      "29/29 - 0s - loss: 0.2016 - accuracy: 0.9097 - 48ms/epoch - 2ms/step\n",
      "Epoch 47/50\n",
      "29/29 - 0s - loss: 0.1989 - accuracy: 0.9140 - 39ms/epoch - 1ms/step\n",
      "Epoch 48/50\n",
      "29/29 - 0s - loss: 0.1993 - accuracy: 0.9097 - 45ms/epoch - 2ms/step\n",
      "Epoch 49/50\n",
      "29/29 - 0s - loss: 0.1963 - accuracy: 0.9086 - 45ms/epoch - 2ms/step\n",
      "Epoch 50/50\n",
      "29/29 - 0s - loss: 0.1936 - accuracy: 0.9053 - 55ms/epoch - 2ms/step\n",
      "8/8 - 0s - 113ms/epoch - 14ms/step\n",
      "Epoch 1/50\n",
      "29/29 - 1s - loss: 0.6937 - accuracy: 0.4946 - 639ms/epoch - 22ms/step\n",
      "Epoch 2/50\n",
      "29/29 - 0s - loss: 0.6899 - accuracy: 0.6435 - 62ms/epoch - 2ms/step\n"
     ]
    },
    {
     "name": "stdout",
     "output_type": "stream",
     "text": [
      "Epoch 3/50\n",
      "29/29 - 0s - loss: 0.6855 - accuracy: 0.6533 - 70ms/epoch - 2ms/step\n",
      "Epoch 4/50\n",
      "29/29 - 0s - loss: 0.6778 - accuracy: 0.6696 - 59ms/epoch - 2ms/step\n",
      "Epoch 5/50\n",
      "29/29 - 0s - loss: 0.6651 - accuracy: 0.6739 - 68ms/epoch - 2ms/step\n",
      "Epoch 6/50\n",
      "29/29 - 0s - loss: 0.6462 - accuracy: 0.7293 - 66ms/epoch - 2ms/step\n",
      "Epoch 7/50\n",
      "29/29 - 0s - loss: 0.6212 - accuracy: 0.7543 - 69ms/epoch - 2ms/step\n",
      "Epoch 8/50\n",
      "29/29 - 0s - loss: 0.5907 - accuracy: 0.7891 - 58ms/epoch - 2ms/step\n",
      "Epoch 9/50\n",
      "29/29 - 0s - loss: 0.5539 - accuracy: 0.8076 - 44ms/epoch - 2ms/step\n",
      "Epoch 10/50\n",
      "29/29 - 0s - loss: 0.5140 - accuracy: 0.8326 - 66ms/epoch - 2ms/step\n",
      "Epoch 11/50\n",
      "29/29 - 0s - loss: 0.4710 - accuracy: 0.8554 - 50ms/epoch - 2ms/step\n",
      "Epoch 12/50\n",
      "29/29 - 0s - loss: 0.4267 - accuracy: 0.8793 - 57ms/epoch - 2ms/step\n",
      "Epoch 13/50\n",
      "29/29 - 0s - loss: 0.3875 - accuracy: 0.8783 - 61ms/epoch - 2ms/step\n",
      "Epoch 14/50\n",
      "29/29 - 0s - loss: 0.3489 - accuracy: 0.8870 - 52ms/epoch - 2ms/step\n",
      "Epoch 15/50\n",
      "29/29 - 0s - loss: 0.3201 - accuracy: 0.8913 - 54ms/epoch - 2ms/step\n",
      "Epoch 16/50\n",
      "29/29 - 0s - loss: 0.2968 - accuracy: 0.8989 - 62ms/epoch - 2ms/step\n",
      "Epoch 17/50\n",
      "29/29 - 0s - loss: 0.2784 - accuracy: 0.8978 - 53ms/epoch - 2ms/step\n",
      "Epoch 18/50\n",
      "29/29 - 0s - loss: 0.2637 - accuracy: 0.9011 - 54ms/epoch - 2ms/step\n",
      "Epoch 19/50\n",
      "29/29 - 0s - loss: 0.2509 - accuracy: 0.9065 - 51ms/epoch - 2ms/step\n",
      "Epoch 20/50\n",
      "29/29 - 0s - loss: 0.2441 - accuracy: 0.9065 - 53ms/epoch - 2ms/step\n",
      "Epoch 21/50\n",
      "29/29 - 0s - loss: 0.2343 - accuracy: 0.9098 - 63ms/epoch - 2ms/step\n",
      "Epoch 22/50\n",
      "29/29 - 0s - loss: 0.2260 - accuracy: 0.9130 - 47ms/epoch - 2ms/step\n",
      "Epoch 23/50\n",
      "29/29 - 0s - loss: 0.2188 - accuracy: 0.9174 - 49ms/epoch - 2ms/step\n",
      "Epoch 24/50\n",
      "29/29 - 0s - loss: 0.2135 - accuracy: 0.9152 - 43ms/epoch - 1ms/step\n",
      "Epoch 25/50\n",
      "29/29 - 0s - loss: 0.2093 - accuracy: 0.9174 - 61ms/epoch - 2ms/step\n",
      "Epoch 26/50\n",
      "29/29 - 0s - loss: 0.2038 - accuracy: 0.9163 - 54ms/epoch - 2ms/step\n",
      "Epoch 27/50\n",
      "29/29 - 0s - loss: 0.2038 - accuracy: 0.9174 - 53ms/epoch - 2ms/step\n",
      "Epoch 28/50\n",
      "29/29 - 0s - loss: 0.1994 - accuracy: 0.9163 - 47ms/epoch - 2ms/step\n",
      "Epoch 29/50\n",
      "29/29 - 0s - loss: 0.1926 - accuracy: 0.9207 - 55ms/epoch - 2ms/step\n",
      "Epoch 30/50\n",
      "29/29 - 0s - loss: 0.1876 - accuracy: 0.9207 - 53ms/epoch - 2ms/step\n",
      "Epoch 31/50\n",
      "29/29 - 0s - loss: 0.1880 - accuracy: 0.9196 - 59ms/epoch - 2ms/step\n",
      "Epoch 32/50\n",
      "29/29 - 0s - loss: 0.1812 - accuracy: 0.9250 - 59ms/epoch - 2ms/step\n",
      "Epoch 33/50\n",
      "29/29 - 0s - loss: 0.1797 - accuracy: 0.9272 - 52ms/epoch - 2ms/step\n",
      "Epoch 34/50\n",
      "29/29 - 0s - loss: 0.1790 - accuracy: 0.9304 - 62ms/epoch - 2ms/step\n",
      "Epoch 35/50\n",
      "29/29 - 0s - loss: 0.1767 - accuracy: 0.9261 - 53ms/epoch - 2ms/step\n",
      "Epoch 36/50\n",
      "29/29 - 0s - loss: 0.1719 - accuracy: 0.9304 - 64ms/epoch - 2ms/step\n",
      "Epoch 37/50\n",
      "29/29 - 0s - loss: 0.1709 - accuracy: 0.9239 - 50ms/epoch - 2ms/step\n",
      "Epoch 38/50\n",
      "29/29 - 0s - loss: 0.1668 - accuracy: 0.9315 - 60ms/epoch - 2ms/step\n",
      "Epoch 39/50\n",
      "29/29 - 0s - loss: 0.1673 - accuracy: 0.9304 - 56ms/epoch - 2ms/step\n",
      "Epoch 40/50\n",
      "29/29 - 0s - loss: 0.1628 - accuracy: 0.9348 - 57ms/epoch - 2ms/step\n",
      "Epoch 41/50\n",
      "29/29 - 0s - loss: 0.1585 - accuracy: 0.9370 - 56ms/epoch - 2ms/step\n",
      "Epoch 42/50\n",
      "29/29 - 0s - loss: 0.1527 - accuracy: 0.9380 - 61ms/epoch - 2ms/step\n",
      "Epoch 43/50\n",
      "29/29 - 0s - loss: 0.1628 - accuracy: 0.9326 - 67ms/epoch - 2ms/step\n",
      "Epoch 44/50\n",
      "29/29 - 0s - loss: 0.1531 - accuracy: 0.9348 - 56ms/epoch - 2ms/step\n",
      "Epoch 45/50\n",
      "29/29 - 0s - loss: 0.1499 - accuracy: 0.9348 - 62ms/epoch - 2ms/step\n",
      "Epoch 46/50\n",
      "29/29 - 0s - loss: 0.1513 - accuracy: 0.9326 - 47ms/epoch - 2ms/step\n",
      "Epoch 47/50\n",
      "29/29 - 0s - loss: 0.1451 - accuracy: 0.9370 - 55ms/epoch - 2ms/step\n",
      "Epoch 48/50\n",
      "29/29 - 0s - loss: 0.1413 - accuracy: 0.9370 - 57ms/epoch - 2ms/step\n",
      "Epoch 49/50\n",
      "29/29 - 0s - loss: 0.1429 - accuracy: 0.9413 - 55ms/epoch - 2ms/step\n",
      "Epoch 50/50\n",
      "29/29 - 0s - loss: 0.1387 - accuracy: 0.9413 - 64ms/epoch - 2ms/step\n",
      "8/8 - 0s - 89ms/epoch - 11ms/step\n"
     ]
    },
    {
     "data": {
      "text/plain": [
       "array([0.94782609, 0.91304348, 0.93043478, 0.93913043, 0.88646288])"
      ]
     },
     "execution_count": 33,
     "metadata": {},
     "output_type": "execute_result"
    }
   ],
   "source": [
    "cross_val_score(keras_model, X_pure_train, y_pure_train)"
   ]
  },
  {
   "cell_type": "code",
   "execution_count": 34,
   "metadata": {},
   "outputs": [
    {
     "data": {
      "text/html": [
       "<style>#sk-container-id-1 {color: black;}#sk-container-id-1 pre{padding: 0;}#sk-container-id-1 div.sk-toggleable {background-color: white;}#sk-container-id-1 label.sk-toggleable__label {cursor: pointer;display: block;width: 100%;margin-bottom: 0;padding: 0.3em;box-sizing: border-box;text-align: center;}#sk-container-id-1 label.sk-toggleable__label-arrow:before {content: \"▸\";float: left;margin-right: 0.25em;color: #696969;}#sk-container-id-1 label.sk-toggleable__label-arrow:hover:before {color: black;}#sk-container-id-1 div.sk-estimator:hover label.sk-toggleable__label-arrow:before {color: black;}#sk-container-id-1 div.sk-toggleable__content {max-height: 0;max-width: 0;overflow: hidden;text-align: left;background-color: #f0f8ff;}#sk-container-id-1 div.sk-toggleable__content pre {margin: 0.2em;color: black;border-radius: 0.25em;background-color: #f0f8ff;}#sk-container-id-1 input.sk-toggleable__control:checked~div.sk-toggleable__content {max-height: 200px;max-width: 100%;overflow: auto;}#sk-container-id-1 input.sk-toggleable__control:checked~label.sk-toggleable__label-arrow:before {content: \"▾\";}#sk-container-id-1 div.sk-estimator input.sk-toggleable__control:checked~label.sk-toggleable__label {background-color: #d4ebff;}#sk-container-id-1 div.sk-label input.sk-toggleable__control:checked~label.sk-toggleable__label {background-color: #d4ebff;}#sk-container-id-1 input.sk-hidden--visually {border: 0;clip: rect(1px 1px 1px 1px);clip: rect(1px, 1px, 1px, 1px);height: 1px;margin: -1px;overflow: hidden;padding: 0;position: absolute;width: 1px;}#sk-container-id-1 div.sk-estimator {font-family: monospace;background-color: #f0f8ff;border: 1px dotted black;border-radius: 0.25em;box-sizing: border-box;margin-bottom: 0.5em;}#sk-container-id-1 div.sk-estimator:hover {background-color: #d4ebff;}#sk-container-id-1 div.sk-parallel-item::after {content: \"\";width: 100%;border-bottom: 1px solid gray;flex-grow: 1;}#sk-container-id-1 div.sk-label:hover label.sk-toggleable__label {background-color: #d4ebff;}#sk-container-id-1 div.sk-serial::before {content: \"\";position: absolute;border-left: 1px solid gray;box-sizing: border-box;top: 0;bottom: 0;left: 50%;z-index: 0;}#sk-container-id-1 div.sk-serial {display: flex;flex-direction: column;align-items: center;background-color: white;padding-right: 0.2em;padding-left: 0.2em;position: relative;}#sk-container-id-1 div.sk-item {position: relative;z-index: 1;}#sk-container-id-1 div.sk-parallel {display: flex;align-items: stretch;justify-content: center;background-color: white;position: relative;}#sk-container-id-1 div.sk-item::before, #sk-container-id-1 div.sk-parallel-item::before {content: \"\";position: absolute;border-left: 1px solid gray;box-sizing: border-box;top: 0;bottom: 0;left: 50%;z-index: -1;}#sk-container-id-1 div.sk-parallel-item {display: flex;flex-direction: column;z-index: 1;position: relative;background-color: white;}#sk-container-id-1 div.sk-parallel-item:first-child::after {align-self: flex-end;width: 50%;}#sk-container-id-1 div.sk-parallel-item:last-child::after {align-self: flex-start;width: 50%;}#sk-container-id-1 div.sk-parallel-item:only-child::after {width: 0;}#sk-container-id-1 div.sk-dashed-wrapped {border: 1px dashed gray;margin: 0 0.4em 0.5em 0.4em;box-sizing: border-box;padding-bottom: 0.4em;background-color: white;}#sk-container-id-1 div.sk-label label {font-family: monospace;font-weight: bold;display: inline-block;line-height: 1.2em;}#sk-container-id-1 div.sk-label-container {text-align: center;}#sk-container-id-1 div.sk-container {/* jupyter's `normalize.less` sets `[hidden] { display: none; }` but bootstrap.min.css set `[hidden] { display: none !important; }` so we also need the `!important` here to be able to override the default hidden behavior on the sphinx rendered scikit-learn.org. See: https://github.com/scikit-learn/scikit-learn/issues/21755 */display: inline-block !important;position: relative;}#sk-container-id-1 div.sk-text-repr-fallback {display: none;}</style><div id=\"sk-container-id-1\" class=\"sk-top-container\"><div class=\"sk-text-repr-fallback\"><pre>KerasClassifier(\n",
       "\tmodel=&lt;function build_model at 0x7f898d98bb80&gt;\n",
       "\tbuild_fn=None\n",
       "\twarm_start=False\n",
       "\trandom_state=None\n",
       "\toptimizer=rmsprop\n",
       "\tloss=None\n",
       "\tmetrics=None\n",
       "\tbatch_size=32\n",
       "\tvalidation_batch_size=None\n",
       "\tverbose=2\n",
       "\tcallbacks=None\n",
       "\tvalidation_split=0.0\n",
       "\tshuffle=True\n",
       "\trun_eagerly=False\n",
       "\tepochs=50\n",
       "\tclass_weight=None\n",
       ")</pre><b>In a Jupyter environment, please rerun this cell to show the HTML representation or trust the notebook. <br />On GitHub, the HTML representation is unable to render, please try loading this page with nbviewer.org.</b></div><div class=\"sk-container\" hidden><div class=\"sk-item\"><div class=\"sk-estimator sk-toggleable\"><input class=\"sk-toggleable__control sk-hidden--visually\" id=\"sk-estimator-id-1\" type=\"checkbox\" checked><label for=\"sk-estimator-id-1\" class=\"sk-toggleable__label sk-toggleable__label-arrow\">KerasClassifier</label><div class=\"sk-toggleable__content\"><pre>KerasClassifier(\n",
       "\tmodel=&lt;function build_model at 0x7f898d98bb80&gt;\n",
       "\tbuild_fn=None\n",
       "\twarm_start=False\n",
       "\trandom_state=None\n",
       "\toptimizer=rmsprop\n",
       "\tloss=None\n",
       "\tmetrics=None\n",
       "\tbatch_size=32\n",
       "\tvalidation_batch_size=None\n",
       "\tverbose=2\n",
       "\tcallbacks=None\n",
       "\tvalidation_split=0.0\n",
       "\tshuffle=True\n",
       "\trun_eagerly=False\n",
       "\tepochs=50\n",
       "\tclass_weight=None\n",
       ")</pre></div></div></div></div></div>"
      ],
      "text/plain": [
       "KerasClassifier(\n",
       "\tmodel=<function build_model at 0x7f898d98bb80>\n",
       "\tbuild_fn=None\n",
       "\twarm_start=False\n",
       "\trandom_state=None\n",
       "\toptimizer=rmsprop\n",
       "\tloss=None\n",
       "\tmetrics=None\n",
       "\tbatch_size=32\n",
       "\tvalidation_batch_size=None\n",
       "\tverbose=2\n",
       "\tcallbacks=None\n",
       "\tvalidation_split=0.0\n",
       "\tshuffle=True\n",
       "\trun_eagerly=False\n",
       "\tepochs=50\n",
       "\tclass_weight=None\n",
       ")"
      ]
     },
     "execution_count": 34,
     "metadata": {},
     "output_type": "execute_result"
    }
   ],
   "source": [
    "# David is going to look into scoring this later for test data\n",
    "keras_model"
   ]
  },
  {
   "cell_type": "code",
   "execution_count": 35,
   "metadata": {},
   "outputs": [],
   "source": [
    "# generally adding validation data as a hyperparameter \n",
    "# is better than cross val score"
   ]
  },
  {
   "cell_type": "markdown",
   "metadata": {
    "heading_collapsed": true,
    "hidden": true
   },
   "source": [
    "## Regularization"
   ]
  },
  {
   "cell_type": "markdown",
   "metadata": {
    "hidden": true
   },
   "source": [
    "Does regularization make sense in the context of neural networks? <br/>\n",
    "\n",
    "Yes! We still have all of the salient ingredients: a loss function, overfitting vs. underfitting, and coefficients (weights) that could get too large.\n",
    "\n",
    "But there are now a few different flavors besides L1 and L2 regularization. (Note that L1 regularization is not common in the context of  neural networks.)\n",
    "\n",
    "We'll add a few more layers to give regularization a better chance of making a difference!"
   ]
  },
  {
   "cell_type": "markdown",
   "metadata": {},
   "source": [
    "# L2 regulariztion applied to only 1 layer of the model"
   ]
  },
  {
   "cell_type": "code",
   "execution_count": 36,
   "metadata": {
    "ExecuteTime": {
     "end_time": "2023-10-16T02:57:56.469968Z",
     "start_time": "2023-10-16T02:57:52.018481Z"
    },
    "hidden": true
   },
   "outputs": [
    {
     "data": {
      "image/png": "[encoded data removed]",
      "text/plain": [
       "<Figure size 1000x500 with 2 Axes>"
      ]
     },
     "metadata": {},
     "output_type": "display_data"
    }
   ],
   "source": [
    "model = Sequential()\n",
    "model.add(Dense(30, activation='relu', input_dim=64))\n",
    "\n",
    "# We can add L2 (or L1) regularization right into\n",
    "# the layer with the kernel_regularizer parameter.\n",
    "\n",
    "# kernel_reg is where you add the regularization\n",
    "model.add(Dense(20, activation='relu',\n",
    "                kernel_regularizer=l2(l2=0.05)))\n",
    "\n",
    "# Note that there is also a bias_regularizer,\n",
    "# but this tends to have less effect.\n",
    "\n",
    "model.add(Dense(12, activation='relu'))\n",
    "model.add(Dense(12, activation='relu'))\n",
    "model.add(Dense(12, activation='relu'))\n",
    "model.add(Dense(8, activation='relu'))\n",
    "model.add(Dense(4, activation='relu'))\n",
    "model.add(Dense(1, activation ='sigmoid'))\n",
    "\n",
    "model.compile(optimizer='adam',\n",
    "              loss='binary_crossentropy',\n",
    "              metrics=['accuracy'])\n",
    "\n",
    "results = model.fit(X_pure_train, y_pure_train, epochs=20, batch_size=32,\n",
    "                    verbose=0, validation_data=(X_val, y_val))\n",
    "\n",
    "train_loss = results.history['loss']\n",
    "train_acc = results.history['accuracy']\n",
    "val_loss = results.history['val_loss']\n",
    "val_acc = results.history['val_accuracy']\n",
    "\n",
    "\n",
    "fig, (ax1, ax2) = plt.subplots(1, 2, figsize=(10, 5))\n",
    "sns.lineplot(x=results.epoch, y=train_loss, ax=ax1, label='train_loss')\n",
    "sns.lineplot(x=results.epoch, y=train_acc, ax=ax2, label='train_accuracy')\n",
    "\n",
    "sns.lineplot(x=results.epoch, y=val_loss, ax=ax1, label='val_loss')\n",
    "sns.lineplot(x=results.epoch, y=val_acc, ax=ax2, label='val_accuracy');"
   ]
  },
  {
   "cell_type": "markdown",
   "metadata": {
    "hidden": true
   },
   "source": [
    "# Adding L2 REGULARIZATION to multiple layers:"
   ]
  },
  {
   "cell_type": "code",
   "execution_count": 37,
   "metadata": {
    "ExecuteTime": {
     "end_time": "2023-10-16T02:58:06.107987Z",
     "start_time": "2023-10-16T02:58:01.306992Z"
    },
    "hidden": true
   },
   "outputs": [
    {
     "data": {
      "image/png": "[encoded data removed]",
      "text/plain": [
       "<Figure size 1000x500 with 2 Axes>"
      ]
     },
     "metadata": {},
     "output_type": "display_data"
    }
   ],
   "source": [
    "model = Sequential()\n",
    "model.add(Dense(30, activation='relu',\n",
    "                input_dim=64))\n",
    "model.add(Dense(20, activation='relu',\n",
    "                kernel_regularizer=l2(l2=0.01)))\n",
    "\n",
    "model.add(Dense(12, activation='relu',\n",
    "                kernel_regularizer=l2(l2=0.01)))\n",
    "model.add(Dense(12, activation='relu',\n",
    "                kernel_regularizer=l2(l2=0.01)))\n",
    "model.add(Dense(12, activation='relu',\n",
    "                kernel_regularizer=l2(l2=0.01)))\n",
    "model.add(Dense(8, activation='relu',\n",
    "                kernel_regularizer=l2(l2=0.01)))\n",
    "model.add(Dense(4, activation='relu',\n",
    "                kernel_regularizer=l2(l2=0.01)))\n",
    "model.add(Dense(1, activation='sigmoid'))\n",
    "\n",
    "model.compile(optimizer='adam',\n",
    "              loss='binary_crossentropy',\n",
    "              metrics=['accuracy'])\n",
    "\n",
    "results = model.fit(X_pure_train, y_pure_train, epochs=20, batch_size=32,\n",
    "                    verbose=0, validation_data=(X_val, y_val))\n",
    "\n",
    "train_loss = results.history['loss']\n",
    "train_acc = results.history['accuracy']\n",
    "val_loss = results.history['val_loss']\n",
    "val_acc = results.history['val_accuracy']\n",
    "\n",
    "\n",
    "fig, (ax1, ax2) = plt.subplots(1, 2, figsize=(10, 5))\n",
    "sns.lineplot(x=results.epoch, y=train_loss, ax=ax1, label='train_loss')\n",
    "sns.lineplot(x=results.epoch, y=train_acc, ax=ax2, label='train_accuracy')\n",
    "\n",
    "sns.lineplot(x=results.epoch, y=val_loss, ax=ax1, label='val_loss')\n",
    "sns.lineplot(x=results.epoch, y=val_acc, ax=ax2, label='val_accuracy');"
   ]
  },
  {
   "cell_type": "markdown",
   "metadata": {},
   "source": [
    "# SO THERE CAN BE TOOOOOO MUCH REGULARIZATION, just pay attention"
   ]
  },
  {
   "cell_type": "markdown",
   "metadata": {},
   "source": [
    "# NEXT.........."
   ]
  },
  {
   "cell_type": "markdown",
   "metadata": {},
   "source": [
    "# DROPOUT REGULARIZATION"
   ]
  },
  {
   "cell_type": "markdown",
   "metadata": {
    "heading_collapsed": true,
    "hidden": true
   },
   "source": [
    "### Dropout"
   ]
  },
  {
   "cell_type": "markdown",
   "metadata": {
    "hidden": true
   },
   "source": [
    "We can also specify a dropout layer in keras, which randomly shuts off different nodes during training. This can help to prevent overfitting.\n",
    "\n",
    "![drop_out](images/drop_out.png)"
   ]
  },
  {
   "cell_type": "markdown",
   "metadata": {
    "heading_collapsed": true,
    "hidden": true
   },
   "source": [
    "### Exercise"
   ]
  },
  {
   "cell_type": "markdown",
   "metadata": {
    "hidden": true
   },
   "source": [
    "To add dropout to a `keras` network, simply add it as though it were a layer. It will apply to the immediately preceding layer.\n",
    "\n",
    "Add Dropout to one or more layers below."
   ]
  },
  {
   "cell_type": "code",
   "execution_count": 107,
   "metadata": {
    "ExecuteTime": {
     "end_time": "2023-10-16T02:58:27.548114Z",
     "start_time": "2023-10-16T02:58:18.103072Z"
    },
    "hidden": true,
    "scrolled": false
   },
   "outputs": [
    {
     "data": {
      "image/png": "[encoded data removed]",
      "text/plain": [
       "<Figure size 1000x500 with 2 Axes>"
      ]
     },
     "metadata": {},
     "output_type": "display_data"
    }
   ],
   "source": [
    "# model.add(Dropout(0.5))\n",
    "\n",
    "model = Sequential()\n",
    "model.add(Dense(30, activation='relu', input_dim=64))\n",
    "model.add(Dense(20, activation='relu'))\n",
    "\n",
    "# DROPOUT -> percentage of the inputs to be randomly dropped, training = <Bool> also important\n",
    "# if training=True (default), then dropouts will occur, if False, dropouts will not occur\n",
    "# this will be applied to the Dense layer of 20 nodes that precedes this code\n",
    "model.add(Dropout(0.5))\n",
    "\n",
    "model.add(Dense(12, activation='relu'))\n",
    "\n",
    "# another dropout for above layer\n",
    "model.add(Dropout(0.2))\n",
    "\n",
    "model.add(Dense(12, activation='relu'))\n",
    "model.add(Dense(12, activation='relu'))\n",
    "model.add(Dense(8, activation='relu'))\n",
    "model.add(Dense(4, activation='relu'))\n",
    "model.add(Dense(1, activation ='sigmoid'))\n",
    "\n",
    "model.compile(optimizer='adam',\n",
    "              loss='binary_crossentropy',\n",
    "              metrics=['accuracy'])\n",
    "\n",
    "# VERBOSE SET TO '0' this time!!!!!\n",
    "results = model.fit(X_pure_train, y_pure_train, epochs=50,\n",
    "                    batch_size= 32, verbose=0,\n",
    "                    validation_data=(X_val, y_val))\n",
    "\n",
    "\n",
    "\n",
    "\n",
    "\n",
    "\n",
    "\n",
    "\n",
    "train_loss = results.history['loss']\n",
    "train_acc = results.history['accuracy']\n",
    "val_loss = results.history['val_loss']\n",
    "val_acc = results.history['val_accuracy']\n",
    "\n",
    "\n",
    "fig, (ax1, ax2) = plt.subplots(1, 2, figsize=(10, 5))\n",
    "sns.lineplot(x=results.epoch, y=train_loss, ax=ax1, label='train_loss')\n",
    "sns.lineplot(x=results.epoch, y=train_acc, ax=ax2, label='train_accuracy')\n",
    "\n",
    "sns.lineplot(x=results.epoch, y=val_loss, ax=ax1, label='val_loss')\n",
    "sns.lineplot(x=results.epoch, y=val_acc, ax=ax2, label='val_accuracy');"
   ]
  },
  {
   "cell_type": "markdown",
   "metadata": {
    "hidden": true
   },
   "source": [
    "<details>\n",
    "    <summary>One answer here</summary>\n",
    "<code>model = Sequential()\n",
    "model.add(Dense(30, activation='relu', input_dim=64))\n",
    "model.add(Dense(20, activation='relu'))\n",
    "model.add(Dropout(0.5))\n",
    "model.add(Dense(12, activation='relu'))\n",
    "model.add(Dropout(0.2))\n",
    "model.add(Dense(12, activation='relu'))\n",
    "model.add(Dense(12, activation='relu'))\n",
    "model.add(Dense(8, activation='relu'))\n",
    "model.add(Dense(4, activation='relu'))\n",
    "model.add(Dense(1, activation ='sigmoid'))\n",
    "\n",
    "model.compile(optimizer='adam',\n",
    "              loss='binary_crossentropy',\n",
    "              metrics=['accuracy'])\n",
    "\n",
    "results = model.fit(X_pure_train, y_pure_train, epochs=50,\n",
    "                    batch_size= 32, verbose=0,\n",
    "                    validation_data=(X_val, y_val))\n",
    "\n",
    "train_loss = results.history['loss']\n",
    "train_acc = results.history['accuracy']\n",
    "val_loss = results.history['val_loss']\n",
    "val_acc = results.history['val_accuracy']\n",
    "\n",
    "\n",
    "fig, (ax1, ax2) = plt.subplots(1, 2, figsize=(10, 5))\n",
    "sns.lineplot(x=results.epoch, y=train_loss, ax=ax1, label='train_loss')\n",
    "sns.lineplot(x=results.epoch, y=train_acc, ax=ax2, label='train_accuracy')\n",
    "\n",
    "sns.lineplot(x=results.epoch, y=val_loss, ax=ax1, label='val_loss')\n",
    "sns.lineplot(x=results.epoch, y=val_acc, ax=ax2, label='val_accuracy');</code>\n",
    "</details>"
   ]
  },
  {
   "cell_type": "code",
   "execution_count": 108,
   "metadata": {
    "ExecuteTime": {
     "end_time": "2023-10-16T02:58:34.087381Z",
     "start_time": "2023-10-16T02:58:33.973649Z"
    },
    "hidden": true
   },
   "outputs": [
    {
     "data": {
      "text/plain": [
       "0.9791666865348816"
      ]
     },
     "execution_count": 108,
     "metadata": {},
     "output_type": "execute_result"
    }
   ],
   "source": [
    "results.history['val_accuracy'][-1]"
   ]
  },
  {
   "cell_type": "code",
   "execution_count": 109,
   "metadata": {
    "ExecuteTime": {
     "end_time": "2023-10-16T02:58:34.678055Z",
     "start_time": "2023-10-16T02:58:34.570055Z"
    },
    "hidden": true
   },
   "outputs": [
    {
     "data": {
      "text/plain": [
       "0.9956483840942383"
      ]
     },
     "execution_count": 109,
     "metadata": {},
     "output_type": "execute_result"
    }
   ],
   "source": [
    "results.history['accuracy'][-1]"
   ]
  },
  {
   "cell_type": "markdown",
   "metadata": {},
   "source": [
    "# NEXT........"
   ]
  },
  {
   "cell_type": "markdown",
   "metadata": {},
   "source": [
    "### EARLY STOPPING AS A FORM OF REGULARIZATION TO PREVENT OVERFITTING"
   ]
  },
  {
   "cell_type": "markdown",
   "metadata": {
    "heading_collapsed": true,
    "hidden": true
   },
   "source": [
    "### Early Stopping"
   ]
  },
  {
   "cell_type": "markdown",
   "metadata": {
    "hidden": true
   },
   "source": [
    "We can also tell our neural network to stop once it stops realizing any gain.\n",
    "\n",
    "Here we tell it to stop once the a very small positive change in the validation loss occurs:"
   ]
  },
  {
   "cell_type": "code",
   "execution_count": 41,
   "metadata": {
    "ExecuteTime": {
     "end_time": "2023-10-16T03:01:56.569003Z",
     "start_time": "2023-10-16T03:01:55.027035Z"
    },
    "hidden": true
   },
   "outputs": [
    {
     "name": "stdout",
     "output_type": "stream",
     "text": [
      "Epoch 1/20\n",
      "36/36 [==============================] - 1s 11ms/step - loss: 0.6933 - accuracy: 0.4996 - val_loss: 0.6932 - val_accuracy: 0.4688\n",
      "Epoch 2/20\n",
      "36/36 [==============================] - 0s 4ms/step - loss: 0.6932 - accuracy: 0.5039 - val_loss: 0.6934 - val_accuracy: 0.4688\n",
      "Epoch 2: early stopping\n"
     ]
    },
    {
     "data": {
      "image/png": "[encoded data removed]",
      "text/plain": [
       "<Figure size 1000x500 with 2 Axes>"
      ]
     },
     "metadata": {},
     "output_type": "display_data"
    }
   ],
   "source": [
    "model = Sequential()\n",
    "model.add(Dense(30, activation='relu', input_dim=64))\n",
    "model.add(Dense(20, activation='relu'))\n",
    "model.add(Dropout(0.5))\n",
    "model.add(Dense(12, activation='relu'))\n",
    "model.add(Dense(12, activation='relu'))\n",
    "model.add(Dense(12, activation='relu'))\n",
    "model.add(Dense(8, activation='relu'))\n",
    "model.add(Dense(4, activation='relu'))\n",
    "model.add(Dense(1, activation ='sigmoid'))\n",
    "\n",
    "model.compile(optimizer='adam',\n",
    "              loss='binary_crossentropy',\n",
    "              metrics=['accuracy'])\n",
    "\n",
    "# Define the EarlyStopping object\n",
    "early_stop = EarlyStopping(monitor='val_loss', min_delta=1e-4,\n",
    "                           verbose=1,\n",
    "                           mode='min')\n",
    "\n",
    "# Place this in a list as the value of the `callbacks` parameter\n",
    "# in the `.fit()` method.\n",
    "results = model.fit(X_pure_train, y_pure_train,\n",
    "                    epochs=20, batch_size=32,\n",
    "                    verbose=1, validation_data=(X_val, y_val),\n",
    "                    callbacks=[early_stop]) # must be list, but can be multiple\n",
    "\n",
    "train_loss = results.history['loss']\n",
    "train_acc = results.history['accuracy']\n",
    "val_loss = results.history['val_loss']\n",
    "val_acc = results.history['val_accuracy']\n",
    "\n",
    "\n",
    "fig, (ax1, ax2) = plt.subplots(1, 2, figsize=(10, 5))\n",
    "sns.lineplot(x=results.epoch, y=train_loss, ax=ax1, label='train_loss')\n",
    "sns.lineplot(x=results.epoch, y=train_acc, ax=ax2, label='train_accuracy')\n",
    "\n",
    "sns.lineplot(x=results.epoch, y=val_loss, ax=ax1, label='val_loss')\n",
    "sns.lineplot(x=results.epoch, y=val_acc, ax=ax2, label='val_accuracy');"
   ]
  },
  {
   "cell_type": "markdown",
   "metadata": {
    "heading_collapsed": true,
    "hidden": true
   },
   "source": [
    "### Exercise"
   ]
  },
  {
   "cell_type": "markdown",
   "metadata": {
    "hidden": true
   },
   "source": [
    "That probably stopped too early. We can specify the number of epochs in which it doesn't see decrease in the loss with the `patience` parameter. Modify the code below to include an Early Stop with a patience of 5 epochs."
   ]
  },
  {
   "cell_type": "code",
   "execution_count": 42,
   "metadata": {
    "ExecuteTime": {
     "end_time": "2023-10-16T03:02:13.470343Z",
     "start_time": "2023-10-16T03:02:09.126373Z"
    },
    "hidden": true
   },
   "outputs": [
    {
     "name": "stdout",
     "output_type": "stream",
     "text": [
      "Epoch 38: early stopping\n"
     ]
    },
    {
     "data": {
      "image/png": "[encoded data removed]",
      "text/plain": [
       "<Figure size 1000x500 with 2 Axes>"
      ]
     },
     "metadata": {},
     "output_type": "display_data"
    }
   ],
   "source": [
    "model = Sequential()\n",
    "model.add(Dense(30, activation='relu', input_dim=64))\n",
    "model.add(Dense(20, activation='relu'))\n",
    "model.add(Dropout(0.5))\n",
    "model.add(Dense(12, activation='relu'))\n",
    "model.add(Dense(12, activation='relu'))\n",
    "model.add(Dense(12, activation='relu'))\n",
    "model.add(Dense(8, activation='relu'))\n",
    "model.add(Dense(4, activation='relu'))\n",
    "model.add(Dense(1, activation ='sigmoid'))\n",
    "\n",
    "model.compile(optimizer='adam',\n",
    "              loss='binary_crossentropy',\n",
    "              metrics=['accuracy'])\n",
    "\n",
    "# Define the EarlyStopping object\n",
    "early_stop = EarlyStopping(monitor='val_loss', min_delta=1e-8,\n",
    "                           verbose=1, \n",
    "                           patience=5,  # this IS important\n",
    "                           mode='min')\n",
    "\n",
    "# Place this in a list as the value of the `callbacks` parameter\n",
    "# in the `.fit()` method.\n",
    "results = model.fit(X_pure_train, y_pure_train,\n",
    "                    epochs=50, batch_size= 32,\n",
    "                    verbose=0, validation_data=(X_val, y_val),\n",
    "                    callbacks=[early_stop])\n",
    "\n",
    "train_loss = results.history['loss']\n",
    "train_acc = results.history['accuracy']\n",
    "val_loss = results.history['val_loss']\n",
    "val_acc = results.history['val_accuracy']\n",
    "\n",
    "\n",
    "fig, (ax1, ax2) = plt.subplots(1, 2, figsize=(10, 5))\n",
    "sns.lineplot(x=results.epoch, y=train_loss, ax=ax1, label='train_loss')\n",
    "sns.lineplot(x=results.epoch, y=train_acc, ax=ax2, label='train_accuracy')\n",
    "\n",
    "sns.lineplot(x=results.epoch, y=val_loss, ax=ax1, label='val_loss')\n",
    "sns.lineplot(x=results.epoch, y=val_acc, ax=ax2, label='val_accuracy');"
   ]
  },
  {
   "cell_type": "markdown",
   "metadata": {
    "hidden": true
   },
   "source": [
    "<details>\n",
    "    <summary>One answer here</summary>\n",
    "<code>model = Sequential()\n",
    "model.add(Dense(30, activation='relu', input_dim=64))\n",
    "model.add(Dense(20, activation='relu'))\n",
    "model.add(Dropout(0.5))\n",
    "model.add(Dense(12, activation='relu'))\n",
    "model.add(Dense(12, activation='relu'))\n",
    "model.add(Dense(12, activation='relu'))\n",
    "model.add(Dense(8, activation='relu'))\n",
    "model.add(Dense(4, activation='relu'))\n",
    "model.add(Dense(1, activation ='sigmoid'))\n",
    "\n",
    "model.compile(optimizer='adam',\n",
    "              loss='binary_crossentropy',\n",
    "              metrics=['accuracy'])\n",
    "\n",
    "# Define the EarlyStopping object\n",
    "\n",
    "\n",
    "\n",
    "# Place this in a list as the value of the `callbacks` parameter\n",
    "# in the `.fit()` method.\n",
    "results = model.fit(X_pure_train, y_pure_train,\n",
    "                    epochs=50, batch_size= 32,\n",
    "                    verbose=0, validation_data=(X_val, y_val),\n",
    "                    callbacks=[early_stop])\n",
    "\n",
    "train_loss = results.history['loss']\n",
    "train_acc = results.history['accuracy']\n",
    "val_loss = results.history['val_loss']\n",
    "val_acc = results.history['val_accuracy']\n",
    "\n",
    "\n",
    "fig, (ax1, ax2) = plt.subplots(1, 2, figsize=(10, 5))\n",
    "sns.lineplot(x=results.epoch, y=train_loss, ax=ax1, label='train_loss')\n",
    "sns.lineplot(x=results.epoch, y=train_acc, ax=ax2, label='train_accuracy')\n",
    "\n",
    "sns.lineplot(x=results.epoch, y=val_loss, ax=ax1, label='val_loss')\n",
    "sns.lineplot(x=results.epoch, y=val_acc, ax=ax2, label='val_accuracy');</code>\n",
    "</details>"
   ]
  },
  {
   "cell_type": "code",
   "execution_count": 43,
   "metadata": {
    "ExecuteTime": {
     "end_time": "2023-10-16T03:02:20.250416Z",
     "start_time": "2023-10-16T03:02:20.130295Z"
    },
    "hidden": true
   },
   "outputs": [
    {
     "data": {
      "text/plain": [
       "0.96875"
      ]
     },
     "execution_count": 43,
     "metadata": {},
     "output_type": "execute_result"
    }
   ],
   "source": [
    "results.history['val_accuracy'][-1]"
   ]
  },
  {
   "cell_type": "code",
   "execution_count": 44,
   "metadata": {
    "ExecuteTime": {
     "end_time": "2023-10-16T03:02:20.843297Z",
     "start_time": "2023-10-16T03:02:20.735297Z"
    },
    "hidden": true
   },
   "outputs": [
    {
     "data": {
      "text/plain": [
       "0.9712793827056885"
      ]
     },
     "execution_count": 44,
     "metadata": {},
     "output_type": "execute_result"
    }
   ],
   "source": [
    "results.history['accuracy'][-1]"
   ]
  },
  {
   "cell_type": "markdown",
   "metadata": {
    "heading_collapsed": true,
    "hidden": true
   },
   "source": [
    "## Multiclass Classification and Softmax"
   ]
  },
  {
   "cell_type": "markdown",
   "metadata": {
    "hidden": true
   },
   "source": [
    "Now let's return to the problem of predicting digits 0 through 9."
   ]
  },
  {
   "cell_type": "markdown",
   "metadata": {},
   "source": [
    "# SAME DATA, same 3 level split, SAME MIN-MAX Scaling"
   ]
  },
  {
   "cell_type": "code",
   "execution_count": 117,
   "metadata": {
    "ExecuteTime": {
     "end_time": "2023-10-16T03:02:25.088716Z",
     "start_time": "2023-10-16T03:02:24.934687Z"
    },
    "hidden": true
   },
   "outputs": [],
   "source": [
    "digits = load_digits()\n",
    "X = digits.data\n",
    "y = digits.target"
   ]
  },
  {
   "cell_type": "code",
   "execution_count": 118,
   "metadata": {
    "ExecuteTime": {
     "end_time": "2023-10-16T03:02:26.359134Z",
     "start_time": "2023-10-16T03:02:26.254529Z"
    },
    "hidden": true
   },
   "outputs": [],
   "source": [
    "X_train, X_test, y_train, y_test = train_test_split(X, y,\n",
    "                                                    random_state=42,\n",
    "                                                    test_size=0.2)\n",
    "X_pure_train, X_val, y_pure_train, y_val =\\\n",
    "    train_test_split(X_train, y_train,\n",
    "                     random_state=42, test_size=0.2)\n",
    "X_pure_train, X_val, X_test = X_pure_train/16, X_val/16, X_test/16"
   ]
  },
  {
   "cell_type": "markdown",
   "metadata": {},
   "source": [
    "# BUT......."
   ]
  },
  {
   "cell_type": "markdown",
   "metadata": {
    "hidden": true
   },
   "source": [
    "For a multiclass output, our neural net expects our target to be in a certain form."
   ]
  },
  {
   "cell_type": "markdown",
   "metadata": {},
   "source": [
    "### This means that they want our target values to have n rows of labels, and c columns for each class"
   ]
  },
  {
   "cell_type": "markdown",
   "metadata": {},
   "source": [
    "# IMPORTANT"
   ]
  },
  {
   "cell_type": "code",
   "execution_count": 119,
   "metadata": {
    "ExecuteTime": {
     "end_time": "2023-10-16T03:02:28.828868Z",
     "start_time": "2023-10-16T03:02:28.717867Z"
    },
    "hidden": true
   },
   "outputs": [
    {
     "data": {
      "text/plain": [
       "6"
      ]
     },
     "execution_count": 119,
     "metadata": {},
     "output_type": "execute_result"
    }
   ],
   "source": [
    "y_test[0]"
   ]
  },
  {
   "cell_type": "code",
   "execution_count": 120,
   "metadata": {
    "ExecuteTime": {
     "end_time": "2023-10-16T03:02:36.427533Z",
     "start_time": "2023-10-16T03:02:36.313559Z"
    },
    "hidden": true
   },
   "outputs": [],
   "source": [
    "ohe = OneHotEncoder(sparse_output=False)\n",
    "y_pure_train = ohe.fit_transform(y_pure_train.reshape(-1,1))\n",
    "y_val = ohe.transform(y_val.reshape(-1,1))\n",
    "y_test = ohe.transform(y_test.reshape(-1,1))"
   ]
  },
  {
   "cell_type": "code",
   "execution_count": 121,
   "metadata": {},
   "outputs": [
    {
     "data": {
      "text/plain": [
       "(360, 10)"
      ]
     },
     "execution_count": 121,
     "metadata": {},
     "output_type": "execute_result"
    }
   ],
   "source": [
    "y_test.shape"
   ]
  },
  {
   "cell_type": "code",
   "execution_count": 122,
   "metadata": {
    "ExecuteTime": {
     "end_time": "2023-10-16T03:02:37.040568Z",
     "start_time": "2023-10-16T03:02:36.930534Z"
    },
    "hidden": true
   },
   "outputs": [
    {
     "data": {
      "text/plain": [
       "array([0., 0., 0., 0., 0., 0., 1., 0., 0., 0.])"
      ]
     },
     "execution_count": 122,
     "metadata": {},
     "output_type": "execute_result"
    }
   ],
   "source": [
    "y_test[0]"
   ]
  },
  {
   "cell_type": "markdown",
   "metadata": {},
   "source": [
    "# 10 output neurons because we are producing values 0-9"
   ]
  },
  {
   "cell_type": "markdown",
   "metadata": {},
   "source": [
    "### EXPLANATION BELOW THIS CELL..."
   ]
  },
  {
   "cell_type": "code",
   "execution_count": 52,
   "metadata": {
    "ExecuteTime": {
     "end_time": "2023-10-16T03:03:12.127906Z",
     "start_time": "2023-10-16T03:02:48.124764Z"
    },
    "hidden": true
   },
   "outputs": [
    {
     "name": "stdout",
     "output_type": "stream",
     "text": [
      "Epoch 1/50\n",
      "115/115 [==============================] - 1s 5ms/step - loss: 2.2619 - accuracy: 0.1549 - precision: 0.0000e+00 - val_loss: 2.1734 - val_accuracy: 0.2674 - val_precision: 0.0000e+00\n",
      "Epoch 2/50\n",
      "115/115 [==============================] - 0s 3ms/step - loss: 2.0482 - accuracy: 0.3681 - precision: 0.0000e+00 - val_loss: 1.9553 - val_accuracy: 0.3785 - val_precision: 0.0000e+00\n",
      "Epoch 3/50\n",
      "115/115 [==============================] - 0s 3ms/step - loss: 1.7715 - accuracy: 0.4369 - precision: 1.0000 - val_loss: 1.6426 - val_accuracy: 0.5035 - val_precision: 1.0000\n",
      "Epoch 4/50\n",
      "115/115 [==============================] - 0s 3ms/step - loss: 1.4390 - accuracy: 0.5883 - precision: 0.9789 - val_loss: 1.3203 - val_accuracy: 0.6319 - val_precision: 1.0000\n",
      "Epoch 5/50\n",
      "115/115 [==============================] - 0s 3ms/step - loss: 1.1452 - accuracy: 0.7311 - precision: 0.9834 - val_loss: 1.0583 - val_accuracy: 0.7396 - val_precision: 1.0000\n",
      "Epoch 6/50\n",
      "115/115 [==============================] - 0s 3ms/step - loss: 0.9129 - accuracy: 0.7981 - precision: 0.9583 - val_loss: 0.8530 - val_accuracy: 0.8160 - val_precision: 0.9927\n",
      "Epoch 7/50\n",
      "115/115 [==============================] - 0s 3ms/step - loss: 0.7320 - accuracy: 0.8486 - precision: 0.9677 - val_loss: 0.7244 - val_accuracy: 0.8438 - val_precision: 0.9721\n",
      "Epoch 8/50\n",
      "115/115 [==============================] - 0s 3ms/step - loss: 0.6104 - accuracy: 0.8677 - precision: 0.9591 - val_loss: 0.6128 - val_accuracy: 0.8785 - val_precision: 0.9763\n",
      "Epoch 9/50\n",
      "115/115 [==============================] - 0s 2ms/step - loss: 0.5234 - accuracy: 0.8834 - precision: 0.9581 - val_loss: 0.5415 - val_accuracy: 0.8785 - val_precision: 0.9602\n",
      "Epoch 10/50\n",
      "115/115 [==============================] - 0s 2ms/step - loss: 0.4591 - accuracy: 0.8947 - precision: 0.9519 - val_loss: 0.4746 - val_accuracy: 0.8958 - val_precision: 0.9747\n",
      "Epoch 11/50\n",
      "115/115 [==============================] - 0s 3ms/step - loss: 0.4130 - accuracy: 0.8956 - precision: 0.9502 - val_loss: 0.4360 - val_accuracy: 0.8819 - val_precision: 0.9585\n",
      "Epoch 12/50\n",
      "115/115 [==============================] - 0s 3ms/step - loss: 0.3690 - accuracy: 0.9095 - precision: 0.9558 - val_loss: 0.3910 - val_accuracy: 0.9167 - val_precision: 0.9718\n",
      "Epoch 13/50\n",
      "115/115 [==============================] - 0s 3ms/step - loss: 0.3364 - accuracy: 0.9191 - precision: 0.9603 - val_loss: 0.3616 - val_accuracy: 0.9167 - val_precision: 0.9725\n",
      "Epoch 14/50\n",
      "115/115 [==============================] - 0s 3ms/step - loss: 0.3101 - accuracy: 0.9199 - precision: 0.9588 - val_loss: 0.3446 - val_accuracy: 0.9167 - val_precision: 0.9614\n",
      "Epoch 15/50\n",
      "115/115 [==============================] - 0s 3ms/step - loss: 0.2904 - accuracy: 0.9243 - precision: 0.9613 - val_loss: 0.3227 - val_accuracy: 0.9236 - val_precision: 0.9544\n",
      "Epoch 16/50\n",
      "115/115 [==============================] - 0s 2ms/step - loss: 0.2698 - accuracy: 0.9356 - precision: 0.9652 - val_loss: 0.3081 - val_accuracy: 0.9271 - val_precision: 0.9662\n",
      "Epoch 17/50\n",
      "115/115 [==============================] - 0s 2ms/step - loss: 0.2521 - accuracy: 0.9443 - precision: 0.9701 - val_loss: 0.2806 - val_accuracy: 0.9271 - val_precision: 0.9628\n",
      "Epoch 18/50\n",
      "115/115 [==============================] - 0s 2ms/step - loss: 0.2397 - accuracy: 0.9434 - precision: 0.9687 - val_loss: 0.2704 - val_accuracy: 0.9271 - val_precision: 0.9630\n",
      "Epoch 19/50\n",
      "115/115 [==============================] - 0s 2ms/step - loss: 0.2270 - accuracy: 0.9408 - precision: 0.9695 - val_loss: 0.2935 - val_accuracy: 0.9132 - val_precision: 0.9515\n",
      "Epoch 20/50\n",
      "115/115 [==============================] - 0s 2ms/step - loss: 0.2159 - accuracy: 0.9495 - precision: 0.9717 - val_loss: 0.2625 - val_accuracy: 0.9306 - val_precision: 0.9668\n",
      "Epoch 21/50\n",
      "115/115 [==============================] - 0s 2ms/step - loss: 0.2053 - accuracy: 0.9513 - precision: 0.9682 - val_loss: 0.2410 - val_accuracy: 0.9375 - val_precision: 0.9599\n",
      "Epoch 22/50\n",
      "115/115 [==============================] - 0s 2ms/step - loss: 0.1947 - accuracy: 0.9530 - precision: 0.9691 - val_loss: 0.2395 - val_accuracy: 0.9340 - val_precision: 0.9567\n",
      "Epoch 23/50\n",
      "115/115 [==============================] - 0s 3ms/step - loss: 0.1869 - accuracy: 0.9530 - precision: 0.9710 - val_loss: 0.2255 - val_accuracy: 0.9410 - val_precision: 0.9635\n",
      "Epoch 24/50\n",
      "115/115 [==============================] - 0s 4ms/step - loss: 0.1800 - accuracy: 0.9591 - precision: 0.9712 - val_loss: 0.2244 - val_accuracy: 0.9306 - val_precision: 0.9601\n",
      "Epoch 25/50\n",
      "115/115 [==============================] - 0s 3ms/step - loss: 0.1733 - accuracy: 0.9600 - precision: 0.9722 - val_loss: 0.2218 - val_accuracy: 0.9375 - val_precision: 0.9601\n",
      "Epoch 26/50\n",
      "115/115 [==============================] - 0s 3ms/step - loss: 0.1646 - accuracy: 0.9634 - precision: 0.9740 - val_loss: 0.2156 - val_accuracy: 0.9410 - val_precision: 0.9534\n",
      "Epoch 27/50\n",
      "115/115 [==============================] - 0s 3ms/step - loss: 0.1586 - accuracy: 0.9626 - precision: 0.9715 - val_loss: 0.2421 - val_accuracy: 0.9271 - val_precision: 0.9455\n",
      "Epoch 28/50\n",
      "115/115 [==============================] - 0s 2ms/step - loss: 0.1576 - accuracy: 0.9634 - precision: 0.9758 - val_loss: 0.1976 - val_accuracy: 0.9410 - val_precision: 0.9604\n",
      "Epoch 29/50\n",
      "115/115 [==============================] - 0s 2ms/step - loss: 0.1456 - accuracy: 0.9652 - precision: 0.9769 - val_loss: 0.1894 - val_accuracy: 0.9479 - val_precision: 0.9568\n",
      "Epoch 30/50\n",
      "115/115 [==============================] - 0s 2ms/step - loss: 0.1455 - accuracy: 0.9643 - precision: 0.9733 - val_loss: 0.1935 - val_accuracy: 0.9340 - val_precision: 0.9500\n",
      "Epoch 31/50\n",
      "115/115 [==============================] - 0s 4ms/step - loss: 0.1405 - accuracy: 0.9687 - precision: 0.9743 - val_loss: 0.1873 - val_accuracy: 0.9306 - val_precision: 0.9500\n",
      "Epoch 32/50\n",
      "115/115 [==============================] - 0s 3ms/step - loss: 0.1399 - accuracy: 0.9643 - precision: 0.9777 - val_loss: 0.1847 - val_accuracy: 0.9410 - val_precision: 0.9570\n",
      "Epoch 33/50\n",
      "115/115 [==============================] - 0s 3ms/step - loss: 0.1318 - accuracy: 0.9678 - precision: 0.9760 - val_loss: 0.1818 - val_accuracy: 0.9410 - val_precision: 0.9568\n",
      "Epoch 34/50\n",
      "115/115 [==============================] - 0s 3ms/step - loss: 0.1283 - accuracy: 0.9695 - precision: 0.9786 - val_loss: 0.1806 - val_accuracy: 0.9479 - val_precision: 0.9600\n",
      "Epoch 35/50\n",
      "115/115 [==============================] - 0s 3ms/step - loss: 0.1223 - accuracy: 0.9730 - precision: 0.9761 - val_loss: 0.1704 - val_accuracy: 0.9444 - val_precision: 0.9604\n",
      "Epoch 36/50\n",
      "115/115 [==============================] - 0s 2ms/step - loss: 0.1168 - accuracy: 0.9704 - precision: 0.9779 - val_loss: 0.1751 - val_accuracy: 0.9514 - val_precision: 0.9571\n",
      "Epoch 37/50\n",
      "115/115 [==============================] - 0s 2ms/step - loss: 0.1147 - accuracy: 0.9713 - precision: 0.9763 - val_loss: 0.1688 - val_accuracy: 0.9410 - val_precision: 0.9607\n",
      "Epoch 38/50\n",
      "115/115 [==============================] - 0s 3ms/step - loss: 0.1137 - accuracy: 0.9774 - precision: 0.9841 - val_loss: 0.1673 - val_accuracy: 0.9340 - val_precision: 0.9640\n",
      "Epoch 39/50\n",
      "115/115 [==============================] - 0s 4ms/step - loss: 0.1106 - accuracy: 0.9730 - precision: 0.9789 - val_loss: 0.1577 - val_accuracy: 0.9514 - val_precision: 0.9609\n",
      "Epoch 40/50\n",
      "115/115 [==============================] - 0s 3ms/step - loss: 0.1064 - accuracy: 0.9730 - precision: 0.9780 - val_loss: 0.1612 - val_accuracy: 0.9410 - val_precision: 0.9604\n",
      "Epoch 41/50\n",
      "115/115 [==============================] - 0s 3ms/step - loss: 0.1021 - accuracy: 0.9756 - precision: 0.9789 - val_loss: 0.1511 - val_accuracy: 0.9479 - val_precision: 0.9677\n",
      "Epoch 42/50\n",
      "115/115 [==============================] - 0s 3ms/step - loss: 0.1004 - accuracy: 0.9756 - precision: 0.9780 - val_loss: 0.1664 - val_accuracy: 0.9340 - val_precision: 0.9502\n",
      "Epoch 43/50\n",
      "115/115 [==============================] - 0s 3ms/step - loss: 0.0986 - accuracy: 0.9748 - precision: 0.9780 - val_loss: 0.1543 - val_accuracy: 0.9549 - val_precision: 0.9609\n",
      "Epoch 44/50\n",
      "115/115 [==============================] - 0s 4ms/step - loss: 0.0974 - accuracy: 0.9765 - precision: 0.9824 - val_loss: 0.1626 - val_accuracy: 0.9340 - val_precision: 0.9534\n"
     ]
    },
    {
     "name": "stdout",
     "output_type": "stream",
     "text": [
      "Epoch 45/50\n",
      "115/115 [==============================] - 0s 3ms/step - loss: 0.0932 - accuracy: 0.9774 - precision: 0.9799 - val_loss: 0.1417 - val_accuracy: 0.9549 - val_precision: 0.9677\n",
      "Epoch 46/50\n",
      "115/115 [==============================] - 0s 3ms/step - loss: 0.0878 - accuracy: 0.9791 - precision: 0.9851 - val_loss: 0.1574 - val_accuracy: 0.9444 - val_precision: 0.9607\n",
      "Epoch 47/50\n",
      "115/115 [==============================] - 0s 3ms/step - loss: 0.0868 - accuracy: 0.9774 - precision: 0.9824 - val_loss: 0.1558 - val_accuracy: 0.9410 - val_precision: 0.9537\n",
      "Epoch 48/50\n",
      "115/115 [==============================] - 0s 2ms/step - loss: 0.0832 - accuracy: 0.9791 - precision: 0.9842 - val_loss: 0.1357 - val_accuracy: 0.9549 - val_precision: 0.9611\n",
      "Epoch 49/50\n",
      "115/115 [==============================] - 0s 2ms/step - loss: 0.0874 - accuracy: 0.9809 - precision: 0.9833 - val_loss: 0.1370 - val_accuracy: 0.9514 - val_precision: 0.9677\n",
      "Epoch 50/50\n",
      "115/115 [==============================] - 0s 2ms/step - loss: 0.0820 - accuracy: 0.9826 - precision: 0.9869 - val_loss: 0.1354 - val_accuracy: 0.9479 - val_precision: 0.9606\n"
     ]
    }
   ],
   "source": [
    "# Model from above, but now with ten output neurons:\n",
    "\n",
    "model = Sequential()\n",
    "model.add(Dense(12, activation='relu', input_dim=64))\n",
    "model.add(Dense(8, activation='relu'))\n",
    "\n",
    "# ACTIVATION FUNCTION OF SOFTMAX FOR MULTINOMIAL PREDICTION/MULTICLASS CLASSIFICATION\n",
    "model.add(Dense(10, activation='softmax'))\n",
    "\n",
    "model.compile(optimizer='adam',\n",
    "              loss='categorical_crossentropy',\n",
    "              metrics=['accuracy', Precision()])\n",
    "\n",
    "results = model.fit(X_pure_train, y_pure_train,\n",
    "                   epochs=50, batch_size=10,\n",
    "                   validation_data=(X_val, y_val))"
   ]
  },
  {
   "cell_type": "markdown",
   "metadata": {
    "hidden": true
   },
   "source": [
    "$$\\large \\text{Softmax}(x_{i}) = \\frac{\\exp(x_i)}{\\sum_j \\exp(x_j)}$$\n",
    "\n",
    "The sofmax function outputs a number between 0 and 1 for each of our classes.  All of the probabilities of the classes sum up to 1.\n",
    "\n",
    "The number of nodes in our output layer equals the number of categories in our dataset.\n",
    "\n",
    "We also need a new loss function: **categorical crossentropy**, which calculates a separate loss for each label and then sums the results."
   ]
  },
  {
   "cell_type": "code",
   "execution_count": 53,
   "metadata": {
    "ExecuteTime": {
     "end_time": "2023-10-16T03:03:29.634298Z",
     "start_time": "2023-10-16T03:03:29.532192Z"
    },
    "hidden": true
   },
   "outputs": [],
   "source": [
    "history = results.history\n",
    "training_loss = history['loss']\n",
    "val_loss = history['val_loss']\n",
    "training_accuracy = history['accuracy']\n",
    "val_accuracy = history['val_accuracy']"
   ]
  },
  {
   "cell_type": "code",
   "execution_count": 54,
   "metadata": {
    "ExecuteTime": {
     "end_time": "2023-10-16T03:03:32.385811Z",
     "start_time": "2023-10-16T03:03:32.048812Z"
    },
    "hidden": true
   },
   "outputs": [
    {
     "data": {
      "image/png": "[encoded data removed]",
      "text/plain": [
       "<Figure size 1500x500 with 2 Axes>"
      ]
     },
     "metadata": {},
     "output_type": "display_data"
    }
   ],
   "source": [
    "fig, (ax1,ax2) = plt.subplots(1,2,figsize=(15,5))\n",
    "\n",
    "\n",
    "sns.lineplot(x=list(range(len(training_loss))),\n",
    "             y=training_loss, color='r', label='training', ax=ax1)\n",
    "sns.lineplot(x=list(range(len(val_loss))),\n",
    "             y=val_loss, color='b', label='validation', ax=ax1)\n",
    "sns.lineplot(x=list(range(len(training_loss))),\n",
    "             y=training_accuracy, color='r', label='training',ax=ax2)\n",
    "sns.lineplot(x=list(range(len(val_loss))),\n",
    "             y=val_accuracy, color='b', label='validation',ax=ax2)\n",
    "ax1.legend();"
   ]
  },
  {
   "cell_type": "code",
   "execution_count": 55,
   "metadata": {
    "ExecuteTime": {
     "end_time": "2023-10-16T03:03:38.182845Z",
     "start_time": "2023-10-16T03:03:38.008848Z"
    },
    "hidden": true
   },
   "outputs": [
    {
     "name": "stdout",
     "output_type": "stream",
     "text": [
      "12/12 [==============================] - 0s 2ms/step\n"
     ]
    }
   ],
   "source": [
    "y_hat_test = np.argmax(model.predict(X_test), axis=-1)"
   ]
  },
  {
   "cell_type": "markdown",
   "metadata": {},
   "source": [
    "### The model.predict returns the probability for each possible class, and the sum of these probabilites is 1"
   ]
  },
  {
   "cell_type": "code",
   "execution_count": 57,
   "metadata": {},
   "outputs": [
    {
     "name": "stdout",
     "output_type": "stream",
     "text": [
      "12/12 [==============================] - 0s 1ms/step\n"
     ]
    },
    {
     "data": {
      "text/plain": [
       "array([5.22707868e-03, 1.17824646e-04, 5.73573757e-08, 8.33880222e-07,\n",
       "       9.01007006e-05, 1.47977305e-04, 9.93671656e-01, 2.29754896e-05,\n",
       "       4.84095624e-04, 2.37368789e-04], dtype=float32)"
      ]
     },
     "execution_count": 57,
     "metadata": {},
     "output_type": "execute_result"
    }
   ],
   "source": [
    "model.predict(X_test)[0]"
   ]
  },
  {
   "cell_type": "code",
   "execution_count": 124,
   "metadata": {},
   "outputs": [
    {
     "data": {
      "text/plain": [
       "array([[0., 0., 0., 0., 0., 0., 1., 0., 0., 0.],\n",
       "       [0., 0., 0., 0., 0., 0., 0., 0., 0., 1.],\n",
       "       [0., 0., 0., 1., 0., 0., 0., 0., 0., 0.],\n",
       "       [0., 0., 0., 0., 0., 0., 0., 1., 0., 0.],\n",
       "       [0., 0., 1., 0., 0., 0., 0., 0., 0., 0.]])"
      ]
     },
     "execution_count": 124,
     "metadata": {},
     "output_type": "execute_result"
    }
   ],
   "source": [
    "y_test[:5]  # y_test = ohe.transform(y_test.reshape(-1,1))"
   ]
  },
  {
   "cell_type": "code",
   "execution_count": 125,
   "metadata": {},
   "outputs": [
    {
     "data": {
      "text/plain": [
       "array([[6],\n",
       "       [9],\n",
       "       [3],\n",
       "       [7],\n",
       "       [2]])"
      ]
     },
     "execution_count": 125,
     "metadata": {},
     "output_type": "execute_result"
    }
   ],
   "source": [
    "# conversion back to original data\n",
    "ohe.inverse_transform(y_test)[:5]"
   ]
  },
  {
   "cell_type": "code",
   "execution_count": 126,
   "metadata": {
    "ExecuteTime": {
     "end_time": "2023-10-16T03:03:39.317702Z",
     "start_time": "2023-10-16T03:03:39.204581Z"
    },
    "hidden": true
   },
   "outputs": [
    {
     "data": {
      "text/plain": [
       "array([[31,  0,  0,  0,  1,  0,  1,  0,  0,  0],\n",
       "       [ 0, 25,  2,  0,  0,  0,  0,  0,  0,  1],\n",
       "       [ 0,  1, 32,  0,  0,  0,  0,  0,  0,  0],\n",
       "       [ 0,  0,  0, 33,  0,  1,  0,  0,  0,  0],\n",
       "       [ 0,  0,  0,  0, 46,  0,  0,  0,  0,  0],\n",
       "       [ 0,  0,  1,  0,  0, 44,  0,  0,  0,  2],\n",
       "       [ 1,  0,  0,  0,  0,  0, 34,  0,  0,  0],\n",
       "       [ 0,  0,  0,  0,  0,  1,  0, 33,  0,  0],\n",
       "       [ 0,  0,  0,  0,  1,  1,  0,  0, 27,  1],\n",
       "       [ 0,  1,  0,  3,  0,  0,  0,  0,  2, 34]])"
      ]
     },
     "execution_count": 126,
     "metadata": {},
     "output_type": "execute_result"
    }
   ],
   "source": [
    "# converts the data back to its original form...\n",
    "y_test_restore = ohe.inverse_transform(y_test)\n",
    "confusion_matrix(y_test_restore, y_hat_test)  # y_hat_test = np.argmax(model.predict(X_test), axis=-1)\n",
    "\n",
    "# y_hat_test is the maximum value (probability) in a row of 10 values, 1 for each class"
   ]
  },
  {
   "cell_type": "code",
   "execution_count": 59,
   "metadata": {},
   "outputs": [
    {
     "data": {
      "text/plain": [
       "6"
      ]
     },
     "execution_count": 59,
     "metadata": {},
     "output_type": "execute_result"
    }
   ],
   "source": [
    "y_hat_test[0]"
   ]
  },
  {
   "cell_type": "code",
   "execution_count": 60,
   "metadata": {},
   "outputs": [
    {
     "name": "stdout",
     "output_type": "stream",
     "text": [
      "Model: \"sequential_17\"\n",
      "_________________________________________________________________\n",
      " Layer (type)                Output Shape              Param #   \n",
      "=================================================================\n",
      " dense_82 (Dense)            (None, 12)                780       \n",
      "                                                                 \n",
      " dense_83 (Dense)            (None, 8)                 104       \n",
      "                                                                 \n",
      " dense_84 (Dense)            (None, 10)                90        \n",
      "                                                                 \n",
      "=================================================================\n",
      "Total params: 974\n",
      "Trainable params: 974\n",
      "Non-trainable params: 0\n",
      "_________________________________________________________________\n"
     ]
    }
   ],
   "source": [
    "model.summary()"
   ]
  },
  {
   "cell_type": "markdown",
   "metadata": {
    "hidden": true
   },
   "source": [
    "Wow, look at that performance!  \n",
    "\n",
    "That is great, but remember, we were dealing with simple black and white images.  With color, our basic neural net will have less success.\n",
    "\n",
    "We will explore more advanced tools in the coming days.\n"
   ]
  }
 ],
 "metadata": {
  "celltoolbar": "Raw Cell Format",
  "colab": {
   "collapsed_sections": [],
   "name": "intro-to-keras.ipynb",
   "provenance": []
  },
  "kernelspec": {
   "display_name": "tf_env",
   "language": "python",
   "name": "tf_env"
  },
  "language_info": {
   "codemirror_mode": {
    "name": "ipython",
    "version": 3
   },
   "file_extension": ".py",
   "mimetype": "text/x-python",
   "name": "python",
   "nbconvert_exporter": "python",
   "pygments_lexer": "ipython3",
   "version": "3.8.18"
  },
  "toc": {
   "base_numbering": 1,
   "nav_menu": {},
   "number_sections": true,
   "sideBar": true,
   "skip_h1_title": false,
   "title_cell": "Table of Contents",
   "title_sidebar": "Contents",
   "toc_cell": false,
   "toc_position": {},
   "toc_section_display": true,
   "toc_window_display": true
  },
  "varInspector": {
   "cols": {
    "lenName": 16,
    "lenType": 16,
    "lenVar": 40
   },
   "kernels_config": {
    "python": {
     "delete_cmd_postfix": "",
     "delete_cmd_prefix": "del ",
     "library": "var_list.py",
     "varRefreshCmd": "print(var_dic_list())"
    },
    "r": {
     "delete_cmd_postfix": ") ",
     "delete_cmd_prefix": "rm(",
     "library": "var_list.r",
     "varRefreshCmd": "cat(var_dic_list()) "
    }
   },
   "types_to_exclude": [
    "module",
    "function",
    "builtin_function_or_method",
    "instance",
    "_Feature"
   ],
   "window_display": false
  }
 },
 "nbformat": 4,
 "nbformat_minor": 4
}
