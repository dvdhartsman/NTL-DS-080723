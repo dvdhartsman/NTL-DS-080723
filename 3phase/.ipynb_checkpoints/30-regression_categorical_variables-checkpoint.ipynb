{
 "cells": [
  {
   "cell_type": "markdown",
   "metadata": {
    "heading_collapsed": true
   },
   "source": [
    "# Dealing with Categorical Features"
   ]
  },
  {
   "cell_type": "code",
   "execution_count": 1,
   "metadata": {
    "ExecuteTime": {
     "end_time": "2022-12-01T23:41:00.751910Z",
     "start_time": "2022-12-01T23:40:58.919436Z"
    },
    "hidden": true
   },
   "outputs": [],
   "source": [
    "import numpy as np\n",
    "import pandas as pd\n",
    "from matplotlib import pyplot as plt\n",
    "import seaborn as sns\n",
    "import statsmodels.api as sm\n",
    "from sklearn.preprocessing import StandardScaler, OneHotEncoder, OrdinalEncoder\n",
    "\n",
    "plt.style.use('seaborn-notebook')"
   ]
  },
  {
   "cell_type": "code",
   "execution_count": 4,
   "metadata": {},
   "outputs": [
    {
     "data": {
      "image/png": "[encoded data removed]",
      "text/plain": [
       "<Figure size 576x396 with 1 Axes>"
      ]
     },
     "metadata": {
      "needs_background": "light"
     },
     "output_type": "display_data"
    }
   ],
   "source": [
    "x = np.linspace(0, 10)\n",
    "sns.lineplot(x=x, y=2 *x);"
   ]
  },
  {
   "cell_type": "markdown",
   "metadata": {
    "hidden": true
   },
   "source": [
    "One issue we'd like to resolve is what to do with categorical features, i.e. predictors that represent categories rather than continua. In a Pandas DataFrame, these columns may well have strings or even other objects for values, but they need not. Sometimes integers are used to encode different categories, even when those categories have no natural ordering."
   ]
  },
  {
   "cell_type": "markdown",
   "metadata": {
    "hidden": true
   },
   "source": [
    "## Dummying - Theory"
   ]
  },
  {
   "cell_type": "markdown",
   "metadata": {
    "hidden": true
   },
   "source": [
    "One very effective way of dealing with categorical variables is to dummy them out. What this involves is making a new column for _each categorical value in the column we're dummying out_.\n",
    "\n",
    "These new columns will be filled only with 0's and 1's, a 1 representing the presence of the relevant categorical value.\n",
    "\n",
    "Let's look at a simple example. This is a dataset about Australian possums and you can find it on [Kaggle](https://www.kaggle.com/datasets/abrambeyer/openintro-possum)."
   ]
  },
  {
   "cell_type": "code",
   "execution_count": null,
   "metadata": {
    "ExecuteTime": {
     "end_time": "2022-12-01T23:41:00.782905Z",
     "start_time": "2022-12-01T23:41:00.753406Z"
    },
    "hidden": true
   },
   "outputs": [],
   "source": [
    "possums = pd.read_csv('data/possum.csv')"
   ]
  },
  {
   "cell_type": "code",
   "execution_count": null,
   "metadata": {
    "ExecuteTime": {
     "end_time": "2022-12-01T23:41:00.813905Z",
     "start_time": "2022-12-01T23:41:00.784405Z"
    },
    "hidden": true
   },
   "outputs": [],
   "source": [
    "possums.head()"
   ]
  },
  {
   "cell_type": "markdown",
   "metadata": {
    "heading_collapsed": true,
    "hidden": true
   },
   "source": [
    "## Problem Setup and EDA"
   ]
  },
  {
   "cell_type": "markdown",
   "metadata": {
    "hidden": true
   },
   "source": [
    "Let's suppose we want to try to model possum age as a function of some of the other variables. Let's first check our data types:"
   ]
  },
  {
   "cell_type": "code",
   "execution_count": null,
   "metadata": {
    "ExecuteTime": {
     "end_time": "2022-12-01T23:41:00.829405Z",
     "start_time": "2022-12-01T23:41:00.815405Z"
    },
    "hidden": true
   },
   "outputs": [],
   "source": [
    "possums.dtypes"
   ]
  },
  {
   "cell_type": "markdown",
   "metadata": {
    "hidden": true
   },
   "source": [
    "The floats are all usable just as they are. Clearly the `Pop` and `sex` columns we'll need to transform. What about the integers? Let's see what these variables are like:"
   ]
  },
  {
   "cell_type": "markdown",
   "metadata": {
    "heading_collapsed": true,
    "hidden": true
   },
   "source": [
    "### `'case'`"
   ]
  },
  {
   "cell_type": "markdown",
   "metadata": {
    "hidden": true
   },
   "source": [
    "The `case` variable just looks like an index that counts up from 1."
   ]
  },
  {
   "cell_type": "code",
   "execution_count": null,
   "metadata": {
    "ExecuteTime": {
     "end_time": "2022-12-01T23:41:01.154937Z",
     "start_time": "2022-12-01T23:41:00.830906Z"
    },
    "hidden": true
   },
   "outputs": [],
   "source": [
    "case_counts = possums['case'].value_counts()\n",
    "\n",
    "fig, ax = plt.subplots()\n",
    "ax.bar(case_counts.index, case_counts);"
   ]
  },
  {
   "cell_type": "markdown",
   "metadata": {
    "hidden": true
   },
   "source": [
    "We'll plan to keep this variable out of our model!"
   ]
  },
  {
   "cell_type": "markdown",
   "metadata": {
    "heading_collapsed": true,
    "hidden": true
   },
   "source": [
    "### `'site'`"
   ]
  },
  {
   "cell_type": "markdown",
   "metadata": {
    "hidden": true
   },
   "source": [
    "What about `site`?"
   ]
  },
  {
   "cell_type": "code",
   "execution_count": null,
   "metadata": {
    "ExecuteTime": {
     "end_time": "2022-12-01T23:41:01.294405Z",
     "start_time": "2022-12-01T23:41:01.156982Z"
    },
    "hidden": true,
    "scrolled": true
   },
   "outputs": [],
   "source": [
    "site_counts = possums['site'].value_counts()\n",
    "\n",
    "fig, ax = plt.subplots()\n",
    "ax.bar(site_counts.index, site_counts);"
   ]
  },
  {
   "cell_type": "markdown",
   "metadata": {
    "hidden": true
   },
   "source": [
    "Well this looks more interesting. But notice that we don't have any reason to think that the numbers of these sites are meaningful *as numbers*. We're going to want to treat this variable  in the same way that we'll treat `Pop` and `sex`, i.e. like a **categorical variable**."
   ]
  },
  {
   "cell_type": "markdown",
   "metadata": {
    "hidden": true
   },
   "source": [
    "Before we go any further let's also check for null values:"
   ]
  },
  {
   "cell_type": "code",
   "execution_count": null,
   "metadata": {
    "ExecuteTime": {
     "end_time": "2022-12-01T23:41:01.309935Z",
     "start_time": "2022-12-01T23:41:01.295406Z"
    },
    "hidden": true
   },
   "outputs": [],
   "source": [
    "possums.isna().sum()"
   ]
  },
  {
   "cell_type": "markdown",
   "metadata": {
    "hidden": true
   },
   "source": [
    "That's only three missing values. Let's go ahead and drop those rows:"
   ]
  },
  {
   "cell_type": "code",
   "execution_count": null,
   "metadata": {
    "ExecuteTime": {
     "end_time": "2022-12-01T23:41:01.325407Z",
     "start_time": "2022-12-01T23:41:01.311931Z"
    },
    "hidden": true
   },
   "outputs": [],
   "source": [
    "# Drop Nulls\n"
   ]
  },
  {
   "cell_type": "markdown",
   "metadata": {
    "hidden": true
   },
   "source": [
    "Now what if we wanted to compare this `site` variable with our target `age`? EDA with categorical variables can look a bit different from EDA with continuous variables. Check out [this post](https://medium.com/analytics-vidhya/tutorial-exploratory-data-analysis-eda-with-categorical-variables-6a569a3aea55) from FIS's own Erin Hoffman, for example.\n",
    "\n",
    "Taking a cue from Erin, we might try a histogram of age *for each value of our categorical `site` variable*:"
   ]
  },
  {
   "cell_type": "code",
   "execution_count": null,
   "metadata": {
    "ExecuteTime": {
     "end_time": "2022-12-01T23:41:01.666431Z",
     "start_time": "2022-12-01T23:41:01.327438Z"
    },
    "hidden": true
   },
   "outputs": [],
   "source": [
    "fig, ax = plt.subplots()\n",
    "\n",
    "for site in possums_no_nulls['site'].value_counts().index:\n",
    "    ax.hist(possums_no_nulls[possums_no_nulls['site'] == site]['age'],\n",
    "            alpha=0.4, label=f'site{site}')\n",
    "plt.legend()\n",
    "ax.set_title('Site vs. Age');"
   ]
  },
  {
   "cell_type": "markdown",
   "metadata": {
    "hidden": true
   },
   "source": [
    "That's a little hard to see. Let's break this into two plots:"
   ]
  },
  {
   "cell_type": "code",
   "execution_count": null,
   "metadata": {
    "ExecuteTime": {
     "end_time": "2022-12-01T23:41:02.115693Z",
     "start_time": "2022-12-01T23:41:01.667906Z"
    },
    "hidden": true
   },
   "outputs": [],
   "source": [
    "fig, (ax1, ax2) = plt.subplots(1, 2, figsize=(12, 4))\n",
    "\n",
    "for site in possums_no_nulls['site'].value_counts().index[:4]:\n",
    "    ax1.hist(possums_no_nulls[possums_no_nulls['site'] == site]['age'],\n",
    "            alpha=0.4, label=f'site{site}')\n",
    "ax1.legend()\n",
    "ax1.set_title('Site vs. Age')\n",
    "\n",
    "for site in possums_no_nulls['site'].value_counts().index[4:]:\n",
    "    ax2.hist(possums_no_nulls[possums_no_nulls['site'] == site]['age'],\n",
    "            alpha=0.4, label=f'site{site}')\n",
    "ax2.legend()\n",
    "ax2.set_title('Site vs. Age');"
   ]
  },
  {
   "cell_type": "markdown",
   "metadata": {
    "hidden": true
   },
   "source": [
    "That's a bit more illuminating."
   ]
  },
  {
   "cell_type": "markdown",
   "metadata": {
    "heading_collapsed": true,
    "hidden": true
   },
   "source": [
    "### `sex` and `Pop`"
   ]
  },
  {
   "cell_type": "markdown",
   "metadata": {
    "hidden": true
   },
   "source": [
    "What vales of `Pop` do we have?"
   ]
  },
  {
   "cell_type": "code",
   "execution_count": null,
   "metadata": {
    "ExecuteTime": {
     "end_time": "2022-12-01T23:41:02.131105Z",
     "start_time": "2022-12-01T23:41:02.117069Z"
    },
    "hidden": true
   },
   "outputs": [],
   "source": [
    "# Value Counts\n"
   ]
  },
  {
   "cell_type": "markdown",
   "metadata": {
    "hidden": true
   },
   "source": [
    "Kaggle tells us that these are all Australian possums, each possum coming either from a population in Victoria (`Pop = 'Vic'`) or from a population either in New South Wales or in Queensland (`Pop = 'other'`)."
   ]
  },
  {
   "cell_type": "markdown",
   "metadata": {
    "hidden": true
   },
   "source": [
    "Let's also see what this looks like when we compare it to `age`. This time we'll try a swarmplot from `seaborn`:"
   ]
  },
  {
   "cell_type": "code",
   "execution_count": null,
   "metadata": {
    "ExecuteTime": {
     "end_time": "2022-12-01T23:41:02.270595Z",
     "start_time": "2022-12-01T23:41:02.133069Z"
    },
    "hidden": true
   },
   "outputs": [],
   "source": [
    "sns.swarmplot(x=possums_no_nulls['Pop'], y=possums_no_nulls['age']);"
   ]
  },
  {
   "cell_type": "markdown",
   "metadata": {
    "hidden": true
   },
   "source": [
    "What about the `sex` variable?"
   ]
  },
  {
   "cell_type": "code",
   "execution_count": null,
   "metadata": {
    "ExecuteTime": {
     "end_time": "2022-12-01T23:41:02.394569Z",
     "start_time": "2022-12-01T23:41:02.272107Z"
    },
    "hidden": true
   },
   "outputs": [],
   "source": [
    "sns.swarmplot(x=possums_no_nulls['sex'], y=possums_no_nulls['age']);"
   ]
  },
  {
   "cell_type": "markdown",
   "metadata": {
    "hidden": true
   },
   "source": [
    "OK, good. Let's get to the dummy-coding."
   ]
  },
  {
   "cell_type": "markdown",
   "metadata": {
    "heading_collapsed": true,
    "hidden": true
   },
   "source": [
    "## Dummying - Code"
   ]
  },
  {
   "cell_type": "markdown",
   "metadata": {
    "heading_collapsed": true,
    "hidden": true
   },
   "source": [
    "### `pandas.get_dummies()`"
   ]
  },
  {
   "cell_type": "markdown",
   "metadata": {
    "hidden": true
   },
   "source": [
    "Let's use `pd.get_dummies()` on our variables:"
   ]
  },
  {
   "cell_type": "code",
   "execution_count": null,
   "metadata": {
    "ExecuteTime": {
     "end_time": "2022-12-01T23:41:02.425094Z",
     "start_time": "2022-12-01T23:41:02.396100Z"
    },
    "hidden": true
   },
   "outputs": [],
   "source": [
    "# Get Dummies\n"
   ]
  },
  {
   "cell_type": "markdown",
   "metadata": {
    "hidden": true
   },
   "source": [
    "The last four columns show the action of the dummying-out. Notice that `get_dummies()` selects the object columns by default. If we want to dummy out the `site` variable as well, we'll need to ask for that explicitly:"
   ]
  },
  {
   "cell_type": "code",
   "execution_count": null,
   "metadata": {
    "ExecuteTime": {
     "end_time": "2022-12-01T23:41:02.440569Z",
     "start_time": "2022-12-01T23:41:02.426569Z"
    },
    "hidden": true
   },
   "outputs": [],
   "source": [
    "# Dummy up Site\n"
   ]
  },
  {
   "cell_type": "markdown",
   "metadata": {
    "hidden": true
   },
   "source": [
    "Before we add these dummies to our data let's scale our numerical variables:"
   ]
  },
  {
   "cell_type": "code",
   "execution_count": null,
   "metadata": {
    "ExecuteTime": {
     "end_time": "2022-12-01T23:41:02.456069Z",
     "start_time": "2022-12-01T23:41:02.442070Z"
    },
    "hidden": true
   },
   "outputs": [],
   "source": [
    "# Create Numeric Dataframe\n"
   ]
  },
  {
   "cell_type": "code",
   "execution_count": null,
   "metadata": {
    "ExecuteTime": {
     "end_time": "2022-12-01T23:41:02.471596Z",
     "start_time": "2022-12-01T23:41:02.458070Z"
    },
    "hidden": true
   },
   "outputs": [],
   "source": [
    "# Standard Scaler!\n"
   ]
  },
  {
   "cell_type": "code",
   "execution_count": null,
   "metadata": {
    "ExecuteTime": {
     "end_time": "2022-12-01T23:41:02.502570Z",
     "start_time": "2022-12-01T23:41:02.473571Z"
    },
    "hidden": true
   },
   "outputs": [],
   "source": [
    "# Scaled, numeric dataframe\n"
   ]
  },
  {
   "cell_type": "markdown",
   "metadata": {
    "hidden": true
   },
   "source": [
    "Now let's add the dummies to our `DataFrame`:"
   ]
  },
  {
   "cell_type": "code",
   "execution_count": null,
   "metadata": {
    "ExecuteTime": {
     "end_time": "2022-12-01T23:41:02.518070Z",
     "start_time": "2022-12-01T23:41:02.504069Z"
    },
    "hidden": true
   },
   "outputs": [],
   "source": [
    "# object categoricals\n"
   ]
  },
  {
   "cell_type": "code",
   "execution_count": null,
   "metadata": {
    "ExecuteTime": {
     "end_time": "2022-12-01T23:41:02.549069Z",
     "start_time": "2022-12-01T23:41:02.519569Z"
    },
    "hidden": true
   },
   "outputs": [],
   "source": [
    "# Concat it all together\n"
   ]
  },
  {
   "cell_type": "markdown",
   "metadata": {
    "heading_collapsed": true,
    "hidden": true
   },
   "source": [
    "## Digression: `sklearn.preprocessing.OneHotEncoder`"
   ]
  },
  {
   "cell_type": "markdown",
   "metadata": {
    "hidden": true
   },
   "source": [
    "The `get_dummies()` function is useful for EDA, but when you're building machine learning models and pipelines in Phase 3, it will be important to do any one-hot encoding by using `sklearn`'s tool, the `OneHotEncoder`. The main advantage of this is that it stores information about the columns and creates a persistent function that can be used on future data of the same form. This idea of transforming \"future data of the same form\" is central to  the predictive statistical work we'll do in later phases. See [this page](https://stackoverflow.com/questions/36631163/pandas-get-dummies-vs-sklearns-onehotencoder-what-are-the-pros-and-cons) for more.\n",
    "\n",
    "Let's try using this tool now. We can compare and contrast its functionality with `get_dummies()`."
   ]
  },
  {
   "cell_type": "code",
   "execution_count": null,
   "metadata": {
    "ExecuteTime": {
     "end_time": "2022-12-01T23:41:02.564602Z",
     "start_time": "2022-12-01T23:41:02.550570Z"
    },
    "hidden": true
   },
   "outputs": [],
   "source": [
    "# OHE!\n"
   ]
  },
  {
   "cell_type": "code",
   "execution_count": null,
   "metadata": {
    "ExecuteTime": {
     "end_time": "2022-12-01T23:41:02.580100Z",
     "start_time": "2022-12-01T23:41:02.566069Z"
    },
    "hidden": true
   },
   "outputs": [],
   "source": [
    "# Encoded\n"
   ]
  },
  {
   "cell_type": "markdown",
   "metadata": {
    "hidden": true
   },
   "source": [
    "Notice that by default the `.transform()` method returns a **sparse matrix**. If we want to see the 1's and 0's we can either override this by setting `sparse=False` in the encoder instance or we can call `todense()` on the sparse matrix:"
   ]
  },
  {
   "cell_type": "code",
   "execution_count": null,
   "metadata": {
    "ExecuteTime": {
     "end_time": "2022-12-01T23:41:02.595570Z",
     "start_time": "2022-12-01T23:41:02.584570Z"
    },
    "hidden": true
   },
   "outputs": [],
   "source": [
    "ohe2 = OneHotEncoder(sparse=False)\n",
    "ohe2.fit(possum_cats)\n",
    "possums_encoded2 = ohe2.transform(possum_cats)\n",
    "possums_encoded2"
   ]
  },
  {
   "cell_type": "code",
   "execution_count": null,
   "metadata": {
    "ExecuteTime": {
     "end_time": "2022-12-01T23:41:02.611069Z",
     "start_time": "2022-12-01T23:41:02.599070Z"
    },
    "hidden": true
   },
   "outputs": [],
   "source": [
    "possums_encoded.todense()"
   ]
  },
  {
   "cell_type": "markdown",
   "metadata": {
    "hidden": true
   },
   "source": [
    "We can also make a `DataFrame` and use the feature names saved in the fit-call as our column headers:"
   ]
  },
  {
   "cell_type": "code",
   "execution_count": null,
   "metadata": {
    "ExecuteTime": {
     "end_time": "2022-12-01T23:41:02.642068Z",
     "start_time": "2022-12-01T23:41:02.612569Z"
    },
    "hidden": true
   },
   "outputs": [],
   "source": [
    "# Pandas, pandas everywhere\n"
   ]
  },
  {
   "cell_type": "markdown",
   "metadata": {
    "hidden": true
   },
   "source": [
    "To cut down on **multicollinearity** among our predictors, in practice we'll not use *all* of the categories for a given variable but rather leave one out. Note that we can do this *without loss of any information*: Take the `sex` column above: If we remove the `x2_m` column we could reproduce it from the values of `x2_f`, since we know that non-female possums (`x2_f=0`) must be male (`x2_m=1`) and that female possums (`x2_f=1`) cannot be male (`x2_m=0`).\n",
    "\n",
    "This streamlining is easily done with the `sklearn` tool:"
   ]
  },
  {
   "cell_type": "code",
   "execution_count": null,
   "metadata": {
    "ExecuteTime": {
     "end_time": "2022-12-01T23:41:02.673070Z",
     "start_time": "2022-12-01T23:41:02.643569Z"
    },
    "hidden": true
   },
   "outputs": [],
   "source": [
    "ohe3 = OneHotEncoder(drop='first')\n",
    "ohe3.fit(possum_cats)\n",
    "possums_encoded = pd.DataFrame(ohe3.transform(possum_cats).todense(),\n",
    "                               columns=ohe3.get_feature_names())\n",
    "possums_encoded"
   ]
  },
  {
   "cell_type": "code",
   "execution_count": null,
   "metadata": {
    "ExecuteTime": {
     "end_time": "2022-12-01T23:41:02.704069Z",
     "start_time": "2022-12-01T23:41:02.675070Z"
    },
    "hidden": true
   },
   "outputs": [],
   "source": [
    "X2 = pd.concat([X_nums_scaled, possums_encoded], axis=1)\n",
    "X2"
   ]
  },
  {
   "cell_type": "markdown",
   "metadata": {
    "heading_collapsed": true,
    "hidden": true
   },
   "source": [
    "## `OrdinalEncoder`"
   ]
  },
  {
   "cell_type": "markdown",
   "metadata": {
    "hidden": true
   },
   "source": [
    "Occasionally we want a coding for our categories that preserves some intuitive *ordering* of those categories.\n",
    "\n",
    "Suppose we had the results of some survey as our dataset, where answers to questions are of the form:\n",
    "\n",
    "- Strongly Disagree\n",
    "- Disagree\n",
    "- Neutral\n",
    "- Agree\n",
    "- Strongly Agree\n",
    "\n",
    "In this case we'd be throwing away information if we used the one-hot strategy. So we might try an encoding like:\n",
    "\n",
    "<table>\n",
    "    <tr>\n",
    "        <th>Category</th>\n",
    "        <th>Code</th>\n",
    "    </tr>\n",
    "    <tr>\n",
    "        <td>Strongly Disagree</td>\n",
    "        <td>0</td>\n",
    "    </tr>\n",
    "    <tr>\n",
    "        <td>Disagree</td>\n",
    "        <td>1</td>\n",
    "    </tr>\n",
    "    <tr>\n",
    "        <td>Neutral</td>\n",
    "        <td>2</td>\n",
    "    </tr>\n",
    "    <tr>\n",
    "        <td>Agree</td>\n",
    "        <td>3</td>\n",
    "    </tr>\n",
    "    <tr>\n",
    "        <td>Strongly Agree</td>\n",
    "        <td>4</td>\n",
    "    </tr>\n",
    "</table>"
   ]
  },
  {
   "cell_type": "markdown",
   "metadata": {
    "hidden": true
   },
   "source": [
    "To effect such a strategy we can use `sklearn.preprocessing.OrdinalEncoder`:"
   ]
  },
  {
   "cell_type": "code",
   "execution_count": null,
   "metadata": {
    "ExecuteTime": {
     "end_time": "2022-12-01T23:41:02.719569Z",
     "start_time": "2022-12-01T23:41:02.705569Z"
    },
    "hidden": true
   },
   "outputs": [],
   "source": [
    "survey_results = (3 * ['Strongly Disagree'])\n",
    "survey_results.extend(3 * ['Disagree'])\n",
    "survey_results.extend(3 * ['Neutral'])\n",
    "survey_results.extend(3 * ['Agree'])\n",
    "survey_results.extend(3 * ['Strongly Agree'])\n",
    "\n",
    "np.random.seed(42)\n",
    "np.random.shuffle(survey_results)\n",
    "survey_preds = pd.DataFrame(survey_results)\n",
    "survey_preds"
   ]
  },
  {
   "cell_type": "code",
   "execution_count": null,
   "metadata": {
    "ExecuteTime": {
     "end_time": "2022-12-01T23:41:02.735070Z",
     "start_time": "2022-12-01T23:41:02.721569Z"
    },
    "hidden": true
   },
   "outputs": [],
   "source": [
    "categories = [['Strongly Disagree', 'Disagree', 'Neutral', 'Agree', 'Strongly Agree']]\n",
    "ords = OrdinalEncoder(categories=categories)\n",
    "ords.fit(survey_preds)\n",
    "ords.transform(survey_preds)"
   ]
  },
  {
   "cell_type": "markdown",
   "metadata": {
    "heading_collapsed": true,
    "hidden": true
   },
   "source": [
    "## Modeling"
   ]
  },
  {
   "cell_type": "markdown",
   "metadata": {
    "hidden": true
   },
   "source": [
    "Now let's throw our data into a linear regression model."
   ]
  },
  {
   "cell_type": "code",
   "execution_count": null,
   "metadata": {
    "ExecuteTime": {
     "end_time": "2022-12-01T23:41:02.750569Z",
     "start_time": "2022-12-01T23:41:02.736570Z"
    },
    "hidden": true
   },
   "outputs": [],
   "source": [
    "y = possums_no_nulls['age']"
   ]
  },
  {
   "cell_type": "code",
   "execution_count": null,
   "metadata": {
    "ExecuteTime": {
     "end_time": "2022-12-01T23:41:02.766069Z",
     "start_time": "2022-12-01T23:41:02.752569Z"
    },
    "hidden": true
   },
   "outputs": [],
   "source": [
    "X2_with_const = sm.add_constant(X2)"
   ]
  },
  {
   "cell_type": "code",
   "execution_count": null,
   "metadata": {
    "ExecuteTime": {
     "end_time": "2022-12-01T23:41:02.797070Z",
     "start_time": "2022-12-01T23:41:02.768070Z"
    },
    "hidden": true,
    "scrolled": false
   },
   "outputs": [],
   "source": [
    "sm.OLS(y, X2_with_const).fit().summary()"
   ]
  },
  {
   "cell_type": "markdown",
   "metadata": {
    "hidden": true
   },
   "source": [
    "Notice how the model now includes parameters for our dummies! But here's a question: How do we **interpret** them?\n",
    "\n",
    "In the case of skull width (`skullw`), we have a beta of 0.2891, and that means that we can expect a possum's age to grow by 0.2891 years if we increase its skull width by 1 mm.\n",
    "\n",
    "But take the beta for `x1_other`. The value there is -1.6976. How can we understand this? This value encodes the difference we can expect in our target (age, here) when we *increase the variable by one unit*. But for this variabe, \"increasing it by one unit\" means going from `x1_other=0` to `x1_other=1`, and *that* means going from a possum from the Victoria population to a possum from either the New South Wales or the Queensand population. So it's critical always to keep in mind when interpreting the coefficients of categorical variables in a linear regression model that they must be interpreted against a **baseline**, which is where the values of the inputs are 0. Notice that, for the same reason, this also affects the interpretation of the intercept term."
   ]
  },
  {
   "cell_type": "markdown",
   "metadata": {
    "hidden": true
   },
   "source": [
    "For more on the interpretation of regression coefficients for categorical variables, see [Erin's repo](https://github.com/hoffm386/coefficients-of-dropped-categorical-variables)."
   ]
  },
  {
   "cell_type": "markdown",
   "metadata": {
    "heading_collapsed": true,
    "hidden": true
   },
   "source": [
    "## Exercise"
   ]
  },
  {
   "cell_type": "markdown",
   "metadata": {
    "hidden": true
   },
   "source": [
    "Go back to the variable `X` that has *all* the categorical columns (NOT `X2`) and try building a regression model based on dropping *other* categories than what we just dropped. For example, what happens if we drop the \"female\" rather than the \"male\" column, or if we drop the \"other population\" column rather than the \"Victoria population\" column?"
   ]
  },
  {
   "cell_type": "code",
   "execution_count": null,
   "metadata": {
    "hidden": true
   },
   "outputs": [],
   "source": []
  }
 ],
 "metadata": {
  "kernelspec": {
   "display_name": "Python (learn-env)",
   "language": "python",
   "name": "learn-env"
  },
  "language_info": {
   "codemirror_mode": {
    "name": "ipython",
    "version": 3
   },
   "file_extension": ".py",
   "mimetype": "text/x-python",
   "name": "python",
   "nbconvert_exporter": "python",
   "pygments_lexer": "ipython3",
   "version": "3.8.5"
  },
  "toc": {
   "base_numbering": 1,
   "nav_menu": {},
   "number_sections": true,
   "sideBar": true,
   "skip_h1_title": false,
   "title_cell": "Table of Contents",
   "title_sidebar": "Contents",
   "toc_cell": false,
   "toc_position": {},
   "toc_section_display": true,
   "toc_window_display": false
  },
  "varInspector": {
   "cols": {
    "lenName": 16,
    "lenType": 16,
    "lenVar": 40
   },
   "kernels_config": {
    "python": {
     "delete_cmd_postfix": "",
     "delete_cmd_prefix": "del ",
     "library": "var_list.py",
     "varRefreshCmd": "print(var_dic_list())"
    },
    "r": {
     "delete_cmd_postfix": ") ",
     "delete_cmd_prefix": "rm(",
     "library": "var_list.r",
     "varRefreshCmd": "cat(var_dic_list()) "
    }
   },
   "types_to_exclude": [
    "module",
    "function",
    "builtin_function_or_method",
    "instance",
    "_Feature"
   ],
   "window_display": false
  }
 },
 "nbformat": 4,
 "nbformat_minor": 4
}
